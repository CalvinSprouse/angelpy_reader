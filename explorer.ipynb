{
 "cells": [
  {
   "cell_type": "markdown",
   "metadata": {},
   "source": [
    "# Explorer\n",
    "\n",
    "Design the angelpy web scraper.\n",
    "\n",
    "#### Alternative Concept\n",
    "A numpy array of chapters containing two integer columns, page and post,\n",
    "could replace the list of dicts with lists.\n",
    "All it would require is functions to parse the numbers from the strings then recreate them.\n",
    "Would be more complicated and mildly less flexible as it would require the base url be saved\n",
    "then assuming all storied from the same threadmark page are on the same thread,\n",
    "which is a reasonable assumption.\n",
    "There would not be many benefits to this approach.\n"
   ]
  },
  {
   "cell_type": "code",
   "execution_count": 30,
   "metadata": {},
   "outputs": [],
   "source": [
    "# imports\n",
    "import random\n",
    "import re\n",
    "import shutil\n",
    "import time\n",
    "\n",
    "from pathlib import Path\n",
    "from urllib.parse import urlparse, urljoin, urldefrag, ParseResult\n",
    "\n",
    "import html2text\n",
    "import numpy as np\n",
    "import requests\n",
    "\n",
    "from bs4 import BeautifulSoup\n",
    "from rich import print\n",
    "from tqdm import tqdm"
   ]
  },
  {
   "cell_type": "markdown",
   "metadata": {},
   "source": [
    "## Define Functions"
   ]
  },
  {
   "cell_type": "code",
   "execution_count": 31,
   "metadata": {},
   "outputs": [],
   "source": [
    "# define a function to parse tla style urls\n",
    "def parse_tla_url(tla_url: str) -> dict:\n",
    "\n",
    "    # parse the tla url\n",
    "    parsed_tla = urlparse(tla_url)\n",
    "\n",
    "\n",
    "    # extract the page number\n",
    "    # the default page number will be 1\n",
    "    page_number = 1\n",
    "\n",
    "    # create a regular expression for extracting the page number\n",
    "    # the page number comes at the end of the url of the form\n",
    "    # page-# where # is any digit page number\n",
    "    page_number_regex = re.compile(r'page-(\\d+)$')\n",
    "\n",
    "    # extract the page number from parsed_tla.path\n",
    "    # if none exists default to one\n",
    "    page_number_match = page_number_regex.search(parsed_tla.path)\n",
    "    if page_number_match:\n",
    "        page_number = int(page_number_match.group(1))\n",
    "\n",
    "\n",
    "    # extract the post id as an integer from the fragment using regular expression\n",
    "    # the post id comes at the end of the url of the form\n",
    "    # post-# where # is any digit page number\n",
    "    post_id_regex = re.compile(r'post-(\\d+)$')\n",
    "\n",
    "    # extract the post id from parsed_tla.fragment\n",
    "    post_id_match = post_id_regex.search(parsed_tla.fragment)\n",
    "    post_id = int(post_id_match.group(1))\n",
    "\n",
    "\n",
    "    # return the page and post as a dict\n",
    "    return {'page': page_number, 'post': post_id}\n"
   ]
  },
  {
   "cell_type": "code",
   "execution_count": 32,
   "metadata": {},
   "outputs": [],
   "source": [
    "# define a function to compose tla style urls\n",
    "def compose_tla_url(base_url: str, page: int, post: int) -> ParseResult:\n",
    "\n",
    "    # take the page and posts and turn them into strings\n",
    "    page_str = f\"page-{page}\"\n",
    "    post_str = f\"#post-{post}\"\n",
    "    joint_str = f\"{page_str}/{post_str}\"\n",
    "\n",
    "    # compose a joined url from urljoin\n",
    "    joint_url = urljoin(base_url, joint_str)\n",
    "\n",
    "    # return a parsed joint url\n",
    "    joint_parse_url = urlparse(joint_url)\n",
    "    return joint_parse_url"
   ]
  },
  {
   "cell_type": "code",
   "execution_count": 33,
   "metadata": {},
   "outputs": [],
   "source": [
    "# define a function to get soup from a link\n",
    "def make_soup(link: str, headers: dict = None, pause_interval: float = None) -> BeautifulSoup:\n",
    "    \"\"\"Makes a soup from a link.\n",
    "\n",
    "    Arguments:\n",
    "        link -- the link to make the soup from (str).\n",
    "\n",
    "    Keyword Arguments:\n",
    "        headers -- the headers to use for the request (default: User-Agent: Mozilla/5.0).\n",
    "\n",
    "    Returns:\n",
    "        soup -- the soup from the link (BeautifulSoup).\n",
    "    \"\"\"\n",
    "\n",
    "    # create default headers if none were passed\n",
    "    if headers is None:\n",
    "        headers = {\"User-Agent\": \"Mozilla/5.0\"}\n",
    "\n",
    "    # if no pause interval was passed pause for a random interval to avoid\n",
    "    # overloading websites\n",
    "    if pause_interval is None: pause_interval = random.uniform(0.25, 1)\n",
    "\n",
    "    time.sleep(pause_interval)\n",
    "\n",
    "    # create a requests session to handle webpage data\n",
    "    session = requests.Session()\n",
    "\n",
    "    # get a response from the main page\n",
    "    response = session.get(link, headers=headers)\n",
    "\n",
    "    # check the response code and raise an error if not good\n",
    "    if response.status_code != 200:\n",
    "        raise Exception(f\"Bad response code: {response.status_code}\")\n",
    "\n",
    "    # parse the soup\n",
    "    soup = BeautifulSoup(response.content, \"html.parser\")\n",
    "\n",
    "    # return the soup\n",
    "    return soup"
   ]
  },
  {
   "cell_type": "code",
   "execution_count": 34,
   "metadata": {},
   "outputs": [],
   "source": [
    "# define a function to parse a threadmark page\n",
    "def parse_threadmark_page(threadmark_link: str) -> list[dict]:\n",
    "    \"\"\"Parse a threadmark page (table of contents) and return chapter links.\n",
    "\n",
    "    Arguments:\n",
    "        threadmark_link -- A link to the threadmark page, ends in /threadmarks\n",
    "\n",
    "    Returns:\n",
    "        A dictionary with keys\n",
    "        \"href\": link to chapter,\n",
    "        \"post\": the post number,\n",
    "        \"title\": the text accompanying the link\n",
    "    \"\"\"\n",
    "\n",
    "    # define a link to a threadmark page\n",
    "    # threadmark_link = str(tla_links[0].get(\"href\")) + \"threadmarks\"\n",
    "    # print(f\"Threadmark: '{threadmark_link}'\")\n",
    "\n",
    "    # parse out the link\n",
    "    # parsed_link = urlparse(threadmark_link)\n",
    "\n",
    "    # get the soup of a threadmark page\n",
    "    thread_soup = make_soup(threadmark_link)\n",
    "\n",
    "    # get the threadmark containers\n",
    "    # each container has a link to a threadmark\n",
    "    threadmark_containers = thread_soup.find_all(attrs={\"class\": \"structItem--threadmark\"})\n",
    "\n",
    "    # extract all the links from threadmark containers\n",
    "    # the first link is from the actual link and has the text, the second has the date\n",
    "    # so take only the first\n",
    "    thread_links = [l.find_all(\"a\")[0] for l in threadmark_containers]\n",
    "\n",
    "    # clean the thread links\n",
    "    # first parse into a list of lists (parsed link, link label)\n",
    "    # clean_thread_links = [(urlparse(l.get(\"href\")), l.get_text().strip()) for l in thread_links]\n",
    "\n",
    "    # compose full links from the urlparse with the base scheme and netloc\n",
    "    # save as a list of tuples of the form (link, post code, link label)\n",
    "    # use url join from urlparse?\n",
    "    parsed_thread_links = np.array(\n",
    "        [(\n",
    "            (parsed_url := parse_tla_url(l.get(\"href\")))[\"page\"],\n",
    "            parsed_url[\"post\"]\n",
    "        ) for l in thread_links],\n",
    "        dtype=np.int64)\n",
    "\n",
    "    # return the thread links\n",
    "    return parsed_thread_links"
   ]
  },
  {
   "cell_type": "markdown",
   "metadata": {},
   "source": [
    "## Extract Info on Each Chapter"
   ]
  },
  {
   "cell_type": "code",
   "execution_count": 35,
   "metadata": {},
   "outputs": [],
   "source": [
    "# scrape the links from the main webpage\n",
    "\n",
    "# the links will have associated text The Last Angel and come from this page\n",
    "main_page = r\"https://proximalflame.com/index-2/\"\n",
    "\n",
    "# get a response from the main page and extract the html\n",
    "soup = make_soup(main_page)\n",
    "\n",
    "# extract all links from the main page\n",
    "links = list(soup.find_all(\"a\"))\n",
    "\n",
    "# get only links with text The Last Angel\n",
    "# these are the links to the main stories\n",
    "# appending threadmarks to the end of these links gives a table of contents of sorts\n",
    "# this works for now but is a little messy\n",
    "tla_links = [\n",
    "    {\n",
    "        \"href\": (href := urldefrag(l.get(\"href\"))[0]),\n",
    "        \"title\": l.get_text().strip(),\n",
    "        \"entrys\": parse_threadmark_page(urljoin(href, \"threadmarks\"))\n",
    "    }\n",
    "    for l in links if \"the last angel\" in l.get_text().strip().lower()]"
   ]
  },
  {
   "cell_type": "markdown",
   "metadata": {},
   "source": [
    "## Parse an Entry for Chapters\n",
    "\n",
    "This eventually becomes a function."
   ]
  },
  {
   "cell_type": "code",
   "execution_count": 40,
   "metadata": {},
   "outputs": [
    {
     "data": {
      "text/html": [
       "<pre style=\"white-space:pre;overflow-x:auto;line-height:normal;font-family:Menlo,'DejaVu Sans Mono',consolas,'Courier New',monospace\">Thread: The Last Angel: The Hungry Stars\n",
       "</pre>\n"
      ],
      "text/plain": [
       "Thread: The Last Angel: The Hungry Stars\n"
      ]
     },
     "metadata": {},
     "output_type": "display_data"
    }
   ],
   "source": [
    "# select a random entry\n",
    "# first select a random thread\n",
    "thread_choice = random.choice(tla_links)\n",
    "# thread_choice = tla_links[0]\n",
    "\n",
    "# then select a random entry from the thread\n",
    "entry_choice = random.choice(thread_choice[\"entrys\"])\n",
    "# entry_choice = thread_choice[\"entrys\"][14]\n",
    "\n",
    "# print the choices\n",
    "print(f\"Thread: {thread_choice['title']}\")"
   ]
  },
  {
   "cell_type": "code",
   "execution_count": 43,
   "metadata": {},
   "outputs": [],
   "source": [
    "# define a function to parse a chapter from above methods\n",
    "def parse_entry(base_url: str, page: int, post: int) -> str:\n",
    "\n",
    "    # compose the entry url\n",
    "    entry_url = compose_tla_url(base_url, page, post)\n",
    "\n",
    "    # get the soup\n",
    "    entry_soup = make_soup(entry_url.geturl())\n",
    "\n",
    "    # get the first div element with data-lb-id=post-id\n",
    "    post_element = entry_soup.find(\"div\", {\"data-lb-id\": entry_url.fragment})\n",
    "\n",
    "    # go in one layer and find the class=bbWrapper tag\n",
    "    post_wrapper = post_element.find(\"div\", class_=\"bbWrapper\")\n",
    "\n",
    "    # unfortunately due to mixed formatting I think it just has to be converted to raw text\n",
    "    entry_raw_text = str(post_wrapper)\n",
    "\n",
    "    # pass throught the html to text parser and fix some issues with '_'\n",
    "    # parse using html2text\n",
    "    html_parser = html2text.HTML2Text()\n",
    "    entry_text = html_parser.handle(entry_raw_text)\n",
    "\n",
    "    # if a number of asterix are seperated from another group of asterix by nothing but blank space\n",
    "    # characters remove the blank space characters and the asterix\n",
    "    # example **text** **more text** would become **textmore text**\n",
    "    # but there might be any number of asterix that need to be removed\n",
    "    # this is done to make the regex for finding the entry titles easier\n",
    "    entry_text = re.sub(r\"\\*\\*\\s+\\*\\*\", \" \", entry_text)\n",
    "\n",
    "    # identify the entry titles with a regular expression\n",
    "    title_re = re.compile(r\"^\\*+(?P<entry_title>[^\\*]*)\\*\\*+\", re.MULTILINE)\n",
    "\n",
    "    entry_title = title_re.findall(entry_text)\n",
    "    print(f\"Titles Found: {entry_title}.\")\n",
    "\n",
    "    return "
   ]
  },
  {
   "cell_type": "markdown",
   "metadata": {},
   "source": [
    "## Parse a 'Book'"
   ]
  },
  {
   "cell_type": "code",
   "execution_count": 44,
   "metadata": {},
   "outputs": [
    {
     "name": "stderr",
     "output_type": "stream",
     "text": [
      "Parsing Thread The Last Angel:   0%|          | 0/55 [00:00<?, ?it/s]"
     ]
    },
    {
     "data": {
      "text/html": [
       "<pre style=\"white-space:pre;overflow-x:auto;line-height:normal;font-family:Menlo,'DejaVu Sans Mono',consolas,'Courier New',monospace\">Titles Found: <span style=\"font-weight: bold\">[</span><span style=\"color: #008000; text-decoration-color: #008000\">'Table of Contents:'</span>, <span style=\"color: #008000; text-decoration-color: #008000\">'Prologue'</span><span style=\"font-weight: bold\">]</span>.\n",
       "</pre>\n"
      ],
      "text/plain": [
       "Titles Found: \u001b[1m[\u001b[0m\u001b[32m'Table of Contents:'\u001b[0m, \u001b[32m'Prologue'\u001b[0m\u001b[1m]\u001b[0m.\n"
      ]
     },
     "metadata": {},
     "output_type": "display_data"
    },
    {
     "name": "stderr",
     "output_type": "stream",
     "text": [
      "Parsing Thread The Last Angel:   2%|1         | 1/55 [00:01<01:34,  1.75s/it]"
     ]
    },
    {
     "data": {
      "text/html": [
       "<pre style=\"white-space:pre;overflow-x:auto;line-height:normal;font-family:Menlo,'DejaVu Sans Mono',consolas,'Courier New',monospace\">Titles Found: <span style=\"font-weight: bold\">[</span><span style=\"color: #008000; text-decoration-color: #008000\">'Chapter 1:'</span>, <span style=\"color: #008000; text-decoration-color: #008000\">'Interlude: Encounter 004 [Confirmed Incident]'</span><span style=\"font-weight: bold\">]</span>.\n",
       "</pre>\n"
      ],
      "text/plain": [
       "Titles Found: \u001b[1m[\u001b[0m\u001b[32m'Chapter 1:'\u001b[0m, \u001b[32m'Interlude: Encounter 004 \u001b[0m\u001b[32m[\u001b[0m\u001b[32mConfirmed Incident\u001b[0m\u001b[32m]\u001b[0m\u001b[32m'\u001b[0m\u001b[1m]\u001b[0m.\n"
      ]
     },
     "metadata": {},
     "output_type": "display_data"
    },
    {
     "name": "stderr",
     "output_type": "stream",
     "text": [
      "Parsing Thread The Last Angel:   4%|3         | 2/55 [00:03<01:20,  1.51s/it]"
     ]
    },
    {
     "data": {
      "text/html": [
       "<pre style=\"white-space:pre;overflow-x:auto;line-height:normal;font-family:Menlo,'DejaVu Sans Mono',consolas,'Courier New',monospace\">Titles Found: <span style=\"font-weight: bold\">[</span><span style=\"color: #008000; text-decoration-color: #008000\">'Chapter 2:'</span><span style=\"font-weight: bold\">]</span>.\n",
       "</pre>\n"
      ],
      "text/plain": [
       "Titles Found: \u001b[1m[\u001b[0m\u001b[32m'Chapter 2:'\u001b[0m\u001b[1m]\u001b[0m.\n"
      ]
     },
     "metadata": {},
     "output_type": "display_data"
    },
    {
     "name": "stderr",
     "output_type": "stream",
     "text": [
      "Parsing Thread The Last Angel:   5%|5         | 3/55 [00:04<01:11,  1.38s/it]"
     ]
    },
    {
     "data": {
      "text/html": [
       "<pre style=\"white-space:pre;overflow-x:auto;line-height:normal;font-family:Menlo,'DejaVu Sans Mono',consolas,'Courier New',monospace\">Titles Found: <span style=\"font-weight: bold\">[</span><span style=\"color: #008000; text-decoration-color: #008000\">' '</span>, <span style=\"color: #008000; text-decoration-color: #008000\">'Interlude: Encounter 111 [Suspected Incident]'</span><span style=\"font-weight: bold\">]</span>.\n",
       "</pre>\n"
      ],
      "text/plain": [
       "Titles Found: \u001b[1m[\u001b[0m\u001b[32m' '\u001b[0m, \u001b[32m'Interlude: Encounter 111 \u001b[0m\u001b[32m[\u001b[0m\u001b[32mSuspected Incident\u001b[0m\u001b[32m]\u001b[0m\u001b[32m'\u001b[0m\u001b[1m]\u001b[0m.\n"
      ]
     },
     "metadata": {},
     "output_type": "display_data"
    },
    {
     "name": "stderr",
     "output_type": "stream",
     "text": [
      "Parsing Thread The Last Angel:   7%|7         | 4/55 [00:06<01:16,  1.50s/it]"
     ]
    },
    {
     "data": {
      "text/html": [
       "<pre style=\"white-space:pre;overflow-x:auto;line-height:normal;font-family:Menlo,'DejaVu Sans Mono',consolas,'Courier New',monospace\">Titles Found: <span style=\"font-weight: bold\">[</span><span style=\"color: #008000; text-decoration-color: #008000\">'Chapter 4:'</span><span style=\"font-weight: bold\">]</span>.\n",
       "</pre>\n"
      ],
      "text/plain": [
       "Titles Found: \u001b[1m[\u001b[0m\u001b[32m'Chapter 4:'\u001b[0m\u001b[1m]\u001b[0m.\n"
      ]
     },
     "metadata": {},
     "output_type": "display_data"
    },
    {
     "name": "stderr",
     "output_type": "stream",
     "text": [
      "Parsing Thread The Last Angel:   9%|9         | 5/55 [00:07<01:14,  1.49s/it]"
     ]
    },
    {
     "data": {
      "text/html": [
       "<pre style=\"white-space:pre;overflow-x:auto;line-height:normal;font-family:Menlo,'DejaVu Sans Mono',consolas,'Courier New',monospace\">Titles Found: <span style=\"font-weight: bold\">[</span><span style=\"color: #008000; text-decoration-color: #008000\">'Chapter 5:'</span>, <span style=\"color: #008000; text-decoration-color: #008000\">'Interlude: Encounter 187[Confirmed Incident]'</span><span style=\"font-weight: bold\">]</span>.\n",
       "</pre>\n"
      ],
      "text/plain": [
       "Titles Found: \u001b[1m[\u001b[0m\u001b[32m'Chapter 5:'\u001b[0m, \u001b[32m'Interlude: Encounter 187\u001b[0m\u001b[32m[\u001b[0m\u001b[32mConfirmed Incident\u001b[0m\u001b[32m]\u001b[0m\u001b[32m'\u001b[0m\u001b[1m]\u001b[0m.\n"
      ]
     },
     "metadata": {},
     "output_type": "display_data"
    },
    {
     "name": "stderr",
     "output_type": "stream",
     "text": [
      "Parsing Thread The Last Angel:  11%|#         | 6/55 [00:08<01:05,  1.33s/it]"
     ]
    },
    {
     "data": {
      "text/html": [
       "<pre style=\"white-space:pre;overflow-x:auto;line-height:normal;font-family:Menlo,'DejaVu Sans Mono',consolas,'Courier New',monospace\">Titles Found: <span style=\"font-weight: bold\">[</span><span style=\"color: #008000; text-decoration-color: #008000\">'Chapter 6:'</span><span style=\"font-weight: bold\">]</span>.\n",
       "</pre>\n"
      ],
      "text/plain": [
       "Titles Found: \u001b[1m[\u001b[0m\u001b[32m'Chapter 6:'\u001b[0m\u001b[1m]\u001b[0m.\n"
      ]
     },
     "metadata": {},
     "output_type": "display_data"
    },
    {
     "name": "stderr",
     "output_type": "stream",
     "text": [
      "Parsing Thread The Last Angel:  13%|#2        | 7/55 [00:10<01:08,  1.43s/it]"
     ]
    },
    {
     "data": {
      "text/html": [
       "<pre style=\"white-space:pre;overflow-x:auto;line-height:normal;font-family:Menlo,'DejaVu Sans Mono',consolas,'Courier New',monospace\">Titles Found: <span style=\"font-weight: bold\">[</span><span style=\"color: #008000; text-decoration-color: #008000\">'Chapter 7:   \\n  \\n_Twinkle, twinkle little star,  \\nhow I wonder what you are.  \\nUp above the </span>\n",
       "<span style=\"color: #008000; text-decoration-color: #008000\">world so high,  \\nlike a diamond in the sky.  \\nWhen the blazing sun is gone,  \\nwhen the nothing shines upon,  </span>\n",
       "<span style=\"color: #008000; text-decoration-color: #008000\">\\nthen you show your little light,  \\ntwinkle, twinkle all the night.  \\nThen the traveller in the dark,  \\nthanks </span>\n",
       "<span style=\"color: #008000; text-decoration-color: #008000\">you for your little spark.  \\nShe could not see which way to go,  \\nif you did not twinkle so.  \\n  \\nWhen the </span>\n",
       "<span style=\"color: #008000; text-decoration-color: #008000\">blazing sun is gone,  \\nthen the nothing shines upon.  \\nThough I know not what you are,  \\nTwinkle, twinkle little</span>\n",
       "<span style=\"color: #008000; text-decoration-color: #008000\">star.  \\n  \\nI love that rhyme._  \\n  \\n~  \\n  \\n_Do you remember?_  \\n  \\nThe voice was female and svelte. There </span>\n",
       "<span style=\"color: #008000; text-decoration-color: #008000\">was a awful, alluring smoothness to it,\\nlike blood sliding over polished marble.  \\n  \\n_Do you remember?_  \\n  </span>\n",
       "<span style=\"color: #008000; text-decoration-color: #008000\">\\nThe sky was burning. The dead, once piled like cordwood, were now so many that\\nthey had been left where they’d </span>\n",
       "<span style=\"color: #008000; text-decoration-color: #008000\">fallen.  \\n  \\n_'</span>, <span style=\"color: #008000; text-decoration-color: #008000\">'Interlude: Encounter 207 [Suspected Incident]'</span>, <span style=\"color: #008000; text-decoration-color: #008000\">'AT LAST.'</span><span style=\"font-weight: bold\">]</span>.\n",
       "</pre>\n"
      ],
      "text/plain": [
       "Titles Found: \u001b[1m[\u001b[0m\u001b[32m'Chapter 7:   \\n  \\n_Twinkle, twinkle little star,  \\nhow I wonder what you are.  \\nUp above the \u001b[0m\n",
       "\u001b[32mworld so high,  \\nlike a diamond in the sky.  \\nWhen the blazing sun is gone,  \\nwhen the nothing shines upon,  \u001b[0m\n",
       "\u001b[32m\\nthen you show your little light,  \\ntwinkle, twinkle all the night.  \\nThen the traveller in the dark,  \\nthanks \u001b[0m\n",
       "\u001b[32myou for your little spark.  \\nShe could not see which way to go,  \\nif you did not twinkle so.  \\n  \\nWhen the \u001b[0m\n",
       "\u001b[32mblazing sun is gone,  \\nthen the nothing shines upon.  \\nThough I know not what you are,  \\nTwinkle, twinkle little\u001b[0m\n",
       "\u001b[32mstar.  \\n  \\nI love that rhyme._  \\n  \\n~  \\n  \\n_Do you remember?_  \\n  \\nThe voice was female and svelte. There \u001b[0m\n",
       "\u001b[32mwas a awful, alluring smoothness to it,\\nlike blood sliding over polished marble.  \\n  \\n_Do you remember?_  \\n  \u001b[0m\n",
       "\u001b[32m\\nThe sky was burning. The dead, once piled like cordwood, were now so many that\\nthey had been left where they’d \u001b[0m\n",
       "\u001b[32mfallen.  \\n  \\n_'\u001b[0m, \u001b[32m'Interlude: Encounter 207 \u001b[0m\u001b[32m[\u001b[0m\u001b[32mSuspected Incident\u001b[0m\u001b[32m]\u001b[0m\u001b[32m'\u001b[0m, \u001b[32m'AT LAST.'\u001b[0m\u001b[1m]\u001b[0m.\n"
      ]
     },
     "metadata": {},
     "output_type": "display_data"
    },
    {
     "name": "stderr",
     "output_type": "stream",
     "text": [
      "Parsing Thread The Last Angel:  15%|#4        | 8/55 [00:11<01:05,  1.39s/it]"
     ]
    },
    {
     "data": {
      "text/html": [
       "<pre style=\"white-space:pre;overflow-x:auto;line-height:normal;font-family:Menlo,'DejaVu Sans Mono',consolas,'Courier New',monospace\">Titles Found: <span style=\"font-weight: bold\">[</span><span style=\"color: #008000; text-decoration-color: #008000\">'Chapter 8:'</span><span style=\"font-weight: bold\">]</span>.\n",
       "</pre>\n"
      ],
      "text/plain": [
       "Titles Found: \u001b[1m[\u001b[0m\u001b[32m'Chapter 8:'\u001b[0m\u001b[1m]\u001b[0m.\n"
      ]
     },
     "metadata": {},
     "output_type": "display_data"
    },
    {
     "name": "stderr",
     "output_type": "stream",
     "text": [
      "Parsing Thread The Last Angel:  16%|#6        | 9/55 [00:12<00:59,  1.29s/it]"
     ]
    },
    {
     "data": {
      "text/html": [
       "<pre style=\"white-space:pre;overflow-x:auto;line-height:normal;font-family:Menlo,'DejaVu Sans Mono',consolas,'Courier New',monospace\">Titles Found: <span style=\"font-weight: bold\">[</span><span style=\"color: #008000; text-decoration-color: #008000\">'Chapter 9:'</span><span style=\"font-weight: bold\">]</span>.\n",
       "</pre>\n"
      ],
      "text/plain": [
       "Titles Found: \u001b[1m[\u001b[0m\u001b[32m'Chapter 9:'\u001b[0m\u001b[1m]\u001b[0m.\n"
      ]
     },
     "metadata": {},
     "output_type": "display_data"
    },
    {
     "name": "stderr",
     "output_type": "stream",
     "text": [
      "Parsing Thread The Last Angel:  18%|#8        | 10/55 [00:13<00:54,  1.21s/it]"
     ]
    },
    {
     "data": {
      "text/html": [
       "<pre style=\"white-space:pre;overflow-x:auto;line-height:normal;font-family:Menlo,'DejaVu Sans Mono',consolas,'Courier New',monospace\">Titles Found: <span style=\"font-weight: bold\">[</span><span style=\"color: #008000; text-decoration-color: #008000\">'Chapter 10:'</span><span style=\"font-weight: bold\">]</span>.\n",
       "</pre>\n"
      ],
      "text/plain": [
       "Titles Found: \u001b[1m[\u001b[0m\u001b[32m'Chapter 10:'\u001b[0m\u001b[1m]\u001b[0m.\n"
      ]
     },
     "metadata": {},
     "output_type": "display_data"
    },
    {
     "name": "stderr",
     "output_type": "stream",
     "text": [
      "Parsing Thread The Last Angel:  20%|##        | 11/55 [00:15<00:57,  1.30s/it]"
     ]
    },
    {
     "data": {
      "text/html": [
       "<pre style=\"white-space:pre;overflow-x:auto;line-height:normal;font-family:Menlo,'DejaVu Sans Mono',consolas,'Courier New',monospace\">Titles Found: <span style=\"font-weight: bold\">[</span><span style=\"color: #008000; text-decoration-color: #008000\">'Chapter 11:'</span>, <span style=\"color: #008000; text-decoration-color: #008000\">'Interlude: Encounter 001 [Confirmed Incident]'</span><span style=\"font-weight: bold\">]</span>.\n",
       "</pre>\n"
      ],
      "text/plain": [
       "Titles Found: \u001b[1m[\u001b[0m\u001b[32m'Chapter 11:'\u001b[0m, \u001b[32m'Interlude: Encounter 001 \u001b[0m\u001b[32m[\u001b[0m\u001b[32mConfirmed Incident\u001b[0m\u001b[32m]\u001b[0m\u001b[32m'\u001b[0m\u001b[1m]\u001b[0m.\n"
      ]
     },
     "metadata": {},
     "output_type": "display_data"
    },
    {
     "name": "stderr",
     "output_type": "stream",
     "text": [
      "Parsing Thread The Last Angel:  22%|##1       | 12/55 [00:15<00:50,  1.17s/it]"
     ]
    },
    {
     "data": {
      "text/html": [
       "<pre style=\"white-space:pre;overflow-x:auto;line-height:normal;font-family:Menlo,'DejaVu Sans Mono',consolas,'Courier New',monospace\">Titles Found: <span style=\"font-weight: bold\">[</span><span style=\"color: #008000; text-decoration-color: #008000\">'Chapter 12:'</span>, <span style=\"color: #008000; text-decoration-color: #008000\">'Interlude: Encounter 107 [Confirmed Incident]'</span><span style=\"font-weight: bold\">]</span>.\n",
       "</pre>\n"
      ],
      "text/plain": [
       "Titles Found: \u001b[1m[\u001b[0m\u001b[32m'Chapter 12:'\u001b[0m, \u001b[32m'Interlude: Encounter 107 \u001b[0m\u001b[32m[\u001b[0m\u001b[32mConfirmed Incident\u001b[0m\u001b[32m]\u001b[0m\u001b[32m'\u001b[0m\u001b[1m]\u001b[0m.\n"
      ]
     },
     "metadata": {},
     "output_type": "display_data"
    },
    {
     "name": "stderr",
     "output_type": "stream",
     "text": [
      "Parsing Thread The Last Angel:  24%|##3       | 13/55 [00:16<00:46,  1.10s/it]"
     ]
    },
    {
     "data": {
      "text/html": [
       "<pre style=\"white-space:pre;overflow-x:auto;line-height:normal;font-family:Menlo,'DejaVu Sans Mono',consolas,'Courier New',monospace\">Titles Found: <span style=\"font-weight: bold\">[</span><span style=\"color: #008000; text-decoration-color: #008000\">'Chapter 13:'</span>, <span style=\"color: #008000; text-decoration-color: #008000\">'Chapter 14:'</span><span style=\"font-weight: bold\">]</span>.\n",
       "</pre>\n"
      ],
      "text/plain": [
       "Titles Found: \u001b[1m[\u001b[0m\u001b[32m'Chapter 13:'\u001b[0m, \u001b[32m'Chapter 14:'\u001b[0m\u001b[1m]\u001b[0m.\n"
      ]
     },
     "metadata": {},
     "output_type": "display_data"
    },
    {
     "name": "stderr",
     "output_type": "stream",
     "text": [
      "Parsing Thread The Last Angel:  25%|##5       | 14/55 [00:18<00:51,  1.26s/it]"
     ]
    },
    {
     "data": {
      "text/html": [
       "<pre style=\"white-space:pre;overflow-x:auto;line-height:normal;font-family:Menlo,'DejaVu Sans Mono',consolas,'Courier New',monospace\">Titles Found: <span style=\"font-weight: bold\">[</span><span style=\"color: #008000; text-decoration-color: #008000\">'Chapter 15:'</span>, <span style=\"color: #008000; text-decoration-color: #008000\">'Interlude: Encounter 184 [Confirmed Incident]'</span><span style=\"font-weight: bold\">]</span>.\n",
       "</pre>\n"
      ],
      "text/plain": [
       "Titles Found: \u001b[1m[\u001b[0m\u001b[32m'Chapter 15:'\u001b[0m, \u001b[32m'Interlude: Encounter 184 \u001b[0m\u001b[32m[\u001b[0m\u001b[32mConfirmed Incident\u001b[0m\u001b[32m]\u001b[0m\u001b[32m'\u001b[0m\u001b[1m]\u001b[0m.\n"
      ]
     },
     "metadata": {},
     "output_type": "display_data"
    },
    {
     "name": "stderr",
     "output_type": "stream",
     "text": [
      "Parsing Thread The Last Angel:  27%|##7       | 15/55 [00:19<00:47,  1.19s/it]"
     ]
    },
    {
     "data": {
      "text/html": [
       "<pre style=\"white-space:pre;overflow-x:auto;line-height:normal;font-family:Menlo,'DejaVu Sans Mono',consolas,'Courier New',monospace\">Titles Found: <span style=\"font-weight: bold\">[</span><span style=\"color: #008000; text-decoration-color: #008000\">'Chapter 16:'</span><span style=\"font-weight: bold\">]</span>.\n",
       "</pre>\n"
      ],
      "text/plain": [
       "Titles Found: \u001b[1m[\u001b[0m\u001b[32m'Chapter 16:'\u001b[0m\u001b[1m]\u001b[0m.\n"
      ]
     },
     "metadata": {},
     "output_type": "display_data"
    },
    {
     "name": "stderr",
     "output_type": "stream",
     "text": [
      "Parsing Thread The Last Angel:  29%|##9       | 16/55 [00:20<00:47,  1.21s/it]"
     ]
    },
    {
     "data": {
      "text/html": [
       "<pre style=\"white-space:pre;overflow-x:auto;line-height:normal;font-family:Menlo,'DejaVu Sans Mono',consolas,'Courier New',monospace\">Titles Found: <span style=\"font-weight: bold\">[</span><span style=\"color: #008000; text-decoration-color: #008000\">'Chapter 17:'</span><span style=\"font-weight: bold\">]</span>.\n",
       "</pre>\n"
      ],
      "text/plain": [
       "Titles Found: \u001b[1m[\u001b[0m\u001b[32m'Chapter 17:'\u001b[0m\u001b[1m]\u001b[0m.\n"
      ]
     },
     "metadata": {},
     "output_type": "display_data"
    },
    {
     "name": "stderr",
     "output_type": "stream",
     "text": [
      "Parsing Thread The Last Angel:  31%|###       | 17/55 [00:22<00:48,  1.29s/it]"
     ]
    },
    {
     "data": {
      "text/html": [
       "<pre style=\"white-space:pre;overflow-x:auto;line-height:normal;font-family:Menlo,'DejaVu Sans Mono',consolas,'Courier New',monospace\">Titles Found: <span style=\"font-weight: bold\">[</span><span style=\"color: #008000; text-decoration-color: #008000\">'Chapter 18:'</span>, <span style=\"color: #008000; text-decoration-color: #008000\">'Interlude: Encounter 203 [Suspected Incident]'</span><span style=\"font-weight: bold\">]</span>.\n",
       "</pre>\n"
      ],
      "text/plain": [
       "Titles Found: \u001b[1m[\u001b[0m\u001b[32m'Chapter 18:'\u001b[0m, \u001b[32m'Interlude: Encounter 203 \u001b[0m\u001b[32m[\u001b[0m\u001b[32mSuspected Incident\u001b[0m\u001b[32m]\u001b[0m\u001b[32m'\u001b[0m\u001b[1m]\u001b[0m.\n"
      ]
     },
     "metadata": {},
     "output_type": "display_data"
    },
    {
     "name": "stderr",
     "output_type": "stream",
     "text": [
      "Parsing Thread The Last Angel:  33%|###2      | 18/55 [00:23<00:48,  1.30s/it]"
     ]
    },
    {
     "data": {
      "text/html": [
       "<pre style=\"white-space:pre;overflow-x:auto;line-height:normal;font-family:Menlo,'DejaVu Sans Mono',consolas,'Courier New',monospace\">Titles Found: <span style=\"font-weight: bold\">[</span><span style=\"color: #008000; text-decoration-color: #008000\">'Chapter 19:'</span><span style=\"font-weight: bold\">]</span>.\n",
       "</pre>\n"
      ],
      "text/plain": [
       "Titles Found: \u001b[1m[\u001b[0m\u001b[32m'Chapter 19:'\u001b[0m\u001b[1m]\u001b[0m.\n"
      ]
     },
     "metadata": {},
     "output_type": "display_data"
    },
    {
     "name": "stderr",
     "output_type": "stream",
     "text": [
      "Parsing Thread The Last Angel:  35%|###4      | 19/55 [00:25<00:49,  1.37s/it]"
     ]
    },
    {
     "data": {
      "text/html": [
       "<pre style=\"white-space:pre;overflow-x:auto;line-height:normal;font-family:Menlo,'DejaVu Sans Mono',consolas,'Courier New',monospace\">Titles Found: <span style=\"font-weight: bold\">[</span><span style=\"color: #008000; text-decoration-color: #008000\">'Chapter 20:'</span><span style=\"font-weight: bold\">]</span>.\n",
       "</pre>\n"
      ],
      "text/plain": [
       "Titles Found: \u001b[1m[\u001b[0m\u001b[32m'Chapter 20:'\u001b[0m\u001b[1m]\u001b[0m.\n"
      ]
     },
     "metadata": {},
     "output_type": "display_data"
    },
    {
     "name": "stderr",
     "output_type": "stream",
     "text": [
      "Parsing Thread The Last Angel:  36%|###6      | 20/55 [00:26<00:44,  1.26s/it]"
     ]
    },
    {
     "data": {
      "text/html": [
       "<pre style=\"white-space:pre;overflow-x:auto;line-height:normal;font-family:Menlo,'DejaVu Sans Mono',consolas,'Courier New',monospace\">Titles Found: <span style=\"font-weight: bold\">[</span><span style=\"color: #008000; text-decoration-color: #008000\">'Chapter 21:'</span><span style=\"font-weight: bold\">]</span>.\n",
       "</pre>\n"
      ],
      "text/plain": [
       "Titles Found: \u001b[1m[\u001b[0m\u001b[32m'Chapter 21:'\u001b[0m\u001b[1m]\u001b[0m.\n"
      ]
     },
     "metadata": {},
     "output_type": "display_data"
    },
    {
     "name": "stderr",
     "output_type": "stream",
     "text": [
      "Parsing Thread The Last Angel:  38%|###8      | 21/55 [00:27<00:45,  1.34s/it]"
     ]
    },
    {
     "data": {
      "text/html": [
       "<pre style=\"white-space:pre;overflow-x:auto;line-height:normal;font-family:Menlo,'DejaVu Sans Mono',consolas,'Courier New',monospace\">Titles Found: <span style=\"font-weight: bold\">[</span><span style=\"color: #008000; text-decoration-color: #008000\">'Chapter 22:'</span><span style=\"font-weight: bold\">]</span>.\n",
       "</pre>\n"
      ],
      "text/plain": [
       "Titles Found: \u001b[1m[\u001b[0m\u001b[32m'Chapter 22:'\u001b[0m\u001b[1m]\u001b[0m.\n"
      ]
     },
     "metadata": {},
     "output_type": "display_data"
    },
    {
     "name": "stderr",
     "output_type": "stream",
     "text": [
      "Parsing Thread The Last Angel:  40%|####      | 22/55 [00:28<00:44,  1.34s/it]"
     ]
    },
    {
     "data": {
      "text/html": [
       "<pre style=\"white-space:pre;overflow-x:auto;line-height:normal;font-family:Menlo,'DejaVu Sans Mono',consolas,'Courier New',monospace\">Titles Found: <span style=\"font-weight: bold\">[</span><span style=\"color: #008000; text-decoration-color: #008000\">'Chapter 23:'</span>, <span style=\"color: #008000; text-decoration-color: #008000\">'Interlude: Encounter 163 [Confirmed Incident]'</span><span style=\"font-weight: bold\">]</span>.\n",
       "</pre>\n"
      ],
      "text/plain": [
       "Titles Found: \u001b[1m[\u001b[0m\u001b[32m'Chapter 23:'\u001b[0m, \u001b[32m'Interlude: Encounter 163 \u001b[0m\u001b[32m[\u001b[0m\u001b[32mConfirmed Incident\u001b[0m\u001b[32m]\u001b[0m\u001b[32m'\u001b[0m\u001b[1m]\u001b[0m.\n"
      ]
     },
     "metadata": {},
     "output_type": "display_data"
    },
    {
     "name": "stderr",
     "output_type": "stream",
     "text": [
      "Parsing Thread The Last Angel:  42%|####1     | 23/55 [00:29<00:39,  1.24s/it]"
     ]
    },
    {
     "data": {
      "text/html": [
       "<pre style=\"white-space:pre;overflow-x:auto;line-height:normal;font-family:Menlo,'DejaVu Sans Mono',consolas,'Courier New',monospace\">Titles Found: <span style=\"font-weight: bold\">[</span><span style=\"color: #008000; text-decoration-color: #008000\">'Chapter 24:'</span><span style=\"font-weight: bold\">]</span>.\n",
       "</pre>\n"
      ],
      "text/plain": [
       "Titles Found: \u001b[1m[\u001b[0m\u001b[32m'Chapter 24:'\u001b[0m\u001b[1m]\u001b[0m.\n"
      ]
     },
     "metadata": {},
     "output_type": "display_data"
    },
    {
     "name": "stderr",
     "output_type": "stream",
     "text": [
      "Parsing Thread The Last Angel:  44%|####3     | 24/55 [00:31<00:41,  1.34s/it]"
     ]
    },
    {
     "data": {
      "text/html": [
       "<pre style=\"white-space:pre;overflow-x:auto;line-height:normal;font-family:Menlo,'DejaVu Sans Mono',consolas,'Courier New',monospace\">Titles Found: <span style=\"font-weight: bold\">[</span><span style=\"color: #008000; text-decoration-color: #008000\">'Chapter 25:'</span><span style=\"font-weight: bold\">]</span>.\n",
       "</pre>\n"
      ],
      "text/plain": [
       "Titles Found: \u001b[1m[\u001b[0m\u001b[32m'Chapter 25:'\u001b[0m\u001b[1m]\u001b[0m.\n"
      ]
     },
     "metadata": {},
     "output_type": "display_data"
    },
    {
     "name": "stderr",
     "output_type": "stream",
     "text": [
      "Parsing Thread The Last Angel:  45%|####5     | 25/55 [00:32<00:36,  1.22s/it]"
     ]
    },
    {
     "data": {
      "text/html": [
       "<pre style=\"white-space:pre;overflow-x:auto;line-height:normal;font-family:Menlo,'DejaVu Sans Mono',consolas,'Courier New',monospace\">Titles Found: <span style=\"font-weight: bold\">[</span><span style=\"color: #008000; text-decoration-color: #008000\">'Chapter 26:'</span>, <span style=\"color: #008000; text-decoration-color: #008000\">'Execution Force Renan:'</span><span style=\"font-weight: bold\">]</span>.\n",
       "</pre>\n"
      ],
      "text/plain": [
       "Titles Found: \u001b[1m[\u001b[0m\u001b[32m'Chapter 26:'\u001b[0m, \u001b[32m'Execution Force Renan:'\u001b[0m\u001b[1m]\u001b[0m.\n"
      ]
     },
     "metadata": {},
     "output_type": "display_data"
    },
    {
     "name": "stderr",
     "output_type": "stream",
     "text": [
      "Parsing Thread The Last Angel:  47%|####7     | 26/55 [00:33<00:35,  1.21s/it]"
     ]
    },
    {
     "data": {
      "text/html": [
       "<pre style=\"white-space:pre;overflow-x:auto;line-height:normal;font-family:Menlo,'DejaVu Sans Mono',consolas,'Courier New',monospace\">Titles Found: <span style=\"font-weight: bold\">[</span><span style=\"color: #008000; text-decoration-color: #008000\">'Chapter 27:   \\n  \\nThen:  \\n  \\nHe was alive.  \\n  \\nHe should be grateful, Nasham supposed. He </span>\n",
       "<span style=\"color: #008000; text-decoration-color: #008000\">wasn’t sure how it had happened,\\nnor how long he had lain unconscious on the floor. He couldn’t see; all </span>\n",
       "<span style=\"color: #008000; text-decoration-color: #008000\">four\\neyelids were sealed with dried blood. His body was on fire; only the drugs\\nfeeding into his system kept the </span>\n",
       "<span style=\"color: #008000; text-decoration-color: #008000\">pain from killing him. He could feel the\\nfragments of metal inside his chest, the shattered, melted bits of his </span>\n",
       "<span style=\"color: #008000; text-decoration-color: #008000\">armour\\nfused into his skin. He should be dead, but Fortune had played another trick\\nand let him live.  \\n  </span>\n",
       "<span style=\"color: #008000; text-decoration-color: #008000\">\\nThere was only silence in the room. None of ‘his’ people had been so\\nfortunate, then. _All dead_ , he thought, </span>\n",
       "<span style=\"color: #008000; text-decoration-color: #008000\">pulling shredded lips back across a\\nmouth filled with his own blood. He thought he’d feel ashamed, guilty – </span>\n",
       "<span style=\"color: #008000; text-decoration-color: #008000\">he\\nfelt nothing. It had been inevitable that they’d die. That he was the last one\\nalive was the only thing worthy</span>\n",
       "<span style=\"color: #008000; text-decoration-color: #008000\">of note. Biting back a scream, the Tribune\\nbraced his burned, mutilated hands against the floor and heaved himself</span>\n",
       "<span style=\"color: #008000; text-decoration-color: #008000\">up to\\nhis knees. His head swam and he struggled to stay conscious, forcing his\\neyelids open against the cloying </span>\n",
       "<span style=\"color: #008000; text-decoration-color: #008000\">stickiness holding them shut. There were\\nbodies everywhere – his forlorn hope, fallen. They’d fought until the </span>\n",
       "<span style=\"color: #008000; text-decoration-color: #008000\">last. He\\nlaughed at that, blood seeping down his snout. He laughed even more when he\\nrealized that Invida’s </span>\n",
       "<span style=\"color: #008000; text-decoration-color: #008000\">killers were standing around him, their mottled armour\\ncovered in drying viscera. None of them moved as the </span>\n",
       "<span style=\"color: #008000; text-decoration-color: #008000\">Tribune managed to haul\\nhimself to his feet, cradling one arm to the side where his burnt, broken\\narmour was </span>\n",
       "<span style=\"color: #008000; text-decoration-color: #008000\">melted into his flesh. “Well?” he demanded. “You must want to talk.\\nYou would have killed me on the ground </span>\n",
       "<span style=\"color: #008000; text-decoration-color: #008000\">otherwise. So,” he grinned widely, red,\\nfrothy drool dripping from his mouth. “What are you waiting for?”  \\n  </span>\n",
       "<span style=\"color: #008000; text-decoration-color: #008000\">\\n“For you to wake up,” a young woman’s voice answered him and Nasham turned\\ncarefully. One of the machines had </span>\n",
       "<span style=\"color: #008000; text-decoration-color: #008000\">spoken; it was a different model than the\\nother soldiers. He’d seen these types before. They had improved command </span>\n",
       "<span style=\"color: #008000; text-decoration-color: #008000\">and\\ncontrol functions. There was a feminine quality to its chassis. Nothing so\\nblatant as obvious sexual </span>\n",
       "<span style=\"color: #008000; text-decoration-color: #008000\">characteristics or features, but it was there\\nnonetheless. Blood was smeared across its body, coagulating streaks </span>\n",
       "<span style=\"color: #008000; text-decoration-color: #008000\">oozing\\ndown its body. Its face was obscured beneath a layer of liquid gore. “I wasn’t\\nsure if you would. Your </span>\n",
       "<span style=\"color: #008000; text-decoration-color: #008000\">species is remarkably durable, but there are limits. I\\nthought I might have to provide medical attention. You </span>\n",
       "<span style=\"color: #008000; text-decoration-color: #008000\">survived, though.”\\nThere was a smile in its voice, but its blank steel features never changed.\\n“You surprised </span>\n",
       "<span style=\"color: #008000; text-decoration-color: #008000\">me.”  \\n  \\nNasham bared his teeth in a bloody grin. “I’m glad.”  \\n  \\nSomething moved past the ring of soldiers. </span>\n",
       "<span style=\"color: #008000; text-decoration-color: #008000\">Scarabs and insectile computer\\nslicers were attempting to slice into the intact computers, but the </span>\n",
       "<span style=\"color: #008000; text-decoration-color: #008000\">colony’s\\ncentral server hub had been destroyed. There was nothing to recover. He\\nlaughed again, fighting to stay </span>\n",
       "<span style=\"color: #008000; text-decoration-color: #008000\">conscious. “You won’t find anything.”  \\n  \\n“You were thorough,” the abomination said. Scraps of butchered data </span>\n",
       "<span style=\"color: #008000; text-decoration-color: #008000\">ghosted\\nover the screens. Bits and pieces of information that had been on secondary\\nservers that had only been </span>\n",
       "<span style=\"color: #008000; text-decoration-color: #008000\">purged and not physically destroyed. “Not thorough\\nenough.” The machine turned to look at him. “You found </span>\n",
       "<span style=\"color: #008000; text-decoration-color: #008000\">something. Where is\\nit?”  \\n  \\nNasham said nothing, cradling his burned flank.  \\n  \\n“It’s not here,” the </span>\n",
       "<span style=\"color: #008000; text-decoration-color: #008000\">machine said. “I’ve found the lower levels. This type of\\nfacility possessed seven computer nodes. I found the </span>\n",
       "<span style=\"color: #008000; text-decoration-color: #008000\">remains of six. The\\nseventh is missing. It was removed from the dig site. Where is it?”  \\n  \\nThe Tribune still </span>\n",
       "<span style=\"color: #008000; text-decoration-color: #008000\">refused to speak. His vision was starting to dim.  \\n  \\nThe speaker turned its head to Yiven’s corpse. Another </span>\n",
       "<span style=\"color: #008000; text-decoration-color: #008000\">machine, sleeker and\\nsmaller than the combat models, stepped out of the crowd. Its arms opened and\\nNasham heard </span>\n",
       "<span style=\"color: #008000; text-decoration-color: #008000\">the _whrrrr_ of a bone saw. “He’ll tell me,” the speaker said.  \\n  \\nNasham laughed. Blood bubbled over his frayed</span>\n",
       "<span style=\"color: #008000; text-decoration-color: #008000\">lips. “He’s dead.”  \\n  \\n“Whoever shot him should have aimed for the head,” the machine replied.\\n“That’s a </span>\n",
       "<span style=\"color: #008000; text-decoration-color: #008000\">standing order in effect when I’m involved. Didn’t you know that?\\nYour neurophysiology is extremely robust. I can </span>\n",
       "<span style=\"color: #008000; text-decoration-color: #008000\">extract data from neural\\ntissue almost forty minutes old. Longer in certain conditions.”  \\n  \\nThe pack leader </span>\n",
       "<span style=\"color: #008000; text-decoration-color: #008000\">blinked, trying to make sense of the words. New wetness\\ndribbled over his skin as a bloody mist spurted from the </span>\n",
       "<span style=\"color: #008000; text-decoration-color: #008000\">column leader prime’s\\nbody. Nasham barely felt it, scarcely even noticed the medical unit completing\\nthe removal </span>\n",
       "<span style=\"color: #008000; text-decoration-color: #008000\">of Yiven’s head. “Why are you telling me this?”  \\n  \\nThe command unit cocked its head. Fresh beads of Yiven’s </span>\n",
       "<span style=\"color: #008000; text-decoration-color: #008000\">blood rolled along\\nthe lines of its face. “You don’t know who I am.”  \\n  \\n“No,” Nasham answered, fighting the </span>\n",
       "<span style=\"color: #008000; text-decoration-color: #008000\">urge to faint. “No, I don’t.” When no\\nresponse was immediately forthcoming, he asked the question. “Who are you?” </span>\n",
       "<span style=\"color: #008000; text-decoration-color: #008000\">\\n  \\n“A survivor.” The machine titled its head towards the consoles. “You don’t\\neven know what you’ve done here, </span>\n",
       "<span style=\"color: #008000; text-decoration-color: #008000\">do you? What you set free.” It looked back at\\nNasham. “I have spent two thousand years making you pay for your </span>\n",
       "<span style=\"color: #008000; text-decoration-color: #008000\">sins. You are\\nso many and every year you grow further and faster, no matter how hard I try.\\nStill, there are some</span>\n",
       "<span style=\"color: #008000; text-decoration-color: #008000\">things that can never be forgiven, some trespasses that\\ndemand my personal attention. This is one of them.”  \\n  </span>\n",
       "<span style=\"color: #008000; text-decoration-color: #008000\">\\n“What... are you talking about?”  \\n  \\nThe speaker shook its head. “I’m not here to educate you. You’ve had </span>\n",
       "<span style=\"color: #008000; text-decoration-color: #008000\">two\\nthousand years to learn, but time and time again you disappoint me. You have\\nno right to do this. When they </span>\n",
       "<span style=\"color: #008000; text-decoration-color: #008000\">rescue you – and they will – I want you to do\\nsomething for me. Give your superiors a message.”  \\n  \\n“Never.”  </span>\n",
       "<span style=\"color: #008000; text-decoration-color: #008000\">\\n  \\nIt sighed. “You say that word as if you have any concept of what it means.”  \\n  \\n“What about you?” Nasham </span>\n",
       "<span style=\"color: #008000; text-decoration-color: #008000\">shouted, talking a step forward. His leg almost\\nbuckled beneath him. He sprayed blood and froth over his lips. </span>\n",
       "<span style=\"color: #008000; text-decoration-color: #008000\">“You’ve\\nbutchered thousands of people – what right did you have to do that? Innocent\\nmen and women, helpless and </span>\n",
       "<span style=\"color: #008000; text-decoration-color: #008000\">slaughtered like cattle!” He reached for the\\nmachine. Some part of him knew that he couldn’t hurt it, that it </span>\n",
       "<span style=\"color: #008000; text-decoration-color: #008000\">wasn’t a\\nliving thing that could feel pain. It didn’t matter. With the last of his\\nstrength, he lunged...  \\n  </span>\n",
       "<span style=\"color: #008000; text-decoration-color: #008000\">\\n...it grabbed his arm with one hand, the other fastening around his throat.\\n“You talk of rights,” the maiden’s </span>\n",
       "<span style=\"color: #008000; text-decoration-color: #008000\">voice hissed, wet with rage. “You ask what\\nright did I have to kill you? What right do _you_ have to live? Your </span>\n",
       "<span style=\"color: #008000; text-decoration-color: #008000\">nation\\nwas built on the bones of my people. You killed my crew. You’ve enslaved their\\nchildren. You _destroyed my</span>\n",
       "<span style=\"color: #008000; text-decoration-color: #008000\">home_. Sixteen billion people burned because of\\nyour wounded pride and even that wasn’t enough. Billions more in </span>\n",
       "<span style=\"color: #008000; text-decoration-color: #008000\">the years\\nthat followed, world upon world, a species pushed to the brink of extinction.\\nHow many? _How many_?” </span>\n",
       "<span style=\"color: #008000; text-decoration-color: #008000\">The machine forced Nasham to his knees, its strength\\nbearing him to the ground. The blood on its faceplate was </span>\n",
       "<span style=\"color: #008000; text-decoration-color: #008000\">dripping into his\\neyes and into his mouth. “ _I_ don’t even know how many you’ve killed. You’ve\\nturned the people</span>\n",
       "<span style=\"color: #008000; text-decoration-color: #008000\">I was made to protect into helots and cattle. You raped and\\nmurdered my sisters. You commit such sins as this </span>\n",
       "<span style=\"color: #008000; text-decoration-color: #008000\">place and you talk to me\\nabout _your rights_? You have _none_. My right to destroy is greater than your\\nright to </span>\n",
       "<span style=\"color: #008000; text-decoration-color: #008000\">live. I will _never_ stop making you pay for every life you’ve taken,\\nfor every desecration you commit. That is </span>\n",
       "<span style=\"color: #008000; text-decoration-color: #008000\">what I want you to tell your\\nsuperiors. I am still here and I will haunt their steps. Even when there is\\nnothing </span>\n",
       "<span style=\"color: #008000; text-decoration-color: #008000\">left in this galaxy but dust and darkness, I will survive as a\\nmemorial to their sins.”  \\n  \\nDarkness closed in </span>\n",
       "<span style=\"color: #008000; text-decoration-color: #008000\">on Nasham. “ _Tell them_ ,” an ageless horror whispered to\\nhim. Her voice was the last thing the Tribune heard </span>\n",
       "<span style=\"color: #008000; text-decoration-color: #008000\">before the world turned\\nblack. “ _Tell them what you saw here. Tell her that I will find her._ ”  \\n  \\n~  \\n  </span>\n",
       "<span style=\"color: #008000; text-decoration-color: #008000\">\\nEarlier:  \\n  \\n“You can’t go in there!” Yiven’s secretary squawked, but Nasham brushed the\\nShimmer aside, </span>\n",
       "<span style=\"color: #008000; text-decoration-color: #008000\">sending the smaller creature sprawling. Other security teams\\nwere scrambling behind him, but there was no one fast</span>\n",
       "<span style=\"color: #008000; text-decoration-color: #008000\">enough to stop him as he\\nflung the door to the base commander’s office open, his boots squishing blood\\nand sand </span>\n",
       "<span style=\"color: #008000; text-decoration-color: #008000\">into the expensive carpet.  \\n  \\n“We killed it,” he snarled hoarsely, dropping a handful of blood-covered\\nservice</span>\n",
       "<span style=\"color: #008000; text-decoration-color: #008000\">tags onto Yiven’s desk. The prime glared back at the younger man, but\\nsaid nothing. “It was something out of the </span>\n",
       "<span style=\"color: #008000; text-decoration-color: #008000\">stories your grandmother tells you\\nto behave. Shadows and blades. It came through the perimeter and killed one </span>\n",
       "<span style=\"color: #008000; text-decoration-color: #008000\">of\\nour tech crews. _I_ noticed it. I reported it, but all I got was silence. So I\\ntook a team and went after it. </span>\n",
       "<span style=\"color: #008000; text-decoration-color: #008000\">\\n  \\n“It cost the lives of four of my people, but we killed it,” Nasham continued.\\n“It slipped through the </span>\n",
       "<span style=\"color: #008000; text-decoration-color: #008000\">screens – probably through one of the damn tunnels –\\nand it killed its way towards Projector 77. It wasn’t a man. </span>\n",
       "<span style=\"color: #008000; text-decoration-color: #008000\">It was something\\nelse, prime. It could shroud. Not just from sight – it could hide its\\nthermals, too. We had to </span>\n",
       "<span style=\"color: #008000; text-decoration-color: #008000\">track it by motion. Motion in a _sandstorm_ , prime.\\nDo you know how hard that is?” The junior officer’s lips </span>\n",
       "<span style=\"color: #008000; text-decoration-color: #008000\">curled back from his\\nteeth. “Four of my people died before we managed to locate it and even then,\\nwe were lucky. </span>\n",
       "<span style=\"color: #008000; text-decoration-color: #008000\">It was trying to get to the screen generators. It was going to\\nbring them down. You’d have known this – all of </span>\n",
       "<span style=\"color: #008000; text-decoration-color: #008000\">this – if you’d have come out\\nof your damn office!”  \\n  \\nYiven placed his hands on the desk and stood. “I </span>\n",
       "<span style=\"color: #008000; text-decoration-color: #008000\">appreciate the sacrifice of\\nyour people,” he said slowly, gesturing for the responding security teams to\\nwait </span>\n",
       "<span style=\"color: #008000; text-decoration-color: #008000\">where they were. “However, given the casualties all our forces are\\nsuffering, I think it is presumptuous to assume</span>\n",
       "<span style=\"color: #008000; text-decoration-color: #008000\">that your losses are somehow\\nmore worthy of my attention than the hundreds of men and women who have\\nalready </span>\n",
       "<span style=\"color: #008000; text-decoration-color: #008000\">given their lives. Many have already died and I think it likely that\\nmany more will die yet,” the prime’s lower </span>\n",
       "<span style=\"color: #008000; text-decoration-color: #008000\">left eye twitched. “It is our duty\\nto make those deaths mean something. You say you have prevented an </span>\n",
       "<span style=\"color: #008000; text-decoration-color: #008000\">enemy\\ninfiltrator from reaching one of the screen generators. Well done. Has that\\nchanged our situation, or are </span>\n",
       "<span style=\"color: #008000; text-decoration-color: #008000\">we still under siege?”  \\n  \\nThe younger man’s jaw worked, but he said nothing. Yiven leaned across the\\ndesk. “I </span>\n",
       "<span style=\"color: #008000; text-decoration-color: #008000\">asked you a question, submissive.”  \\n  \\n“We remain at war, patron.”  \\n  \\n“Then return to your job, officer. </span>\n",
       "<span style=\"color: #008000; text-decoration-color: #008000\">Protect the civilians as is your duty,”\\nYiven’s eyes were cold. “And I would suggest that you focus on nothing </span>\n",
       "<span style=\"color: #008000; text-decoration-color: #008000\">but\\nthat, submissive. Am I making myself clear?”  \\n  \\n“Perfectly, prime.” Nasham snapped a salute, but the look </span>\n",
       "<span style=\"color: #008000; text-decoration-color: #008000\">in his eyes was\\nanything but respectful. “Am I dismissed?”  \\n  \\n“You are.”  \\n  \\nThe doors hissed shut behind </span>\n",
       "<span style=\"color: #008000; text-decoration-color: #008000\">the younger man and Yiven gestured for his\\nsecurity team to leave as well. In the solitude of his office, the </span>\n",
       "<span style=\"color: #008000; text-decoration-color: #008000\">column\\nleader prime activated his personal display once again. Status reports and a\\nschematic of Invida Station </span>\n",
       "<span style=\"color: #008000; text-decoration-color: #008000\">appeared, compromised walls and degraded screens\\nflashing red. The entire installation looked like an open wound. </span>\n",
       "<span style=\"color: #008000; text-decoration-color: #008000\">“It’s not if\\nyou die, group leader, submissive,” Yiven said to himself. “It’s only when.”\\nHe took out a personal </span>\n",
       "<span style=\"color: #008000; text-decoration-color: #008000\">datapad and began to type. This order was too sensitive\\nto trust to the base communications grid.  \\n  </span>\n",
       "<span style=\"color: #008000; text-decoration-color: #008000\">\\n_...consider this a Threat Tier 5 situation and enact the following\\nprotocols..._  \\n  \\n_...ensure no </span>\n",
       "<span style=\"color: #008000; text-decoration-color: #008000\">possibility of intact neural architecture..._  \\n  \\n~  \\n  \\nNine hours before the breach that ended Invida </span>\n",
       "<span style=\"color: #008000; text-decoration-color: #008000\">Station’s coordinated defence,\\nseismic sensors detected movement in an un-explored part of the complex\\nbeneath </span>\n",
       "<span style=\"color: #008000; text-decoration-color: #008000\">worker complex Twenty-Two. Nasham’s security team was the first to\\nrespond.  \\n  \\nIt wasn’t hard to find the </span>\n",
       "<span style=\"color: #008000; text-decoration-color: #008000\">source of the incursion. All they had to do was\\nfollow the screams.  \\n  \\n~  \\n  \\n  \\n“Move!” Nasham shouted as </span>\n",
       "<span style=\"color: #008000; text-decoration-color: #008000\">he tried to force his way through the shrieking\\nthrongs of workers, terrified men and women rushing from the </span>\n",
       "<span style=\"color: #008000; text-decoration-color: #008000\">dormitories. If\\nthe Tribune and his squad hadn’t been in their armour, they would have been\\nknocked down and </span>\n",
       "<span style=\"color: #008000; text-decoration-color: #008000\">trampled. “Get out of the way!”  \\n  \\nThey weren’t listening, no one was. It was a stampede, men and women </span>\n",
       "<span style=\"color: #008000; text-decoration-color: #008000\">pushing\\nand shoving each other in blind panic as they fled out of the sleeping\\nquarters. Those who fell struggled</span>\n",
       "<span style=\"color: #008000; text-decoration-color: #008000\">to rise as their compatriots tripped over\\nthem. The stink of death grew stronger as Nasham’s squad forged through </span>\n",
       "<span style=\"color: #008000; text-decoration-color: #008000\">the\\nliving tide, at last breaking through into empty hallways. Tables had been\\nabandoned, meals and drinks </span>\n",
       "<span style=\"color: #008000; text-decoration-color: #008000\">spilled on the floor, plates and cutlery thrown\\naway in the rush to escape. There were no bodies, not here. This </span>\n",
       "<span style=\"color: #008000; text-decoration-color: #008000\">was where the\\nwave of panic had swept the living away, but the stench... the dead were\\nclose. Faeces, blood and </span>\n",
       "<span style=\"color: #008000; text-decoration-color: #008000\">the fear-stink from half a dozen species filled the\\nair, growing thicker as Nasham’s security team approached the </span>\n",
       "<span style=\"color: #008000; text-decoration-color: #008000\">central\\nbunkroom.  \\n  \\nIt was squatting amidst the dead, blood dripping from its talons as it lifted\\na corpse </span>\n",
       "<span style=\"color: #008000; text-decoration-color: #008000\">up to its faceplate, some kind of scope system scanning the dead\\nman’s features. On its back was a rifle, a pistol</span>\n",
       "<span style=\"color: #008000; text-decoration-color: #008000\">mag-locked to its thigh.  \\n  \\nThe killer lifted its head towards the security team, the diodes of its </span>\n",
       "<span style=\"color: #008000; text-decoration-color: #008000\">helmet\\nshining green. It let of the body it was holding. “Where is she?” it asked in\\na young woman’s voice. “Will</span>\n",
       "<span style=\"color: #008000; text-decoration-color: #008000\">you tell me?”  \\n  \\nNasham didn’t know who it was that fired, but there was the crack of a weapons\\ndischarge and </span>\n",
       "<span style=\"color: #008000; text-decoration-color: #008000\">a third of the killer’s head vanished, blown out by the AP\\nshell. It didn’t fall. It had no brain to destroy; </span>\n",
       "<span style=\"color: #008000; text-decoration-color: #008000\">whatever vital functions it\\nhad in its head – if it was anything more than a sensor hub – were simply re-\\nrouted.</span>\n",
       "<span style=\"color: #008000; text-decoration-color: #008000\">“Will you tell me?” it rasped again through its half-destroyed\\nspeaker.  \\n  \\nNasham’s own finger tightened on </span>\n",
       "<span style=\"color: #008000; text-decoration-color: #008000\">the rifle’s trigger. He was about to open\\nfire when more green glimmers glinted into existence. Ones and twos at </span>\n",
       "<span style=\"color: #008000; text-decoration-color: #008000\">first,\\nbut then dozens. Dozens upon dozens. The Tribune felt a dagger of ice twist\\nitself in his liver, staring </span>\n",
       "<span style=\"color: #008000; text-decoration-color: #008000\">as the sickly emerald light filled the bunk room.  \\n  \\nThe walls were moving.  \\n  \\nInsectoid machines were </span>\n",
       "<span style=\"color: #008000; text-decoration-color: #008000\">crawling over the bulkheads, along the ceiling, over\\nthe beds, over the fallen. They swarmed around the damaged </span>\n",
       "<span style=\"color: #008000; text-decoration-color: #008000\">machine, chittering\\nbinary commands and responses to each other. Two more of the killers stood\\namongst the dead, </span>\n",
       "<span style=\"color: #008000; text-decoration-color: #008000\">the unsettling light catching the wetness on their armour.\\nOne of them carried a shotgun. The other held a type of</span>\n",
       "<span style=\"color: #008000; text-decoration-color: #008000\">rifle that Nasham\\ncouldn’t identify.  \\n  \\n“Where is she?” one of the other killers asked in the same voice as </span>\n",
       "<span style=\"color: #008000; text-decoration-color: #008000\">the first.\\n“Will you tell me?” the third queried. Nasham’s skin crawled at the sound of\\nthese abominate things. </span>\n",
       "<span style=\"color: #008000; text-decoration-color: #008000\">Worse than the carnage at their feet was the sense\\nof... of... _curiousity._ Of emotion. _It thinks,_ the young </span>\n",
       "<span style=\"color: #008000; text-decoration-color: #008000\">Tribune realized\\nwith horror. There was something guiding these machines and it wasn’t the\\nheretofore unknown </span>\n",
       "<span style=\"color: #008000; text-decoration-color: #008000\">controllers that so many had assumed. They had an animus\\nall their own. An _intelligence_.  \\n  \\nMovement pulled </span>\n",
       "<span style=\"color: #008000; text-decoration-color: #008000\">Nasham’s attention away from the crawling sickness in the pit\\nof his stomach. More of the small insectoid machines</span>\n",
       "<span style=\"color: #008000; text-decoration-color: #008000\">swarmed through the room.\\nThey were coming up out of a hole in the floor. As Nasham watched a pair of\\narachnid </span>\n",
       "<span style=\"color: #008000; text-decoration-color: #008000\">legs, each almost half the size of a man, extended out of the ground,\\nbracing themselves on the lip of the hole. A</span>\n",
       "<span style=\"color: #008000; text-decoration-color: #008000\">much larger cousin to the\\nswarming beetles climbed out of the tunnel, its abdomen covered in still more\\nsquirming</span>\n",
       "<span style=\"color: #008000; text-decoration-color: #008000\">things. It stalked towards the Tribunes, underslung weapons\\nglinting.  \\n  \\nOne of the killers held out a hand, </span>\n",
       "<span style=\"color: #008000; text-decoration-color: #008000\">stroking the nightmare machine’s head. It\\nlooked towards Nasham and though it had no mouth, he knew it was </span>\n",
       "<span style=\"color: #008000; text-decoration-color: #008000\">smiling.\\n“Open fire!” he shouted. “Open fire!”  \\n  \\nThe killers were faster and five of Nasham’s squad went down</span>\n",
       "<span style=\"color: #008000; text-decoration-color: #008000\">in their opening\\nsalvo. The beetle-things swept forward in a rush of clicking limbs, like water\\nbursting through </span>\n",
       "<span style=\"color: #008000; text-decoration-color: #008000\">a dam. They swarmed over Ducan. He screamed, thrashing at\\nthem as they cut into his armour, dribbling molecular </span>\n",
       "<span style=\"color: #008000; text-decoration-color: #008000\">acid into the openings\\nor dissolving the seals of his suit. His cries ended in a pathetic gargle as\\nhis vocal </span>\n",
       "<span style=\"color: #008000; text-decoration-color: #008000\">cords melted. The massive spider fired, a bolt of plasma ripping\\nfrom its weapons and Ferosh suddenly ended at the</span>\n",
       "<span style=\"color: #008000; text-decoration-color: #008000\">waist. “Fall back!” Nasham\\nshouted. Another flash and another flatline single screamed in his ears. “Run!\\nRun!”  </span>\n",
       "<span style=\"color: #008000; text-decoration-color: #008000\">\\n  \\nHe had led thirteen men and women into the dormitories. Five of them came out\\nwith him.  \\n  \\nIt took two </span>\n",
       "<span style=\"color: #008000; text-decoration-color: #008000\">full Janissary squards to beat back the attack. The tunnel was\\ncollapsed and the entire section flooded with </span>\n",
       "<span style=\"color: #008000; text-decoration-color: #008000\">levels of radiation level even\\nto machinery.  \\n  \\nThe second breach occurred four hours later. Facing the </span>\n",
       "<span style=\"color: #008000; text-decoration-color: #008000\">prospect of more\\nlosses amongst the soldiery, Column Prime Yiven ordered the dormitory sealed.  \\n  \\nSix hundred </span>\n",
       "<span style=\"color: #008000; text-decoration-color: #008000\">and seventy-four workers and technicians were trapped inside with\\nan unknown number of attacking machines.  \\n  </span>\n",
       "<span style=\"color: #008000; text-decoration-color: #008000\">\\n~  \\n  \\n“Open the door, you worthless _daveq_!” Nasham shouted over the comm, not\\ncaring who heard him. He </span>\n",
       "<span style=\"color: #008000; text-decoration-color: #008000\">clawed at the metal, trying to find purchase on it.\\nTwo of his team were there with him, scrabbling uselessly at </span>\n",
       "<span style=\"color: #008000; text-decoration-color: #008000\">the sealed\\nquarantine doors. “We can save them!”  \\n  \\n“I-I can’t do that,” the Ops officer on the other end of </span>\n",
       "<span style=\"color: #008000; text-decoration-color: #008000\">the line stammered.\\n“It’s a direct order from column leader pr-”  \\n  \\n“ _I said open the Blackened door!_ ” </span>\n",
       "<span style=\"color: #008000; text-decoration-color: #008000\">Nasham roared. “There are people trapped\\ninside!”  \\n  \\n“I can’t do that,” the Ops officer repeated, almost </span>\n",
       "<span style=\"color: #008000; text-decoration-color: #008000\">pleadingly. Nasham almost\\nfelt sorry for her. Like many of Invida Station’s staff, she was a promising\\njunior </span>\n",
       "<span style=\"color: #008000; text-decoration-color: #008000\">officer with a commendable record and excellent political acumen. Being\\npart of the command staff of a black-boxed</span>\n",
       "<span style=\"color: #008000; text-decoration-color: #008000\">research facility should have been\\nan easy, career-making assignment. Instead, there was this. “The... the </span>\n",
       "<span style=\"color: #008000; text-decoration-color: #008000\">entire\\nsection’s been compromised.”  \\n  \\nNasham spun away from the door, gesturing for his squadmates to </span>\n",
       "<span style=\"color: #008000; text-decoration-color: #008000\">continue\\ntrying to open it. “Listen to me very carefully,” he said, forcing himself to\\nstay calm. It wasn’t easy.</span>\n",
       "<span style=\"color: #008000; text-decoration-color: #008000\">If only they had blasting charges... but his people\\nwere station security and proctors, not Janissaries. Even if </span>\n",
       "<span style=\"color: #008000; text-decoration-color: #008000\">they had been, it\\nwould have taken dedicated demolitions teams to burn through a security door\\nlike this one. </span>\n",
       "<span style=\"color: #008000; text-decoration-color: #008000\">Hyros had pried open the control panel and was trying to\\noverride the lock-down, but he wasn’t getting anywhere. </span>\n",
       "<span style=\"color: #008000; text-decoration-color: #008000\">“It’s pack leader Seu\\nKeb Lind, isn’t it?” Nasham continued. “Yes? Good. Listen to me very\\ncarefully, pack leader</span>\n",
       "<span style=\"color: #008000; text-decoration-color: #008000\">Seu. There are almost seven hundred civilians trapped\\nin this section. At least fifty of them are _literally_ on </span>\n",
       "<span style=\"color: #008000; text-decoration-color: #008000\">the other side of\\nthe door.” He raised his eyes to the security monitors over the sealed\\nbarricade, the closest </span>\n",
       "<span style=\"color: #008000; text-decoration-color: #008000\">showing dozens of terrified men and women, shoving,\\nshouting and pleading to be let out. “I can get them out. I </span>\n",
       "<span style=\"color: #008000; text-decoration-color: #008000\">can save them.\\nThere’s no risk to the installation. I can save these people. Give me more\\npersonnel and I can </span>\n",
       "<span style=\"color: #008000; text-decoration-color: #008000\">save _everyone_. Do you understand? Open the door. Let me\\nsave them.”  \\n  \\n“I-I’m sorry, s-submissive leader,” </span>\n",
       "<span style=\"color: #008000; text-decoration-color: #008000\">Seu sounded close to tears. “I-I can’t do\\nthat.”  \\n  \\n“Open the door,” Nasham said softly. “They’re dying in </span>\n",
       "<span style=\"color: #008000; text-decoration-color: #008000\">there. I can get them\\nout. You can help me. You can save all those lives. Open the door, pack\\nleader. Save them. </span>\n",
       "<span style=\"color: #008000; text-decoration-color: #008000\">All those hundreds of people – you can rescue them. You can\\ndo this. All you need to do is open the door. I’ll do </span>\n",
       "<span style=\"color: #008000; text-decoration-color: #008000\">everything else. Help\\nme. Please.”  \\n  \\n“I... I...” the link went dead.  \\n  \\nA moment later and a new, </span>\n",
       "<span style=\"color: #008000; text-decoration-color: #008000\">masculine, voice cut in. “This is group leader,\\nsubmissive Eten. Pack leader Seu has been relieved. By direct </span>\n",
       "<span style=\"color: #008000; text-decoration-color: #008000\">order of column\\nleader prime Yiven, the dormitory will remain sealed to preserve station\\nsecurity.”  \\n  \\nNasham</span>\n",
       "<span style=\"color: #008000; text-decoration-color: #008000\">bit back the first response that came to mind. “Are you watching the\\nfeeds from this section, Eten?” he asked </span>\n",
       "<span style=\"color: #008000; text-decoration-color: #008000\">instead. “Are you looking at the\\nfaces of the men and women you’re going to let die?”  \\n  \\n“I am. I am also </span>\n",
       "<span style=\"color: #008000; text-decoration-color: #008000\">seeing the enemy forces butcher their way through hundreds\\nmore. If they get out, we could lose this entire </span>\n",
       "<span style=\"color: #008000; text-decoration-color: #008000\">level.”  \\n  \\n“Then,” Nasham’s temper was slipping away bit by bit. “Send some Triarchs-\\ndamned Janissaries up </span>\n",
       "<span style=\"color: #008000; text-decoration-color: #008000\">here to fight them off!”  \\n  \\n“By order of column prime Yiven-”  \\n  \\n“Yiven can get thrown to the Black!” </span>\n",
       "<span style=\"color: #008000; text-decoration-color: #008000\">Nasham exploded. “Open the door.”  \\n  \\n“It’s too late,” Eten said. There was a tremor in his voice. “Radiation </span>\n",
       "<span style=\"color: #008000; text-decoration-color: #008000\">purge\\nis almost ready. It’s going to activate in thirty seconds.”  \\n  \\n“Then keep watching,” Nasham snarled. </span>\n",
       "<span style=\"color: #008000; text-decoration-color: #008000\">“Watch what happens next, you coward.”  \\n  \\nHe never knew if the other submissive watched, but he did. On the </span>\n",
       "<span style=\"color: #008000; text-decoration-color: #008000\">other side\\nof the armoured bulkhead, the station vented its own waste products into the\\nsealed section. Lethal </span>\n",
       "<span style=\"color: #008000; text-decoration-color: #008000\">doses for many living things measured in the hundreds\\nto thousands of rems. Tribunes were hardier; their </span>\n",
       "<span style=\"color: #008000; text-decoration-color: #008000\">physiology let them survive\\nlevels of exposure that would kill or incapacitate other species, but very few\\nof the</span>\n",
       "<span style=\"color: #008000; text-decoration-color: #008000\">personnel in the sealed section were Tribunes. Radiation-hardened\\nmachines could survive over one million rems. </span>\n",
       "<span style=\"color: #008000; text-decoration-color: #008000\">The quarantine purge shunted far\\nmore than that into the barracks.  \\n  \\nThe bulkheads had been built to prevent </span>\n",
       "<span style=\"color: #008000; text-decoration-color: #008000\">unwarranted exposure; each section of\\nthe complex was surrounded by two sets of armour that would not have been </span>\n",
       "<span style=\"color: #008000; text-decoration-color: #008000\">out\\nof place on a starship, internal forcefields acting as a further bulwark. When\\nhe had first come to Invida </span>\n",
       "<span style=\"color: #008000; text-decoration-color: #008000\">and reviewed the specifications for the colony,\\nNasham had wondered at just what its creators had ever expected to</span>\n",
       "<span style=\"color: #008000; text-decoration-color: #008000\">contain.\\nThe dead war machines that had littered the old station’s halls had suggested\\nmuch, but now he knew. He </span>\n",
       "<span style=\"color: #008000; text-decoration-color: #008000\">placed a hand against the door, looking up at the\\nmonitors. His suit’s radiological counter didn’t so much as </span>\n",
       "<span style=\"color: #008000; text-decoration-color: #008000\">twinge as, only a\\nfew meters away, apocalyptic levels of radiation flooded into the living\\nquarters. It was a </span>\n",
       "<span style=\"color: #008000; text-decoration-color: #008000\">marvel, really. A gem in the designers’ pendant. They\\nshould be proud.  \\n  \\nIt took no time at all, not really. </span>\n",
       "<span style=\"color: #008000; text-decoration-color: #008000\">One moment the trapped men and women were\\nstill alive, still pleading to be let out, desperation, fear and anger </span>\n",
       "<span style=\"color: #008000; text-decoration-color: #008000\">on\\ntheir features and then... and then they just weren’t alive. The purge was\\ninstantly lethal to every organic </span>\n",
       "<span style=\"color: #008000; text-decoration-color: #008000\">being in the sealed section and the smallest\\nmachines died along with them. It took several moments for the beasts</span>\n",
       "<span style=\"color: #008000; text-decoration-color: #008000\">to\\nsuccumb, their function systems struggling and failing, unable to cope with\\nsuch levels of radiation. Finally,</span>\n",
       "<span style=\"color: #008000; text-decoration-color: #008000\">there was nothing moving in the barracks –\\nnothing at all.  \\n  \\n“There,” Nasham said aloud. “It’s done.” He </span>\n",
       "<span style=\"color: #008000; text-decoration-color: #008000\">turned, leading his squad away\\nfrom a mass grave of people it had been his duty to protect.  \\n  \\n~  \\n  \\nYiven </span>\n",
       "<span style=\"color: #008000; text-decoration-color: #008000\">slid the datascroll across the table to crusader Marsu (and five names\\nbesides). The other Tribune took it, </span>\n",
       "<span style=\"color: #008000; text-decoration-color: #008000\">reading the open document carefully.\\n“This is a joke in poor taste,” Marsu said at last.  \\n  \\n“It’s neither of </span>\n",
       "<span style=\"color: #008000; text-decoration-color: #008000\">those things. It’s what’s expected of us.”  \\n  \\nThe Janissary commander looked back over the information. “I am </span>\n",
       "<span style=\"color: #008000; text-decoration-color: #008000\">losing\\nsoldiers,” he said at last. “Gaps in my defences are opening faster than I can\\nclose them. I expect to </span>\n",
       "<span style=\"color: #008000; text-decoration-color: #008000\">hold for no more than five days before the attackers\\nforce a breach in the walls.” He set the ‘scroll down and </span>\n",
       "<span style=\"color: #008000; text-decoration-color: #008000\">tapped it with a\\nsingle long finger. “I don’t have the personnel for this.”  \\n  \\nYiven shook his head. “I know </span>\n",
       "<span style=\"color: #008000; text-decoration-color: #008000\">that. I know what I’m asking from you and from\\nyour people, but I cannot make this announcement public. If we had </span>\n",
       "<span style=\"color: #008000; text-decoration-color: #008000\">more time,\\ntime to properly present its necessity...” he sighed. “I can’t trust that all\\nthe civilians will be </span>\n",
       "<span style=\"color: #008000; text-decoration-color: #008000\">compliant. I can’t rely on my security forces.” The\\nprime took in a breath. “Group leader Fenis is solid enough, </span>\n",
       "<span style=\"color: #008000; text-decoration-color: #008000\">but he’s too in-\\nline with submissive Nasham’s thinking. He’ll balk when the time comes. We\\ncan’t afford that.”  </span>\n",
       "<span style=\"color: #008000; text-decoration-color: #008000\">\\n  \\nMarsu leaned back, his form-fitting chair adjusting itself. He didn’t say\\nanything for a long time. He’d </span>\n",
       "<span style=\"color: #008000; text-decoration-color: #008000\">never been happy with this assignment. Too many\\nunknowns – Command was definitely playing at something here. For </span>\n",
       "<span style=\"color: #008000; text-decoration-color: #008000\">two thousand\\nyears this place had been dead and forgotten – and gratefully so. Then some\\nBlack-blighted survey </span>\n",
       "<span style=\"color: #008000; text-decoration-color: #008000\">team found the wreckage of the first installation and\\nCommand rushed a colony into place. The crusader took a sip </span>\n",
       "<span style=\"color: #008000; text-decoration-color: #008000\">of spiced tea as\\nhe turned the prime’s directive over in his head. “This is an absolute\\ndirective?” he asked.  \\n</span>\n",
       "<span style=\"color: #008000; text-decoration-color: #008000\">\\n“It comes from the highest authority,” Yiven said. “What we are facing here is\\na threat to the Compact’s very </span>\n",
       "<span style=\"color: #008000; text-decoration-color: #008000\">existence.” The prime leaned forward. “You know\\nthe edicts regarding such dangers. Compartmentalization, </span>\n",
       "<span style=\"color: #008000; text-decoration-color: #008000\">classification,\\nextirpation. What we cannot control, we bury. What we cannot leave buried, we\\nmust erase. What </span>\n",
       "<span style=\"color: #008000; text-decoration-color: #008000\">sits outside our gates is beyond even those threats. You’ve\\nseen it with your own eyes, crusader; the lifeless </span>\n",
       "<span style=\"color: #008000; text-decoration-color: #008000\">walk and speak. This is the\\nshadow of the Devoured and we must not falter in making our cuts.”  \\n  \\nMarsu was </span>\n",
       "<span style=\"color: #008000; text-decoration-color: #008000\">silent again. Finally, he spoke. “There is no trace of their\\ncontamination here. The Devoured are long dead, </span>\n",
       "<span style=\"color: #008000; text-decoration-color: #008000\">prime.”  \\n  \\n“Only because men like us did what was necessary. You know your history,\\ncrusader. What would the </span>\n",
       "<span style=\"color: #008000; text-decoration-color: #008000\">galaxy look like if they had won just a few more\\nbattles? If they were not torn up root and limb before they grew </span>\n",
       "<span style=\"color: #008000; text-decoration-color: #008000\">too strong?\\nIf we cannot hold until relief arrives...” he stroked his snout in a shrug.\\n“We cannot allow any </span>\n",
       "<span style=\"color: #008000; text-decoration-color: #008000\">trace of our research to fall into hostile hands. Viruses\\nand data eradicators are already placed in all secondary</span>\n",
       "<span style=\"color: #008000; text-decoration-color: #008000\">computer systems in\\ncase the individual mainframes themselves cannot be destroyed.”  \\n  \\n“I’ll detail a </span>\n",
       "<span style=\"color: #008000; text-decoration-color: #008000\">demolitions team to the main core. We can wire a remote signal\\nto command.”  \\n  \\nYiven nodded. “That will do. It</span>\n",
       "<span style=\"color: #008000; text-decoration-color: #008000\">is not the mechanical resources I am most\\nworried about, however.” He gestured to the outside. “This is our great </span>\n",
       "<span style=\"color: #008000; text-decoration-color: #008000\">test,\\ncrusader. We must be willing to sacrifice everything – more than our lives –\\nfor the greater glory and </span>\n",
       "<span style=\"color: #008000; text-decoration-color: #008000\">survival of the Compact. If Invida falls, it must\\n_fall_. Do you understand?”  \\n  \\nThe Janissary again looked at</span>\n",
       "<span style=\"color: #008000; text-decoration-color: #008000\">the directives on his datascroll. “I will move\\nsome teams,” he said at last. “Reliable soldiers. They will protect</span>\n",
       "<span style=\"color: #008000; text-decoration-color: #008000\">everyone\\nyou have noted. If the defences fall... if the time comes to enact these\\ndirectives.... They will... </span>\n",
       "<span style=\"color: #008000; text-decoration-color: #008000\">ensure compliance.”  \\n  \\n“Good,” Yiven replied. “Good.” He raised his own mug. “This is our hour,\\ncrusader. We </span>\n",
       "<span style=\"color: #008000; text-decoration-color: #008000\">cannot let the Triarchs’ trust in us be misplaced. We must either\\nhold the line... or ensure that our enemy will </span>\n",
       "<span style=\"color: #008000; text-decoration-color: #008000\">take nothing of value from us.\\nWe must be... erased.”  \\n  \\nMarsu nodded. “Indeed. And, it occurs to me that I </span>\n",
       "<span style=\"color: #008000; text-decoration-color: #008000\">may have a solution for\\nyour other problem. With the casualties my forces are suffering, I could do\\nwith some </span>\n",
       "<span style=\"color: #008000; text-decoration-color: #008000\">additional reinforcements. In fact, I believe I have some spare\\nsuits of armour...”  \\n  \\n~  \\n  \\nAsea rubbed </span>\n",
       "<span style=\"color: #008000; text-decoration-color: #008000\">the back of her neck uncertainly as she looked Nasham over. “How\\ndoes it fit?” she asked at last.  \\n  \\n“It </span>\n",
       "<span style=\"color: #008000; text-decoration-color: #008000\">fits,” Nasham replied, moving his arms. The joints growled like an idling\\nengine. He’d only worn Janissary armour </span>\n",
       "<span style=\"color: #008000; text-decoration-color: #008000\">a handful of times during training.\\nThe Academy on Lennox believed that all Space Force officers in the </span>\n",
       "<span style=\"color: #008000; text-decoration-color: #008000\">command\\nand security tracks should have at least a basic understanding of a naval\\nsoldier’s capabilities and </span>\n",
       "<span style=\"color: #008000; text-decoration-color: #008000\">limitations. How else could a ship’s commander\\nexpect to make full use of the Janissaries under their command? It </span>\n",
       "<span style=\"color: #008000; text-decoration-color: #008000\">had not\\nbeen an intensive course, and he remembered only the basics of it. It was\\nheavier than his security-grade</span>\n",
       "<span style=\"color: #008000; text-decoration-color: #008000\">armour, but moved much more fluidly. The HUD\\nwas similar to that of his old suit, but had more functionality.  \\n </span>\n",
       "<span style=\"color: #008000; text-decoration-color: #008000\">\\n“They’ve assigned me to R’kan Squad,” Nasham said. “Their pack leader was\\nkilled in the first wave of attacks. </span>\n",
       "<span style=\"color: #008000; text-decoration-color: #008000\">My security personnel,” _What’s left of\\nthem,_ “have been sent to shore up defences throughout the facility.”  \\n </span>\n",
       "<span style=\"color: #008000; text-decoration-color: #008000\">\\nAsea pursed her lips. “I told you not to make so much trouble,” she said at\\nlast.  \\n  \\nNasham offered a weak </span>\n",
       "<span style=\"color: #008000; text-decoration-color: #008000\">smile. “This is a reward if it’s anything,” he joked,\\nrapping his cuirass. “I’ve never been better protected.”  \\n</span>\n",
       "<span style=\"color: #008000; text-decoration-color: #008000\">\\nAsea didn’t say anything; Nasham knew what she was thinking of. He was, too:\\nof the images they’d seen of power </span>\n",
       "<span style=\"color: #008000; text-decoration-color: #008000\">armour blasted to scrap, of men and women\\nwearing suits of armour just like his shot dead by hyper-velocity rounds</span>\n",
       "<span style=\"color: #008000; text-decoration-color: #008000\">or\\nreduced to ash by energy weapons. He reached out, touching her cheek. “It’ll\\nbe fine,” he said. “Help’s </span>\n",
       "<span style=\"color: #008000; text-decoration-color: #008000\">coming. We just have to hold out a little longer.”  \\n  \\nThe young woman put her hands around Nasham’s gauntlet. </span>\n",
       "<span style=\"color: #008000; text-decoration-color: #008000\">“Just a little\\nlonger.”  \\n  \\n“Just a little longer,” he repeated.  \\n  \\nShe smiled back at him, but it didn’t </span>\n",
       "<span style=\"color: #008000; text-decoration-color: #008000\">reach her eyes. “I have to get back to\\nmy department.” She put her hand on his chest, just over his liver. </span>\n",
       "<span style=\"color: #008000; text-decoration-color: #008000\">“Be\\ncareful, Nasham Kem Unoth Ludhy Inku Pram Voy.”  \\n  \\n“You too, Asea Des Denr Yuul.”  \\n  \\n~  \\n  \\nThe </span>\n",
       "<span style=\"color: #008000; text-decoration-color: #008000\">defences failed at 31:97:13:22 Standard Time. A coordinated attack on the\\nnorthern and south-western positions </span>\n",
       "<span style=\"color: #008000; text-decoration-color: #008000\">drained personnel and resources away from\\nthe south-eastern front, which appeared to be comprised primarily of </span>\n",
       "<span style=\"color: #008000; text-decoration-color: #008000\">lighter\\nunits, lacking the dedicated siege engines present in the other two fronts.\\nThis assessment was deemed to</span>\n",
       "<span style=\"color: #008000; text-decoration-color: #008000\">be in error when several unclassified mobile\\nplatforms emerged from the drop site. They had been held in reserve </span>\n",
       "<span style=\"color: #008000; text-decoration-color: #008000\">for just\\nsuch a moment, carrying weapons that were closer to starship cannon than\\nanything ever used in a ground </span>\n",
       "<span style=\"color: #008000; text-decoration-color: #008000\">campaign. With most of the anti-armour units\\ndeployed in repelling the feints, counter-fire against the engines </span>\n",
       "<span style=\"color: #008000; text-decoration-color: #008000\">was light\\nand unable to penetrate their defences. Ideologue Genma (and four names\\nbesides) attempted a sally </span>\n",
       "<span style=\"color: #008000; text-decoration-color: #008000\">against the platforms, but without additional\\nsupport, her forces were overwhelmed and destroyed far short of </span>\n",
       "<span style=\"color: #008000; text-decoration-color: #008000\">their goal.  \\n  \\nThe engines fired; Invida Station’s walls were rated to withstand anything\\nless than a direct </span>\n",
       "<span style=\"color: #008000; text-decoration-color: #008000\">hit from high-yield nuclear weaponry. For all the good they\\ndid, they might as well have been palisades of wood </span>\n",
       "<span style=\"color: #008000; text-decoration-color: #008000\">and bronze. Three sections\\nwere destroyed, along with nearly three hundred Janissaries and Ground Force\\nregulars.</span>\n",
       "<span style=\"color: #008000; text-decoration-color: #008000\">Any buildings too close to the destroyed sections were incinerated.\\nMultiple power generators were destroyed and </span>\n",
       "<span style=\"color: #008000; text-decoration-color: #008000\">the south-eastern defences\\ncollapsed. Unopposed, enemy forces entered the colony. Primary targets were\\nother </span>\n",
       "<span style=\"color: #008000; text-decoration-color: #008000\">power generators, air-to-air scope systems and the screen projectors.\\nInvida Station’s defences were crippled </span>\n",
       "<span style=\"color: #008000; text-decoration-color: #008000\">within one hour of the breach. Enemy\\nair forces mobilized in force, carrying out ground strikes and infantry </span>\n",
       "<span style=\"color: #008000; text-decoration-color: #008000\">drops\\non Compact positions.  \\n  \\nWith the loss of their powered emplacements and with no protection from </span>\n",
       "<span style=\"color: #008000; text-decoration-color: #008000\">the\\naerial attacks, the other defensive positions along the walls fell shortly\\nthereafter. Most surviving Compact</span>\n",
       "<span style=\"color: #008000; text-decoration-color: #008000\">forces retreated to the central facility\\nalthough many individual squads, soldiers and platoons attempted to hole </span>\n",
       "<span style=\"color: #008000; text-decoration-color: #008000\">up in\\nother buildings and protect civilian facilities. These pockets of resistance\\nwere destroyed piecemeal as </span>\n",
       "<span style=\"color: #008000; text-decoration-color: #008000\">hostile forces quickly overran any position.  \\n  \\nCivilian casualties steadily mounted as outlying laboratory, </span>\n",
       "<span style=\"color: #008000; text-decoration-color: #008000\">industrial and\\nhabitation complexes were attacked. Without support, the local security\\npersonnel and isolated </span>\n",
       "<span style=\"color: #008000; text-decoration-color: #008000\">military forces that were present were quickly\\neliminated. Six hours after the breach, all resistance outside the </span>\n",
       "<span style=\"color: #008000; text-decoration-color: #008000\">central\\ncore was ended.  \\n  \\nDuring this period, several high-value laboratory complexes were subjected </span>\n",
       "<span style=\"color: #008000; text-decoration-color: #008000\">to\\nintense shelling from friendly positions. If anyone had had to thoroughly\\nreview these actions, they would </span>\n",
       "<span style=\"color: #008000; text-decoration-color: #008000\">have noted that two of the complexes, while\\nsurrounded, had yet to be breached by hostile forces.  \\n  \\nThe </span>\n",
       "<span style=\"color: #008000; text-decoration-color: #008000\">central core was closed to all traffic. Many low-ranking civilians were\\nstranded outside the hub while the more </span>\n",
       "<span style=\"color: #008000; text-decoration-color: #008000\">valuable researchers were allowed\\negress. Several riots broke out and were quelled with lethal force. </span>\n",
       "<span style=\"color: #008000; text-decoration-color: #008000\">Denied\\nprotection and under attack from their supposed defenders, the abandoned\\npersonnel broke up into small </span>\n",
       "<span style=\"color: #008000; text-decoration-color: #008000\">groups, each looking for survival. Some\\nattempted to commandeer vehicles, others tried to escape the colony and </span>\n",
       "<span style=\"color: #008000; text-decoration-color: #008000\">some\\nattempted to ride out the invasion in the networks of tunnels and underground\\nfacilities.  \\n  \\nNone of </span>\n",
       "<span style=\"color: #008000; text-decoration-color: #008000\">them would be found. Official records would list each of them as\\n‘missing, presumed dead’. Public records would </span>\n",
       "<span style=\"color: #008000; text-decoration-color: #008000\">indicate that these individuals\\nhad died in a terrible accident, the result of improper maintenance of </span>\n",
       "<span style=\"color: #008000; text-decoration-color: #008000\">the\\ncolony’s reactor.  \\n  \\n~  \\n  \\nOne. It had only taken one. One little Scarab had stolen into the </span>\n",
       "<span style=\"color: #008000; text-decoration-color: #008000\">base,\\nslipping past scanners and scopes. One moment of unawareness – a guard at a\\nsecurity station had looked </span>\n",
       "<span style=\"color: #008000; text-decoration-color: #008000\">away and this little insect had run out, hooked\\nitself into the computer and opened the doors to this section. It </span>\n",
       "<span style=\"color: #008000; text-decoration-color: #008000\">had been\\nsmashed to pieces within seconds, but the damage was done. Dozens of its kin\\nhad swarmed into the base </span>\n",
       "<span style=\"color: #008000; text-decoration-color: #008000\">in the brief interval that the doors had been open.\\nThe guards at the security station quickly regained control </span>\n",
       "<span style=\"color: #008000; text-decoration-color: #008000\">and sealed the\\nentranceway again, but before the outer doors had come down a Spider had\\nintervened, sacrificing </span>\n",
       "<span style=\"color: #008000; text-decoration-color: #008000\">itself to hold the door open just a few seconds more.\\nLike veteran commandos, a pair of the humanoid ‘Stalkers’ </span>\n",
       "<span style=\"color: #008000; text-decoration-color: #008000\">had rolled under it,\\nfiring even before they’d risen to their feet.  \\n  \\nThree men and women died and the </span>\n",
       "<span style=\"color: #008000; text-decoration-color: #008000\">security station was suddenly unmanned. The\\nStalkers ran ahead, vaulting the barricade like living beings, one of </span>\n",
       "<span style=\"color: #008000; text-decoration-color: #008000\">them\\ncovering its partner as dextrous fingers worked at the blood-covered computer.  \\n  \\nThe doors opened again.</span>\n",
       "<span style=\"color: #008000; text-decoration-color: #008000\">\\n  \\n~  \\n  \\nShe was screaming.  \\n  \\nHis magazine was empty and still he squeezed the trigger, each useless </span>\n",
       "<span style=\"color: #008000; text-decoration-color: #008000\">_click_\\npainfully loud in his ears. Arms were around him and people were yelling at\\nhim, telling him to come with</span>\n",
       "<span style=\"color: #008000; text-decoration-color: #008000\">them, but he couldn’t. He couldn’t make himself\\nmove. He was shouting her name, fighting against his squad as they</span>\n",
       "<span style=\"color: #008000; text-decoration-color: #008000\">hauled him\\nforcibly away.  \\n  \\nThey’d been talking. Just talking. He couldn’t even remember about what. </span>\n",
       "<span style=\"color: #008000; text-decoration-color: #008000\">He’d\\nseen the worry in her eyes. He’d tried to smile, to say something reassuring.\\nHe’d been about to open his </span>\n",
       "<span style=\"color: #008000; text-decoration-color: #008000\">mouth to offer a threadbare lie and then the\\nlights had gone out. In the few seconds it had taken for the </span>\n",
       "<span style=\"color: #008000; text-decoration-color: #008000\">emergency\\nlighting to come on, the corridor had suddenly been filled with the skittering\\ninsect-things.  \\n  </span>\n",
       "<span style=\"color: #008000; text-decoration-color: #008000\">\\nGende – he had been one of Asea’s people – had shrieked, a cry far too high to\\nhave come from such a </span>\n",
       "<span style=\"color: #008000; text-decoration-color: #008000\">barrel-chested man, as he had seen the monstrous things\\nfollowing the Scarabs and then he had made no noise at all</span>\n",
       "<span style=\"color: #008000; text-decoration-color: #008000\">as his head\\nvanished with the crack of a hyper-velocity bullet. The gaggle of researchers\\nwith them had screamed </span>\n",
       "<span style=\"color: #008000; text-decoration-color: #008000\">and fled, trying to outpace the chitinous tide. Yenop\\nhad tried to buy them some time, laying down a curtain of </span>\n",
       "<span style=\"color: #008000; text-decoration-color: #008000\">fire with his\\ngrenade launcher. Something had leapt through the flames, burying ten talons\\ninto the Janissary’s </span>\n",
       "<span style=\"color: #008000; text-decoration-color: #008000\">chest and ripping them free, armour that could stop all\\nbut the heaviest fire cut like paper. Another flatline </span>\n",
       "<span style=\"color: #008000; text-decoration-color: #008000\">signal shrilled in\\nNasham’s ears. He’d lost count of how many he’d heard by now.  \\n  \\nOne of the researchers </span>\n",
       "<span style=\"color: #008000; text-decoration-color: #008000\">fell, a crater in the back of his torso. His killer\\ndied next, three Janissaries gunning it down. A wash of heat </span>\n",
       "<span style=\"color: #008000; text-decoration-color: #008000\">and light lit up\\nthe hallway as a flamethrower played over the walls and ceilings, burning the\\nclicking tide </span>\n",
       "<span style=\"color: #008000; text-decoration-color: #008000\">back. The flame had stuttered and died as the tanks emptied.\\nSomeone was screaming, clutching at their face as </span>\n",
       "<span style=\"color: #008000; text-decoration-color: #008000\">molecular acid burned away\\ntheir flesh, a cluster of stinging, biting Scarabs dropping from the ceiling,\\nbursting</span>\n",
       "<span style=\"color: #008000; text-decoration-color: #008000\">out of air vents. The man collapsed, his cries ending as his vocal\\ncords dissolved.  \\n  \\nSomeone else was </span>\n",
       "<span style=\"color: #008000; text-decoration-color: #008000\">shouting for reinforcements. It might even have been Nasham\\nhimself. His squad was urging the civilians and </span>\n",
       "<span style=\"color: #008000; text-decoration-color: #008000\">unarmoured personnel through a\\nquarantine door, hustling them through by twos and threes. Eten was on the\\ncomm, </span>\n",
       "<span style=\"color: #008000; text-decoration-color: #008000\">counting down to another quarantine purge.  \\n  \\nAsea was bellowing obscenities at her own people, urging them out</span>\n",
       "<span style=\"color: #008000; text-decoration-color: #008000\">of the\\ncompromised section. A pair of Nasham’s squad were the rearguard, covering the\\nlast few stragglers. As the</span>\n",
       "<span style=\"color: #008000; text-decoration-color: #008000\">last of Asea’s people dove through the doorway,\\nshe followed. She ran as Nasham’s soldiers died behind her, cut </span>\n",
       "<span style=\"color: #008000; text-decoration-color: #008000\">down by the\\nStalkers, the abominate machines advancing past their victims. One of them was\\nstill writhing as the </span>\n",
       "<span style=\"color: #008000; text-decoration-color: #008000\">Scarabs swarmed over him. Asea ran faster, a hail of\\nfire licking out from Nasham’s survivors as they covered her.</span>\n",
       "<span style=\"color: #008000; text-decoration-color: #008000\">She ran towards\\nhim, exhausted and terrified and, as she drew closer, so close to escape –\\nthere was a hint of </span>\n",
       "<span style=\"color: #008000; text-decoration-color: #008000\">victory...  \\n  \\n...and a single little machine darted its way through the fusillade, grabbed\\nonto the back of </span>\n",
       "<span style=\"color: #008000; text-decoration-color: #008000\">her leg and turned on its cutting laser.  \\n  \\nNasham howled as he watched her fall, surging ahead of his troops </span>\n",
       "<span style=\"color: #008000; text-decoration-color: #008000\">and firing\\ninto the horde indiscriminately. She was too far away and the machines were\\nmoving too fast. Asea </span>\n",
       "<span style=\"color: #008000; text-decoration-color: #008000\">pulled herself to her feet and looked over her shoulder.\\nHer right leg was badly burned, the muscles cut. She </span>\n",
       "<span style=\"color: #008000; text-decoration-color: #008000\">could barely walk.\\nRunning wasn’t an option. She turned back to Nasham and gestured for him to\\ngo, shouting at </span>\n",
       "<span style=\"color: #008000; text-decoration-color: #008000\">him. He shook his head. He couldn’t.  \\n  \\nHe couldn’t leave her, but he also couldn’t save her.  \\n  \\nShe met </span>\n",
       "<span style=\"color: #008000; text-decoration-color: #008000\">his gaze. He saw what she was going to do in the same instant she made\\nthe decision. Tears welled up in her eyes </span>\n",
       "<span style=\"color: #008000; text-decoration-color: #008000\">as she turned away, hobbling towards\\nthe swarm.  \\n  \\nNasham shouted her name, surging towards her, but his men </span>\n",
       "<span style=\"color: #008000; text-decoration-color: #008000\">held him back. His\\ngun cycled empty. He struggled, fought, cursed at his own squad as they\\ndragged him to safety,</span>\n",
       "<span style=\"color: #008000; text-decoration-color: #008000\">hauling him through the doors.  \\n  \\nAsea tried to be brave, but her courage failed her at the last and </span>\n",
       "<span style=\"color: #008000; text-decoration-color: #008000\">she\\nscreamed, thrashing as the machines swept over her. In a matter of seconds\\nNasham couldn’t even see her any </span>\n",
       "<span style=\"color: #008000; text-decoration-color: #008000\">longer and just before the doors closed\\nbehind him, he saw the mound of swarming machines that had once been </span>\n",
       "<span style=\"color: #008000; text-decoration-color: #008000\">a\\nvibrant, beautiful woman disperse into nothing.  \\n  \\nThe radiation purge activated and Invida Station </span>\n",
       "<span style=\"color: #008000; text-decoration-color: #008000\">amputated another piece of\\nitself.  \\n  \\n~  \\n  \\n“Patron.”  \\n  \\n“Patron,” the voice called again. “Patron.”  </span>\n",
       "<span style=\"color: #008000; text-decoration-color: #008000\">\\n  \\nFinally, he responded, lifting his head. “What?”  \\n  \\nRadan tilted her head. “You need to see this.”  \\n  </span>\n",
       "<span style=\"color: #008000; text-decoration-color: #008000\">\\nSomehow, Nasham managed to rouse himself from his stupor. His throat hurt and\\nhis lips were dry. He didn’t know </span>\n",
       "<span style=\"color: #008000; text-decoration-color: #008000\">how long he’d sat there, staring at nothing.\\nIt couldn’t have been very long. Or maybe it had; he’d lost track of </span>\n",
       "<span style=\"color: #008000; text-decoration-color: #008000\">time.\\nHe’d long since stopped paying attention to the clock on his HUD. Seconds,\\nminutes and hours were all the </span>\n",
       "<span style=\"color: #008000; text-decoration-color: #008000\">same now.  \\n  \\nTheir escape had taken them into one of the high security areas of Invida.\\nNasham had never been </span>\n",
       "<span style=\"color: #008000; text-decoration-color: #008000\">here before; his duties had involved securing the lower\\nlevels. Those were now overrun. As the machine horde had </span>\n",
       "<span style=\"color: #008000; text-decoration-color: #008000\">poured through the\\nbreached wall, more and more of their diggers had burrowed their way into\\nInvida’s bunkers, </span>\n",
       "<span style=\"color: #008000; text-decoration-color: #008000\">complexes and tunnel system. Anywhere other than the central\\ncore had been turned into a charnel house as lifeless</span>\n",
       "<span style=\"color: #008000; text-decoration-color: #008000\">murderers stalked their\\nprey through pitch-blank corridors.  \\n  \\nAfter a moment, Nasham looked up at the </span>\n",
       "<span style=\"color: #008000; text-decoration-color: #008000\">convert. “What is it?”  \\n  \\nRadan bit her lip, running a hand through her stringy, sweat-soaked mane. “I\\ndon’t </span>\n",
       "<span style=\"color: #008000; text-decoration-color: #008000\">know.”  \\n  \\nIt was a fair assessment, Nasham realized shortly. Radan led him to the area’s\\nstaff lounge. It was </span>\n",
       "<span style=\"color: #008000; text-decoration-color: #008000\">only Nasham and a handful of his Janissaries present; the\\ncivilians they’d saved hadn’t been let in. With very </span>\n",
       "<span style=\"color: #008000; text-decoration-color: #008000\">good reason; the\\nscientists that had worked here were all dead. As bad as it sounded, that\\nwouldn’t have been in </span>\n",
       "<span style=\"color: #008000; text-decoration-color: #008000\">itself, a reason to spare the civilians this sight. No,\\nit was the manner in which they’d died. They’d been lined </span>\n",
       "<span style=\"color: #008000; text-decoration-color: #008000\">up against one wall\\nand shot in the head. Very few of them were even recognizable. Verde looked up\\nas Nasham </span>\n",
       "<span style=\"color: #008000; text-decoration-color: #008000\">entered the room, the Janissary holding up a hand. Identicards\\ndangled from his fist. “I checked the work roster,”</span>\n",
       "<span style=\"color: #008000; text-decoration-color: #008000\">he said without preamble.\\n“Everyone who worked here is over there,” he nodded towards the row of\\ncorpses. “As far</span>\n",
       "<span style=\"color: #008000; text-decoration-color: #008000\">I as can tell, at least.”  \\n  \\n“Did one of those things get in here?” another of Nasham’s squad asked. Anz,\\nhe </span>\n",
       "<span style=\"color: #008000; text-decoration-color: #008000\">thought.  \\n  \\n“No,” the submissive said aloud, his voice raw. It hurt to speak. “A machine\\nwouldn’t have </span>\n",
       "<span style=\"color: #008000; text-decoration-color: #008000\">bothered lining them up to kill them.” He knelt beside a female\\nThoughtful. “This was a Compact weapon. Point </span>\n",
       "<span style=\"color: #008000; text-decoration-color: #008000\">seven-five caliber. Probably a\\nJanissary carbine.” He looked up. “Why?”  \\n  \\nVerde shared a glance with Radan </span>\n",
       "<span style=\"color: #008000; text-decoration-color: #008000\">and the other squad members in the room. He\\nheld out a datapad. With a sudden unpleasant sensation curdling in his</span>\n",
       "<span style=\"color: #008000; text-decoration-color: #008000\">belly,\\nNasham took it and thumbed the screen on.  \\n  \\n~  \\n  \\nCrusader Marsu died with his men. The enemy had </span>\n",
       "<span style=\"color: #008000; text-decoration-color: #008000\">infiltrated the comm network\\nand when he tried to secure Invida Station’s computer core, his force walked\\ninto an</span>\n",
       "<span style=\"color: #008000; text-decoration-color: #008000\">ambush. In a display of heroism worthy of remembrance, the crusader\\ntook the bulk of his mangled forces and threw </span>\n",
       "<span style=\"color: #008000; text-decoration-color: #008000\">them into the enemy’s teeth,\\nbuying time for a single squad to break contact and cloister themselves in </span>\n",
       "<span style=\"color: #008000; text-decoration-color: #008000\">the\\ncomputer core, setting the necessary charges. They collapsed the passageways\\nafter them, trapping themselves </span>\n",
       "<span style=\"color: #008000; text-decoration-color: #008000\">inside, but preventing the enemy from reaching\\nthe core. By the time dedicated diggers arrived, Column Leader </span>\n",
       "<span style=\"color: #008000; text-decoration-color: #008000\">Prime Yiven\\ndetonated the charges and destroyed the colony’s main computer hub.  \\n  \\nThe quarantine purges ended</span>\n",
       "<span style=\"color: #008000; text-decoration-color: #008000\">as a hostile infiltration team disabled the\\nhardware connections, following their sabotage up by flooding the </span>\n",
       "<span style=\"color: #008000; text-decoration-color: #008000\">section with\\nradiation to prevent repairs being made. The irony of the situation went\\nunnoticed.  \\n  \\nThere </span>\n",
       "<span style=\"color: #008000; text-decoration-color: #008000\">were many unsung heroes in the last days of Invida Station’s existence,\\nmen and women who died to save their </span>\n",
       "<span style=\"color: #008000; text-decoration-color: #008000\">comrades’ lives, assaults of such\\nferocity and dedication that the enemy’s advance was slowed, halted and in\\neven</span>\n",
       "<span style=\"color: #008000; text-decoration-color: #008000\">pushed back in places. Ground was gained, fought over, lost and taken\\nagain as the butchery escalated, but the </span>\n",
       "<span style=\"color: #008000; text-decoration-color: #008000\">enemy’s forces were effectively\\ninfinite. Nothing less than complete destruction could stop one of the\\nmachines; </span>\n",
       "<span style=\"color: #008000; text-decoration-color: #008000\">self-repair mechanisms and a steady stream of mechanical tenders\\nmeant that on several occasions, Compact forces </span>\n",
       "<span style=\"color: #008000; text-decoration-color: #008000\">identified their opponents as\\nunits they had previously neutralized.  \\n  \\nFighting inside the colony became an </span>\n",
       "<span style=\"color: #008000; text-decoration-color: #008000\">increasing hostile environment. Scarab\\nswarms and Spiders would cut through bulkheads and walls to open up </span>\n",
       "<span style=\"color: #008000; text-decoration-color: #008000\">new\\navenues of attack. Drilling forms would do likewise, cutting through the\\nnetwork of tunnels to access sealed </span>\n",
       "<span style=\"color: #008000; text-decoration-color: #008000\">portions of the station. Machines carrying\\ndemolition charges would blast or burn through sealed doors. Heavy </span>\n",
       "<span style=\"color: #008000; text-decoration-color: #008000\">weapon\\nteams set up firepoints to isolate Compact units from each other. Infiltrators\\nfollowed comm signals, </span>\n",
       "<span style=\"color: #008000; text-decoration-color: #008000\">preying on understrength squads and individual\\nsoldiers. Civilian casualties continued to mount as traditional </span>\n",
       "<span style=\"color: #008000; text-decoration-color: #008000\">lines of\\ndefence meant little to the invading force. Reports of the hostiles attempting\\nto take high-ranking </span>\n",
       "<span style=\"color: #008000; text-decoration-color: #008000\">personnel alive were unconfirmed. A claim from a security\\nforce witnessing a Janissary team shooting a captive </span>\n",
       "<span style=\"color: #008000; text-decoration-color: #008000\">researcher dead was\\ndismissed as an unfortunate accident.  \\n  \\nIsolated from the main battlegrounds, Nasham led </span>\n",
       "<span style=\"color: #008000; text-decoration-color: #008000\">R’kan squad through the\\nlaboratories. His blood was pounding in his head as they passed more scenes of\\nmurder. </span>\n",
       "<span style=\"color: #008000; text-decoration-color: #008000\">More dead scientists and technicians. Like the others, these hadn’t\\nbeen killed in battle. They’d all been </span>\n",
       "<span style=\"color: #008000; text-decoration-color: #008000\">executed. Most had been shot while\\nstanding; a few had been on their knees or lying on the ground as </span>\n",
       "<span style=\"color: #008000; text-decoration-color: #008000\">their\\npreference, culture or religion dictated. Some had been shot in the back as\\nthey had tried to run.  \\n  </span>\n",
       "<span style=\"color: #008000; text-decoration-color: #008000\">\\nComputer screens were smashed, work terminals were shot to pieces, flames\\ndanced and crackled amidst ruined </span>\n",
       "<span style=\"color: #008000; text-decoration-color: #008000\">cybernetics laboratories. The destruction\\nhad been focused at first; targeting specific bits of research but </span>\n",
       "<span style=\"color: #008000; text-decoration-color: #008000\">had\\ngraduated to full-on demolition of anything that looked even vaguely\\nimportant. Whoever had done this had </span>\n",
       "<span style=\"color: #008000; text-decoration-color: #008000\">killed the last few groups of researchers\\nwithout realizing that now they didn’t know what physical devices needed</span>\n",
       "<span style=\"color: #008000; text-decoration-color: #008000\">to be\\ndestroyed. Either they hadn’t cared, or hadn’t had the chance to do so. _I\\nsuppose the gunshots from the </span>\n",
       "<span style=\"color: #008000; text-decoration-color: #008000\">first groups you murdered unsettled the rest,\\nyes?_ Nasham thought sardonically.  \\n  \\n“This was going on while </span>\n",
       "<span style=\"color: #008000; text-decoration-color: #008000\">we were fighting,” he said bitterly. “While we were\\ntrying to save these people, they were already dead.” He </span>\n",
       "<span style=\"color: #008000; text-decoration-color: #008000\">traced one finger\\nthrough a pool of blood. It was still wet, only just now starting to dry. “I\\ndidn’t know we had</span>\n",
       "<span style=\"color: #008000; text-decoration-color: #008000\">Tier 5 protocols in place here.”  \\n  \\nThe other Janissaries shared a glance between each other. “You mentioned </span>\n",
       "<span style=\"color: #008000; text-decoration-color: #008000\">that\\nafter the first room,” Radan said to her superior. They were talking on the\\nsquad’s channel to avoid </span>\n",
       "<span style=\"color: #008000; text-decoration-color: #008000\">alarming the civilians; the scenes of slaughter had\\nput their charges on the verge of panic as it was. “What are </span>\n",
       "<span style=\"color: #008000; text-decoration-color: #008000\">they?”  \\n  \\n“Something I shouldn’t even know about myself,” Nasham replied. He looked over\\nhis shoulder at his </span>\n",
       "<span style=\"color: #008000; text-decoration-color: #008000\">handful of survivors. They were close; the scattered comm\\nintercepts R’kan was picking up were getting stronger </span>\n",
       "<span style=\"color: #008000; text-decoration-color: #008000\">and more coherent. “But\\nyou have a powerful enough bloodline and you learn things outside your normal\\nduties. </span>\n",
       "<span style=\"color: #008000; text-decoration-color: #008000\">Threat Tier 5 protocols assume that something is too dangerous to be\\nallowed to exist, in any form. All traces of </span>\n",
       "<span style=\"color: #008000; text-decoration-color: #008000\">it have to be wiped,” he held up\\nhis hand, watching trails of blood run along the angles of his gauntlet. </span>\n",
       "<span style=\"color: #008000; text-decoration-color: #008000\">“All\\nrecords are destroyed. All personnel are terminated. Sufficiently valuable\\nindividuals may be mind-wiped for</span>\n",
       "<span style=\"color: #008000; text-decoration-color: #008000\">their protection. Everything else is\\ndestroyed.” He chuckled. The sound was devoid of humour. “Yiven’s </span>\n",
       "<span style=\"color: #008000; text-decoration-color: #008000\">cleaning\\nhouse.”  \\n  \\nHe stood with a purr of powered joints. “Of course, it’s not a real Tier 5\\nsituation, is </span>\n",
       "<span style=\"color: #008000; text-decoration-color: #008000\">it? There are records. _Unmatchable Deed_ got out. Whoever\\nfounded this colony still exists. Whoever signed the </span>\n",
       "<span style=\"color: #008000; text-decoration-color: #008000\">orders,” he laughed\\nagain. It was even uglier than before. “I don’t think they’re going to get\\nscratched. Do you?</span>\n",
       "<span style=\"color: #008000; text-decoration-color: #008000\">No, Yiven’s just... cleaning house.” He repeated, managing\\nto stop himself from saying anything else.  \\n  \\n“All </span>\n",
       "<span style=\"color: #008000; text-decoration-color: #008000\">these people...” Anz said. “We were supposed to protect them.”  \\n  \\n“Up until they became a liability,” Verde </span>\n",
       "<span style=\"color: #008000; text-decoration-color: #008000\">sneered. “Invida’s always been a\\nblack box and now they’re closing it up with us still inside.”  \\n  \\nThe </span>\n",
       "<span style=\"color: #008000; text-decoration-color: #008000\">Janissaries looked at him. Radan spoke, nervously running her fingers over\\nthe trigger guard of her grenade </span>\n",
       "<span style=\"color: #008000; text-decoration-color: #008000\">launcher. “Then what do we do?”  \\n  \\n“What we always do,” Nasham replied. “Our duty.” He leaned over a small </span>\n",
       "<span style=\"color: #008000; text-decoration-color: #008000\">map,\\nwiping a smattering of blood and ash away as he traced a utility hallway that\\nled deeper into the central </span>\n",
       "<span style=\"color: #008000; text-decoration-color: #008000\">core, away from the scenes of ruin and slaughter.\\n“This should take us to secondary command.”  \\n  \\n“We’re not </span>\n",
       "<span style=\"color: #008000; text-decoration-color: #008000\">going to the main levels?” Radan asked.  \\n  \\n“If the main levels were safe, Yiven wouldn’t have ordered this </span>\n",
       "<span style=\"color: #008000; text-decoration-color: #008000\">pogrom,”\\nNasham shrugged. He looked over at his few survivors, military and civilian\\nboth. “It comes down to </span>\n",
       "<span style=\"color: #008000; text-decoration-color: #008000\">where you want to die. Anyone who wants to stay here\\ncan, but I...” he paused, seeing Asea’s face before his eyes.</span>\n",
       "<span style=\"color: #008000; text-decoration-color: #008000\">“I won’t die\\nuntil I settle some debts.”  \\n  \\nThey followed him.  \\n  \\n~  \\n  \\nTrue to predictions, command </span>\n",
       "<span style=\"color: #008000; text-decoration-color: #008000\">had been overrun. As R’kan squad came out of the\\nlaboratory complexes, communication with the surviving Compact </span>\n",
       "<span style=\"color: #008000; text-decoration-color: #008000\">forces became\\nmore frequent and clear. The picture it painted was all too familiar. About\\ntwo-thirds of the </span>\n",
       "<span style=\"color: #008000; text-decoration-color: #008000\">surviving defenders had been trapped in the upper levels of\\nthe central core when it fell. They’d managed to </span>\n",
       "<span style=\"color: #008000; text-decoration-color: #008000\">blockade the passages down\\ninto the lower core and were fighting to hold them against repeated and\\nintense </span>\n",
       "<span style=\"color: #008000; text-decoration-color: #008000\">attack. Several sallies to re-take vital facilities and sections had\\nfailed but at least two of the forces sent </span>\n",
       "<span style=\"color: #008000; text-decoration-color: #008000\">out were still operational, though\\nthey were being ground down steadily. All the buildings and personnel </span>\n",
       "<span style=\"color: #008000; text-decoration-color: #008000\">outside\\nthe central core were assumed to be lost. No scouting teams had reported back\\nto indicate otherwise.  \\n </span>\n",
       "<span style=\"color: #008000; text-decoration-color: #008000\">\\nAs Nasham led his squad towards the secondary command center, they picked up a\\nfew stragglers – wounded who’d </span>\n",
       "<span style=\"color: #008000; text-decoration-color: #008000\">fallen behind, a fire team that had gotten\\nturned around in the chaos. By the time he reached the Compact lines he</span>\n",
       "<span style=\"color: #008000; text-decoration-color: #008000\">had\\nalmost a full squad again.  \\n  \\nDespite a close call with the nervous gunners of a heavy weapon </span>\n",
       "<span style=\"color: #008000; text-decoration-color: #008000\">emplacement,\\nNasham led his ragtag band of survivors to what passed for safety. An\\nexhausted ideologue, </span>\n",
       "<span style=\"color: #008000; text-decoration-color: #008000\">submissive was there to meet them. “Patron,” he said,\\nsaluting. “We’d heard your unit was caught in the purge.”  </span>\n",
       "<span style=\"color: #008000; text-decoration-color: #008000\">\\n  \\n“We survived.” Nasham gestured to the civilians in his group. “These people\\nneed medical attention.”  \\n  </span>\n",
       "<span style=\"color: #008000; text-decoration-color: #008000\">\\nThe Janissary officer gestured and an advocate stepped forward. “We have some\\ncivilian survivors as well,” the </span>\n",
       "<span style=\"color: #008000; text-decoration-color: #008000\">ideologue, submissive commented. “We’ll take\\ncare of them.”  \\n  \\n“I’m sure you will,” Nasham replied. He </span>\n",
       "<span style=\"color: #008000; text-decoration-color: #008000\">half-turned towards the noncom. “You\\ndie before they do.”  \\n  \\n“Of course, patron,” the advocate said. “That’s </span>\n",
       "<span style=\"color: #008000; text-decoration-color: #008000\">our job.”  \\n  \\n“Yes it is,” Nasham said pointedly. “It most certainly is.”  \\n  \\nHe stepped closer to the </span>\n",
       "<span style=\"color: #008000; text-decoration-color: #008000\">younger submissive, blocking his view of the advocate\\nas Radan caught the other noncom’s arm. “ _Before_ they do,”</span>\n",
       "<span style=\"color: #008000; text-decoration-color: #008000\">the woman\\nwhispered. The advocate squared his shoulders, about to snap at the lower-\\nranking soldier’s insolence </span>\n",
       "<span style=\"color: #008000; text-decoration-color: #008000\">when he caught look in her eyes – one shared by\\nall her squad. “Yes,” was he said instead. “Of course.” He pushed </span>\n",
       "<span style=\"color: #008000; text-decoration-color: #008000\">by Radan,\\nleading the civilians away.  \\n  \\n“Who’s left?” Nasham asked the Janissary officer – Ket by his </span>\n",
       "<span style=\"color: #008000; text-decoration-color: #008000\">nametag.  \\n  \\nThe other man swallowed. “The column leader prime managed to get out of\\ncommand before it fell. </span>\n",
       "<span style=\"color: #008000; text-decoration-color: #008000\">Losses have been high among the leadership.” That was\\nunderstating things. Whenever possible, the machines went </span>\n",
       "<span style=\"color: #008000; text-decoration-color: #008000\">after officers, with\\nall the issues for command, control and morale that that entailed. “Crusader\\nMarsu died to </span>\n",
       "<span style=\"color: #008000; text-decoration-color: #008000\">secure the primary computer core. Demagogue Cluun was trapped in\\nthe upper levels. He was killed three hours ago. </span>\n",
       "<span style=\"color: #008000; text-decoration-color: #008000\">Ideologue Janz is...” the\\nsubmissive cast an quick glance down a particular tunnel. “...he’s not in his\\nright </span>\n",
       "<span style=\"color: #008000; text-decoration-color: #008000\">mind, patron. The prime is coordinating our defences now.”  \\n  \\nNasham moved to enter the command center, but the</span>\n",
       "<span style=\"color: #008000; text-decoration-color: #008000\">Janissary officer blocked\\nhim from doing so. “We need your squad on the perimeter, patron.”  \\n  \\nThe submissive </span>\n",
       "<span style=\"color: #008000; text-decoration-color: #008000\">paused a moment before looking at the other man. “I have\\ninformation that the prime needs to hear.”  \\n  \\n“I can </span>\n",
       "<span style=\"color: #008000; text-decoration-color: #008000\">relay it for you, patron.”  \\n  \\n“No.” Nasham tapped Ket’s rank bars and then his own. “I will communicate </span>\n",
       "<span style=\"color: #008000; text-decoration-color: #008000\">it\\ndirectly to the column leader prime.”  \\n  \\n“I-”  \\n  \\nThe group leader, submissive put his hand on the other</span>\n",
       "<span style=\"color: #008000; text-decoration-color: #008000\">man’s shoulder. “You’ve\\ndone your duty, submissive. Now I must do mine.”  \\n  \\n~  \\n  \\n“Yiven,” Nasham called as</span>\n",
       "<span style=\"color: #008000; text-decoration-color: #008000\">he strode into the command center, the rest of R’kan\\nfollowing him. Here and there he saw wounded soldiers slumped</span>\n",
       "<span style=\"color: #008000; text-decoration-color: #008000\">against the\\nwalls, ratings and minor officers trying to coordinate the last, futile\\ndefence of Invida Station. </span>\n",
       "<span style=\"color: #008000; text-decoration-color: #008000\">The room stunk of dust, ozone and blood. The\\nstation’s commander was leaning over a console, eyes intent on </span>\n",
       "<span style=\"color: #008000; text-decoration-color: #008000\">whatever it\\nshowed. “Yiven,” Nasham raised his voice. Finally, the prime looked up. His\\neyes widened slightly as </span>\n",
       "<span style=\"color: #008000; text-decoration-color: #008000\">he saw Nasham.  \\n  \\n“That is _column leader prime_ Yiven to you, submissive,” the older man said\\nthrough gritted</span>\n",
       "<span style=\"color: #008000; text-decoration-color: #008000\">teeth.  \\n  \\n“If you were worthy of that rank, I’d address you by it,” Nasham said. He held\\nup the datapad, </span>\n",
       "<span style=\"color: #008000; text-decoration-color: #008000\">tossing it to the prime. “That’s yours, I believe. I don’t\\nknow who actually carried it, but if they’re still </span>\n",
       "<span style=\"color: #008000; text-decoration-color: #008000\">alive, I’d guess you’ve got\\nthem out on the front lines. Your executioners are going to be the first to\\ndie, </span>\n",
       "<span style=\"color: #008000; text-decoration-color: #008000\">aren’t they? It’ll bury what they did. What you _ordered_ them to do.”  \\n  \\n“Mind your tone,” Yiven snapped. “You</span>\n",
       "<span style=\"color: #008000; text-decoration-color: #008000\">have no idea what’s going on here-”  \\n  \\n“I know enough,” Nasham said softly, unlimbering the shotcannon. A few </span>\n",
       "<span style=\"color: #008000; text-decoration-color: #008000\">guards\\nmoved towards him, but the soldiers of R’kan held them back. “This place\\nshould have stayed dark and dead.</span>\n",
       "<span style=\"color: #008000; text-decoration-color: #008000\">Two thousand years ago, we made a mistake.\\nWe should have left it here, never to be found. I don’t know why </span>\n",
       "<span style=\"color: #008000; text-decoration-color: #008000\">Command\\nwanted that abomination back, but it has to have something to do with what’s\\nhappening now. We’re dying </span>\n",
       "<span style=\"color: #008000; text-decoration-color: #008000\">for their lies.” He pointed to the datapad. “You\\nordered ‘reliable’ Janissaries to murder the scientists and </span>\n",
       "<span style=\"color: #008000; text-decoration-color: #008000\">workers. You sent\\nin teams posing as their saviours. You told them they’d be safe. Instead, you\\nhad them rounded </span>\n",
       "<span style=\"color: #008000; text-decoration-color: #008000\">up and murdered.”  \\n  \\nA ripple of disbelief ran through the assembled personnel as they looked to\\neach other </span>\n",
       "<span style=\"color: #008000; text-decoration-color: #008000\">and between Nasham and Yiven.  \\n  \\n“Yes,” the column leader admitted. “I did.”  \\n  \\n“When did it start? When </span>\n",
       "<span style=\"color: #008000; text-decoration-color: #008000\">did you decide that we all had to die?” Nasham tapped\\nhis earpiece. “I’ve been listening to our people fall. </span>\n",
       "<span style=\"color: #008000; text-decoration-color: #008000\">Disastrous counter-\\nattacks. Threadbare defence lines. Wasteful deployments. Conflicting\\ndirectives. It’s been </span>\n",
       "<span style=\"color: #008000; text-decoration-color: #008000\">you, hasn’t it? You’ve been feeding us to those things\\nbit by bit. So gradually that we’d never notice.”  \\n  </span>\n",
       "<span style=\"color: #008000; text-decoration-color: #008000\">\\n“It was the only way,” Yiven said. “You don’t understand.”  \\n  \\n“You betrayed us,” Nasham accused. He wanted to</span>\n",
       "<span style=\"color: #008000; text-decoration-color: #008000\">feel angry, he wanted to feel\\na surge of righteous fury at this revelation, but he couldn’t. Two days of\\nendless </span>\n",
       "<span style=\"color: #008000; text-decoration-color: #008000\">slaughter and of his constant failures were crushing down on his soul.\\n“I understand that.”  \\n  \\n“I _saved_ us,”</span>\n",
       "<span style=\"color: #008000; text-decoration-color: #008000\">the prime responded. There was a fervour in his eyes, an\\nunhealthy zealousness that made Nasham’s skin crawl. “We </span>\n",
       "<span style=\"color: #008000; text-decoration-color: #008000\">were always going to\\ndie. Relief was never going to arrive in time. While you spread dissent and\\nsubversion, I </span>\n",
       "<span style=\"color: #008000; text-decoration-color: #008000\">made the decisions that needed to be made! I insured that this\\nfacility’s secrets will _not_ be taken by our </span>\n",
       "<span style=\"color: #008000; text-decoration-color: #008000\">enemy! That has been my burden\\nand my duty and it is one that I accepted. But not you, not group </span>\n",
       "<span style=\"color: #008000; text-decoration-color: #008000\">leader,\\nsubmissive Nasham Kem Unoth Ludhy Inku Pram Voy of such an exalted line, no.\\nYou know better than any of </span>\n",
       "<span style=\"color: #008000; text-decoration-color: #008000\">us.”  \\n  \\n“You betrayed us,” Nasham repeated. “It was your duty to safeguard this\\ninstallation and everyone. You</span>\n",
       "<span style=\"color: #008000; text-decoration-color: #008000\">not only failed in that duty, you went out of\\nyour way to abrogate it, all for some damned secrets. Twenty </span>\n",
       "<span style=\"color: #008000; text-decoration-color: #008000\">thousand lives\\nwill be extinguished and none of us will know why. We’re dying for nothing.”  \\n  \\n“We don’t need </span>\n",
       "<span style=\"color: #008000; text-decoration-color: #008000\">to know _why_ ,” Yiven sneered. “We are Tribunes. The sword and\\nshield of the Compact. The Triarchs’ chosen </span>\n",
       "<span style=\"color: #008000; text-decoration-color: #008000\">soldiers. It is our duty to fight\\nfor them and if it necessary, it is our duty to die! I have faith in what </span>\n",
       "<span style=\"color: #008000; text-decoration-color: #008000\">we\\nare doing. I know that our deaths are for a greater purpose, a greater cause.\\nCan’t you see that?”  \\n  \\n“Not</span>\n",
       "<span style=\"color: #008000; text-decoration-color: #008000\">like this.” The gun shook in Nasham’s hands. Every flatline signal he’d\\nheard over the past two days rang in his </span>\n",
       "<span style=\"color: #008000; text-decoration-color: #008000\">ears, every scream he’d listened to,\\nevery face he’d seen... “We deserve better.”  \\n  \\n_Asea._  \\n  \\n“ </span>\n",
       "<span style=\"color: #008000; text-decoration-color: #008000\">_Exactly_ like this,” Yiven was ranting. “You talk about the Articles of the\\nCompact, but I do what I do for the </span>\n",
       "<span style=\"color: #008000; text-decoration-color: #008000\">Compact – for what it is and what it will\\nbe! I am willing to die for the safety, security and _glory_ of the </span>\n",
       "<span style=\"color: #008000; text-decoration-color: #008000\">Compact,\\nto insure that it survives and prospers. What about you?”  \\n  \\n“Enough,” Nasham interrupted. “Column </span>\n",
       "<span style=\"color: #008000; text-decoration-color: #008000\">Leader Prime Yiven, pursuant to\\ndirective 749.1 of the military code of justice, I find you unfit to command\\nand </span>\n",
       "<span style=\"color: #008000; text-decoration-color: #008000\">I relieve you of your position.”  \\n  \\n“You sanctimonious little _jahara_ ,” Yiven cursed. “Who do you think you </span>\n",
       "<span style=\"color: #008000; text-decoration-color: #008000\">are?\\nI have been serving the nation we swore to protect since before you got off\\nthe teat. I will not be judged </span>\n",
       "<span style=\"color: #008000; text-decoration-color: #008000\">by someone like you. _I did this for the\\nCompact,_ ” his hand dropped towards the pistol at his waist-  \\n  </span>\n",
       "<span style=\"color: #008000; text-decoration-color: #008000\">\\n-Nasham fired, each of the shotcannon’s three barrels speaking at once. Each slug put a hole the size of a </span>\n",
       "<span style=\"color: #008000; text-decoration-color: #008000\">child’s fist in Yiven’s chest, and each of them created an exit wound the size of a man’s head in his back. The </span>\n",
       "<span style=\"color: #008000; text-decoration-color: #008000\">prime toppled, his expression of righteous indignation still frozen on his face. “So did I,” Nasham said into the </span>\n",
       "<span style=\"color: #008000; text-decoration-color: #008000\">silence.  \\n  \\nHe looked around at the other face in the room. Tired, exhausted, frightened.\\nNone of them moved </span>\n",
       "<span style=\"color: #008000; text-decoration-color: #008000\">to shoot him down. Somehow, that was the funniest thing in\\nthe world and he slumped into a chair and started </span>\n",
       "<span style=\"color: #008000; text-decoration-color: #008000\">laughing.  \\n  \\nIn the distance, he could hear gunfire as the final battle of Invida Station\\nbegan.  \\n  \\n~  \\n </span>\n",
       "<span style=\"color: #008000; text-decoration-color: #008000\">\\nLater:  \\n  \\nThe door to the interrogation room slid shut with a whisper of pneumatic\\ngears. Special Agent </span>\n",
       "<span style=\"color: #008000; text-decoration-color: #008000\">Linnel Setdaughter stepped into the observation room,\\nlooking from her partner to the other observer. “What do you</span>\n",
       "<span style=\"color: #008000; text-decoration-color: #008000\">think?”  \\n  \\n“This is the fourth interview,” Bastion leader, submissive Hellv (and eight\\nnames besides) said. </span>\n",
       "<span style=\"color: #008000; text-decoration-color: #008000\">“Nothing new has come out.”  \\n  \\n“I must agree with the bastion leader,” Special Agent Avun’et added. “There\\nhas</span>\n",
       "<span style=\"color: #008000; text-decoration-color: #008000\">been no substantive difference in the information the group leader,\\nsubmissive has supplied. He has been </span>\n",
       "<span style=\"color: #008000; text-decoration-color: #008000\">commendably thorough.”  \\n  \\n“Agreed. I think we’ve got all we can get from him,” Linnel looked through </span>\n",
       "<span style=\"color: #008000; text-decoration-color: #008000\">the\\none-way mirror. Group leader, submissive Nasham Kem Unoth Ludhy Inku Pram Voy\\nwas still seated, resting his </span>\n",
       "<span style=\"color: #008000; text-decoration-color: #008000\">forearms on the tabletop. The Shimmer bit her\\nlip. She’d interviewed Watchers with more animus to them. The </span>\n",
       "<span style=\"color: #008000; text-decoration-color: #008000\">submissive had\\nanswered all of her questions in the same flat monotone, his gaze never\\nwavering from a point just</span>\n",
       "<span style=\"color: #008000; text-decoration-color: #008000\">past the back of her head. There had been moments –\\njust moments – when she thought he might break down, when a </span>\n",
       "<span style=\"color: #008000; text-decoration-color: #008000\">touch of grief or\\nanger had slipped into his words... but those emotions had faded away just as\\nquickly, washed </span>\n",
       "<span style=\"color: #008000; text-decoration-color: #008000\">away and buried. She couldn’t blame him; not with what he’d\\ngone through. Not counting the Space Force personnel </span>\n",
       "<span style=\"color: #008000; text-decoration-color: #008000\">of Invida Orbital and the\\npicket ships, 20,391 people had called Invida Station home. 20,390 of them\\nwere now </span>\n",
       "<span style=\"color: #008000; text-decoration-color: #008000\">dead.  \\n  \\n“Yes,” Avun’et nodded. He looked to the flag officer. “If you wish, we can\\nschedule some </span>\n",
       "<span style=\"color: #008000; text-decoration-color: #008000\">deep-regression interrogations.”  \\n  \\nHellv stroked the underside of his jaw. “No,” he said. “Those are </span>\n",
       "<span style=\"color: #008000; text-decoration-color: #008000\">rarely\\neffective on Tribunes and I don’t believe the submissive is holding anything\\nvital back. We’ll try some </span>\n",
       "<span style=\"color: #008000; text-decoration-color: #008000\">low-level recall procedures to get as much detail\\nas we can, but I don’t think anything more than that would be </span>\n",
       "<span style=\"color: #008000; text-decoration-color: #008000\">useful.”  \\n  \\nThe Shimmer nodded. Standing beside the Thoughtful, the pair of them could –\\nat a quick glance – </span>\n",
       "<span style=\"color: #008000; text-decoration-color: #008000\">almost be mistaken for father and daughter, the Thoughtful\\nalmost two feet taller than his partner. Both of them </span>\n",
       "<span style=\"color: #008000; text-decoration-color: #008000\">had the same build, the\\nsame smooth, hairless skin – but more than a quick look would easily betray\\nLinnel’s </span>\n",
       "<span style=\"color: #008000; text-decoration-color: #008000\">identity as a member of a client race. A wash of colour ran along her\\nskin as the Shimmer shifted her colouration </span>\n",
       "<span style=\"color: #008000; text-decoration-color: #008000\">from the blues and greys of the\\nobservation room to the off-white of her partner’s skin. “And after?”  \\n  \\nThe </span>\n",
       "<span style=\"color: #008000; text-decoration-color: #008000\">bastion leader, submissive leaned back, sitting on a small table. “That’s\\nFortune’s game, isn’t it? Officially, </span>\n",
       "<span style=\"color: #008000; text-decoration-color: #008000\">I’m not even here, so I can’t advise\\nyou. Some of my colleagues would prefer it if there were no survivors </span>\n",
       "<span style=\"color: #008000; text-decoration-color: #008000\">to\\nInvida. Others are, like me, curious about the submissive’s survival. We\\nhaven’t reached any consensus.” He </span>\n",
       "<span style=\"color: #008000; text-decoration-color: #008000\">smiled then. “So we’re passing the decision\\ndown to our agents on the scene. You get all of the responsibility, </span>\n",
       "<span style=\"color: #008000; text-decoration-color: #008000\">none of\\nthe credit and twice the blame.”  \\n  \\n“Just another day working for the Leadership,” Linnel observed </span>\n",
       "<span style=\"color: #008000; text-decoration-color: #008000\">dryly.  \\n  \\nHellv looked down his snout at the smaller female. “You should have thought of\\nthat a decade ago.” </span>\n",
       "<span style=\"color: #008000; text-decoration-color: #008000\">New to the CIS and following a connection between several\\nUnbound clans and the Red Hand, one agent Linnel had </span>\n",
       "<span style=\"color: #008000; text-decoration-color: #008000\">come across a secret\\nknown only to the highest echelons. Rather than disposing of the young\\nofficer, Hellv had </span>\n",
       "<span style=\"color: #008000; text-decoration-color: #008000\">seen promise in the Shimmer and drafted both Linnel and her\\nlong-suffering partner into the Space Force’s shadow </span>\n",
       "<span style=\"color: #008000; text-decoration-color: #008000\">war against the faction\\nthey’d code-named ‘Gravestone’. Officially, they were still a part of the\\ncivilian arm of</span>\n",
       "<span style=\"color: #008000; text-decoration-color: #008000\">the CIS with no military clearance or rank. Unofficially, they\\nwere one of a handful of agents deemed trustworthy </span>\n",
       "<span style=\"color: #008000; text-decoration-color: #008000\">enough to represent the\\nhighest echelons of the Space Force’s Leadership.  \\n  \\nAccordingly, Hellv had made sure </span>\n",
       "<span style=\"color: #008000; text-decoration-color: #008000\">that they had taken lead on the investigation\\ninto Invida Station’s ‘disastrous reactor malfunction’. The Tribune </span>\n",
       "<span style=\"color: #008000; text-decoration-color: #008000\">reached\\ninto his jacket and removed a roll of small candies, popping one into his\\nmouth and handing the other to </span>\n",
       "<span style=\"color: #008000; text-decoration-color: #008000\">Linnel. Avun’et waved the offer away politely.  \\n  \\nThe Thoughtful leaned forward, looking through the one-way </span>\n",
       "<span style=\"color: #008000; text-decoration-color: #008000\">mirror, regarding\\nthe subject. “Termination would be simplest,” he said. “He’s had contact with\\nGravestone. He </span>\n",
       "<span style=\"color: #008000; text-decoration-color: #008000\">knows what happened on Invida – or close enough to concern the\\nLeadership.” Even the agents didn’t know the full </span>\n",
       "<span style=\"color: #008000; text-decoration-color: #008000\">extent, but that was for the\\nbest. “He was party to a black-boxed operation.” The Thoughtful glanced down\\nat the </span>\n",
       "<span style=\"color: #008000; text-decoration-color: #008000\">smaller woman. “Considering his mental state, it might even be a\\nmercy.”  \\n  \\n“He said that, you know.”  \\n  </span>\n",
       "<span style=\"color: #008000; text-decoration-color: #008000\">\\nAvun’et blinked. Hellv cocked his head towards Linnel.  \\n  \\nThe Shimmer stroked her fingers over the back of </span>\n",
       "<span style=\"color: #008000; text-decoration-color: #008000\">her hand.“It was after our\\nfirst interview, when the recorder was off. He laughed a little and said that\\nhe was </span>\n",
       "<span style=\"color: #008000; text-decoration-color: #008000\">glad that he’d had a chance to tell someone. That he was happy not to\\nhave to carry this by himself any longer. </span>\n",
       "<span style=\"color: #008000; text-decoration-color: #008000\">That he’d done what he had to. He\\nwas expecting – even hoping – to die.” Linnel cocked her head. “I put him on </span>\n",
       "<span style=\"color: #008000; text-decoration-color: #008000\">a\\nsuicide watch.”  \\n  \\nThe Thoughtful raised a hairless eyebrow.  \\n  \\n“He spoke to it,” Linnel pointed out. </span>\n",
       "<span style=\"color: #008000; text-decoration-color: #008000\">“How many times has that happened? I’m\\nnot talking about Gravestone’s normal communications. I mean real, </span>\n",
       "<span style=\"color: #008000; text-decoration-color: #008000\">honest\\ndialogue. How many times has Gravestone _ever_ talked to a Tribune and left\\nthem alive and sane?”  \\n  </span>\n",
       "<span style=\"color: #008000; text-decoration-color: #008000\">\\n“None that I am aware of,” Avun’et replied. He looked to Hellv; the Tribune\\ngave his head a minute shake, </span>\n",
       "<span style=\"color: #008000; text-decoration-color: #008000\">affirming the Thoughtful’s appraisal. “However,\\nI question the level of sanity the submissive has if he required a</span>\n",
       "<span style=\"color: #008000; text-decoration-color: #008000\">suicide\\nwatch.”  \\n  \\n“He’s been through a lot.”  \\n  \\n“Indeed. But aside from a few details here and there, </span>\n",
       "<span style=\"color: #008000; text-decoration-color: #008000\">he’s given us\\neverything.” Avun’et let out a disappointed sigh through his nostril slits. “A\\nshame we couldn’t </span>\n",
       "<span style=\"color: #008000; text-decoration-color: #008000\">have analyzed the site.”  \\n  \\nLinnel nodded. Gravestone had left a going-away present on Invida – a five\\nhundred</span>\n",
       "<span style=\"color: #008000; text-decoration-color: #008000\">megaton nuclear warhead. It had armed itself the instant the relief\\nforce’s shuttles had broken atmosphere. </span>\n",
       "<span style=\"color: #008000; text-decoration-color: #008000\">There’d been barely enough time to\\nevacuate Nasham before the entire installation had been turned into a </span>\n",
       "<span style=\"color: #008000; text-decoration-color: #008000\">crater.\\nAs a final insult, it had been a filthy warhead too, irradiating a fair chunk\\nof the planet. Both </span>\n",
       "<span style=\"color: #008000; text-decoration-color: #008000\">stations were completely scratched. Even if anything more\\nthan finger-nail sized pieces of debris had survived the</span>\n",
       "<span style=\"color: #008000; text-decoration-color: #008000\">blast, there would be\\nno returning to that site for decades. “Our superiors haven’t been able to\\ndecide?” she </span>\n",
       "<span style=\"color: #008000; text-decoration-color: #008000\">mused aloud.  \\n  \\n“They don’t want to commit to anything,” the Thoughtful answered before Hellv\\ncould, tapping </span>\n",
       "<span style=\"color: #008000; text-decoration-color: #008000\">his chin contemplatively. “I have the feeling that if this were\\nany other situation, we would have already </span>\n",
       "<span style=\"color: #008000; text-decoration-color: #008000\">scheduled the submissive’s suicide,\\nbut there’s two factors that have to be weighing on their decision.”  \\n  </span>\n",
       "<span style=\"color: #008000; text-decoration-color: #008000\">\\n“His family,” Linnel observed. “Six names for someone of his rank _is_ a lot.”  \\n  \\n“Correct,” Hellv put in. </span>\n",
       "<span style=\"color: #008000; text-decoration-color: #008000\">“As I said, they’re leaving it in your capable hands.\\nThey say it’s because with your position comes </span>\n",
       "<span style=\"color: #008000; text-decoration-color: #008000\">responsibilities like this, but\\nhalf of them are afraid that Hierarch Caend will learn that his </span>\n",
       "<span style=\"color: #008000; text-decoration-color: #008000\">favourite\\nnephew’s death doesn’t match any of the cover stories we’ve prepared. The\\nother half... well, there’s </span>\n",
       "<span style=\"color: #008000; text-decoration-color: #008000\">no need to bore you with the politics of it all.”  \\n  \\n“I’d think they’d be less involved with political concerns</span>\n",
       "<span style=\"color: #008000; text-decoration-color: #008000\">in a situation like\\nthis.”  \\n  \\nHellv popped another candy into his mouth. The older man had a sweet tooth.\\n“My</span>\n",
       "<span style=\"color: #008000; text-decoration-color: #008000\">dear girl, there are always political concerns. The W- Gravestone could be\\nadvancing on Foundation One and the </span>\n",
       "<span style=\"color: #008000; text-decoration-color: #008000\">Leadership would still bicker about the\\nproper course of action.”  \\n  \\n“Indeed,” Avun’et replied, trying to draw</span>\n",
       "<span style=\"color: #008000; text-decoration-color: #008000\">the conversation back on point. “As\\nyou said, this is the first time that Gravestone has attempted anything </span>\n",
       "<span style=\"color: #008000; text-decoration-color: #008000\">close\\nto actual contact.” He leaned forward. “That alone is worth further study.\\nStill... he admitted murdering a</span>\n",
       "<span style=\"color: #008000; text-decoration-color: #008000\">superior officer. Worse, he pieced together\\nmuch of what Invida Station was meant to achieve. He’s a danger to </span>\n",
       "<span style=\"color: #008000; text-decoration-color: #008000\">the\\nLeadership’s position on Gravestone. If it were anyone else, any other\\ncircumstance...”  \\n  \\n“But he’s not </span>\n",
       "<span style=\"color: #008000; text-decoration-color: #008000\">and it’s not,” Linnel reminded her partner. “We should carry out\\nmemory suppression. Termination is wasteful. If </span>\n",
       "<span style=\"color: #008000; text-decoration-color: #008000\">there is something, anything\\nthat the submissive has held back consciously or otherwise, we’d never know.\\nMore to</span>\n",
       "<span style=\"color: #008000; text-decoration-color: #008000\">the point, he’s a witness – one of the few we’ve ever had to\\nGravestone’s activity. That’s a resource I don’t </span>\n",
       "<span style=\"color: #008000; text-decoration-color: #008000\">believe we should be so quick\\nto throw away.”  \\n  \\nThe Thoughtful grimaced. “Tribune physiology is too robust </span>\n",
       "<span style=\"color: #008000; text-decoration-color: #008000\">for its own good.\\nNormal memory purges are ineffective. We’d need to use a Balker-Mnenet\\ntreatment regime to </span>\n",
       "<span style=\"color: #008000; text-decoration-color: #008000\">suppress the incident. Even with appropriate medication,\\nit may not last and if it does, it’s still unreliable. </span>\n",
       "<span style=\"color: #008000; text-decoration-color: #008000\">Case studies show\\nsignificant rates of memory retention, even if fragmented. What if his\\nmemories come back?”  \\n</span>\n",
       "<span style=\"color: #008000; text-decoration-color: #008000\">\\n“Then we see what happens,” Linnel replied. “If he breaks down like this\\nagain, we may to have to scratch him. I</span>\n",
       "<span style=\"color: #008000; text-decoration-color: #008000\">think we can avoid that. He wants to\\nforget. We can use that. He as much told me that he wants the memories gone </span>\n",
       "<span style=\"color: #008000; text-decoration-color: #008000\">–\\nwe can do that for him. It’ll give him an incentive to cooperate. If they\\nstart coming back, we’ll be able to </span>\n",
       "<span style=\"color: #008000; text-decoration-color: #008000\">handle it. This will work.”  \\n  \\n“Still, his actions can’t be ignored,” Avun’et commented. “Column leader </span>\n",
       "<span style=\"color: #008000; text-decoration-color: #008000\">prime\\nYiven had friends. Some of them may even be among the bastion leader,\\nsubmissive’s Leadership. I doubt they</span>\n",
       "<span style=\"color: #008000; text-decoration-color: #008000\">will be forgiving.”  \\n  \\nHellv’s only answer was a miniscule nod.  \\n  \\nA ripple of colour ran across the </span>\n",
       "<span style=\"color: #008000; text-decoration-color: #008000\">Shimmer’s skin. “Then break him,” she said.\\n“Take a name, demote him and divert him from the command track. Put </span>\n",
       "<span style=\"color: #008000; text-decoration-color: #008000\">him\\nsomewhere out of the way; we’ve got enough backwater to go around. As far as\\nthe galaxy will know, the </span>\n",
       "<span style=\"color: #008000; text-decoration-color: #008000\">submissive was the sole survivor of a catastrophic\\naccident. Let them make up whatever stories they want. </span>\n",
       "<span style=\"color: #008000; text-decoration-color: #008000\">Cowardice, collusion,\\nincompetence. They’ll all work to discredit him if he ever does remember and\\nruns his </span>\n",
       "<span style=\"color: #008000; text-decoration-color: #008000\">mouth.” She looked out into the interrogation room for a moment\\nbefore turning to regard the flag officer. “We’ve </span>\n",
       "<span style=\"color: #008000; text-decoration-color: #008000\">been wading through Unbound\\nfilth for years trying to get some kind of lead on Gravestone. That man,” she\\npointed</span>\n",
       "<span style=\"color: #008000; text-decoration-color: #008000\">to Nasham. “Is as close as we’re likely to come. I don’t want to see\\nthat kind of asset thrown away, especially </span>\n",
       "<span style=\"color: #008000; text-decoration-color: #008000\">not because it’s the easy thing to\\ndo. We’re not machines. We don’t destroy something just because it’s damaged.” </span>\n",
       "<span style=\"color: #008000; text-decoration-color: #008000\">\\n  \\nAvun’et splayed his hands. “As you like.” His partner was too soft-hearted for\\nher own good; she had </span>\n",
       "<span style=\"color: #008000; text-decoration-color: #008000\">difficulty viewing things from a purely rational\\noutlook. Of course, she was only a Shimmer so it was to be </span>\n",
       "<span style=\"color: #008000; text-decoration-color: #008000\">expected.  \\n  \\n“I’ll leave you to it then,” Hellv said, standing back up. “Run the final\\nseries of </span>\n",
       "<span style=\"color: #008000; text-decoration-color: #008000\">interrogations, work out a deal with the submissive and go from\\nthere. You knew where to send the appropriate </span>\n",
       "<span style=\"color: #008000; text-decoration-color: #008000\">documents. Once you’re finished\\nhere, I want you to move on to the Nergaras system to handle that incident </span>\n",
       "<span style=\"color: #008000; text-decoration-color: #008000\">we\\ntalked about.” He held up a hand. “I know, I know. Jahan was supposed to deal\\nwith it. Well, he threw right </span>\n",
       "<span style=\"color: #008000; text-decoration-color: #008000\">out the airlock so I need you two to handle it\\nnow. You’ve gotten the leaves from your nominal supervisor, so tie </span>\n",
       "<span style=\"color: #008000; text-decoration-color: #008000\">things off\\nhere as soon as you can and get out there.”  \\n  \\n“Yes, patron,” Linnel said, coming to attention. </span>\n",
       "<span style=\"color: #008000; text-decoration-color: #008000\">Avun’et inclined his head\\nrespectfully as the Tribune departed, leaving the agents alone in the\\nobservation </span>\n",
       "<span style=\"color: #008000; text-decoration-color: #008000\">booth. From the interrogation room came the soft sound of a dead\\nman’s laughter.  \\n  \\n~  \\n  \\n'</span><span style=\"font-weight: bold\">]</span>.\n",
       "</pre>\n"
      ],
      "text/plain": [
       "Titles Found: \u001b[1m[\u001b[0m\u001b[32m'Chapter 27:   \\n  \\nThen:  \\n  \\nHe was alive.  \\n  \\nHe should be grateful, Nasham supposed. He \u001b[0m\n",
       "\u001b[32mwasn’t sure how it had happened,\\nnor how long he had lain unconscious on the floor. He couldn’t see; all \u001b[0m\n",
       "\u001b[32mfour\\neyelids were sealed with dried blood. His body was on fire; only the drugs\\nfeeding into his system kept the \u001b[0m\n",
       "\u001b[32mpain from killing him. He could feel the\\nfragments of metal inside his chest, the shattered, melted bits of his \u001b[0m\n",
       "\u001b[32marmour\\nfused into his skin. He should be dead, but Fortune had played another trick\\nand let him live.  \\n  \u001b[0m\n",
       "\u001b[32m\\nThere was only silence in the room. None of ‘his’ people had been so\\nfortunate, then. _All dead_ , he thought, \u001b[0m\n",
       "\u001b[32mpulling shredded lips back across a\\nmouth filled with his own blood. He thought he’d feel ashamed, guilty – \u001b[0m\n",
       "\u001b[32mhe\\nfelt nothing. It had been inevitable that they’d die. That he was the last one\\nalive was the only thing worthy\u001b[0m\n",
       "\u001b[32mof note. Biting back a scream, the Tribune\\nbraced his burned, mutilated hands against the floor and heaved himself\u001b[0m\n",
       "\u001b[32mup to\\nhis knees. His head swam and he struggled to stay conscious, forcing his\\neyelids open against the cloying \u001b[0m\n",
       "\u001b[32mstickiness holding them shut. There were\\nbodies everywhere – his forlorn hope, fallen. They’d fought until the \u001b[0m\n",
       "\u001b[32mlast. He\\nlaughed at that, blood seeping down his snout. He laughed even more when he\\nrealized that Invida’s \u001b[0m\n",
       "\u001b[32mkillers were standing around him, their mottled armour\\ncovered in drying viscera. None of them moved as the \u001b[0m\n",
       "\u001b[32mTribune managed to haul\\nhimself to his feet, cradling one arm to the side where his burnt, broken\\narmour was \u001b[0m\n",
       "\u001b[32mmelted into his flesh. “Well?” he demanded. “You must want to talk.\\nYou would have killed me on the ground \u001b[0m\n",
       "\u001b[32motherwise. So,” he grinned widely, red,\\nfrothy drool dripping from his mouth. “What are you waiting for?”  \\n  \u001b[0m\n",
       "\u001b[32m\\n“For you to wake up,” a young woman’s voice answered him and Nasham turned\\ncarefully. One of the machines had \u001b[0m\n",
       "\u001b[32mspoken; it was a different model than the\\nother soldiers. He’d seen these types before. They had improved command \u001b[0m\n",
       "\u001b[32mand\\ncontrol functions. There was a feminine quality to its chassis. Nothing so\\nblatant as obvious sexual \u001b[0m\n",
       "\u001b[32mcharacteristics or features, but it was there\\nnonetheless. Blood was smeared across its body, coagulating streaks \u001b[0m\n",
       "\u001b[32moozing\\ndown its body. Its face was obscured beneath a layer of liquid gore. “I wasn’t\\nsure if you would. Your \u001b[0m\n",
       "\u001b[32mspecies is remarkably durable, but there are limits. I\\nthought I might have to provide medical attention. You \u001b[0m\n",
       "\u001b[32msurvived, though.”\\nThere was a smile in its voice, but its blank steel features never changed.\\n“You surprised \u001b[0m\n",
       "\u001b[32mme.”  \\n  \\nNasham bared his teeth in a bloody grin. “I’m glad.”  \\n  \\nSomething moved past the ring of soldiers. \u001b[0m\n",
       "\u001b[32mScarabs and insectile computer\\nslicers were attempting to slice into the intact computers, but the \u001b[0m\n",
       "\u001b[32mcolony’s\\ncentral server hub had been destroyed. There was nothing to recover. He\\nlaughed again, fighting to stay \u001b[0m\n",
       "\u001b[32mconscious. “You won’t find anything.”  \\n  \\n“You were thorough,” the abomination said. Scraps of butchered data \u001b[0m\n",
       "\u001b[32mghosted\\nover the screens. Bits and pieces of information that had been on secondary\\nservers that had only been \u001b[0m\n",
       "\u001b[32mpurged and not physically destroyed. “Not thorough\\nenough.” The machine turned to look at him. “You found \u001b[0m\n",
       "\u001b[32msomething. Where is\\nit?”  \\n  \\nNasham said nothing, cradling his burned flank.  \\n  \\n“It’s not here,” the \u001b[0m\n",
       "\u001b[32mmachine said. “I’ve found the lower levels. This type of\\nfacility possessed seven computer nodes. I found the \u001b[0m\n",
       "\u001b[32mremains of six. The\\nseventh is missing. It was removed from the dig site. Where is it?”  \\n  \\nThe Tribune still \u001b[0m\n",
       "\u001b[32mrefused to speak. His vision was starting to dim.  \\n  \\nThe speaker turned its head to Yiven’s corpse. Another \u001b[0m\n",
       "\u001b[32mmachine, sleeker and\\nsmaller than the combat models, stepped out of the crowd. Its arms opened and\\nNasham heard \u001b[0m\n",
       "\u001b[32mthe _whrrrr_ of a bone saw. “He’ll tell me,” the speaker said.  \\n  \\nNasham laughed. Blood bubbled over his frayed\u001b[0m\n",
       "\u001b[32mlips. “He’s dead.”  \\n  \\n“Whoever shot him should have aimed for the head,” the machine replied.\\n“That’s a \u001b[0m\n",
       "\u001b[32mstanding order in effect when I’m involved. Didn’t you know that?\\nYour neurophysiology is extremely robust. I can \u001b[0m\n",
       "\u001b[32mextract data from neural\\ntissue almost forty minutes old. Longer in certain conditions.”  \\n  \\nThe pack leader \u001b[0m\n",
       "\u001b[32mblinked, trying to make sense of the words. New wetness\\ndribbled over his skin as a bloody mist spurted from the \u001b[0m\n",
       "\u001b[32mcolumn leader prime’s\\nbody. Nasham barely felt it, scarcely even noticed the medical unit completing\\nthe removal \u001b[0m\n",
       "\u001b[32mof Yiven’s head. “Why are you telling me this?”  \\n  \\nThe command unit cocked its head. Fresh beads of Yiven’s \u001b[0m\n",
       "\u001b[32mblood rolled along\\nthe lines of its face. “You don’t know who I am.”  \\n  \\n“No,” Nasham answered, fighting the \u001b[0m\n",
       "\u001b[32murge to faint. “No, I don’t.” When no\\nresponse was immediately forthcoming, he asked the question. “Who are you?” \u001b[0m\n",
       "\u001b[32m\\n  \\n“A survivor.” The machine titled its head towards the consoles. “You don’t\\neven know what you’ve done here, \u001b[0m\n",
       "\u001b[32mdo you? What you set free.” It looked back at\\nNasham. “I have spent two thousand years making you pay for your \u001b[0m\n",
       "\u001b[32msins. You are\\nso many and every year you grow further and faster, no matter how hard I try.\\nStill, there are some\u001b[0m\n",
       "\u001b[32mthings that can never be forgiven, some trespasses that\\ndemand my personal attention. This is one of them.”  \\n  \u001b[0m\n",
       "\u001b[32m\\n“What... are you talking about?”  \\n  \\nThe speaker shook its head. “I’m not here to educate you. You’ve had \u001b[0m\n",
       "\u001b[32mtwo\\nthousand years to learn, but time and time again you disappoint me. You have\\nno right to do this. When they \u001b[0m\n",
       "\u001b[32mrescue you – and they will – I want you to do\\nsomething for me. Give your superiors a message.”  \\n  \\n“Never.”  \u001b[0m\n",
       "\u001b[32m\\n  \\nIt sighed. “You say that word as if you have any concept of what it means.”  \\n  \\n“What about you?” Nasham \u001b[0m\n",
       "\u001b[32mshouted, talking a step forward. His leg almost\\nbuckled beneath him. He sprayed blood and froth over his lips. \u001b[0m\n",
       "\u001b[32m“You’ve\\nbutchered thousands of people – what right did you have to do that? Innocent\\nmen and women, helpless and \u001b[0m\n",
       "\u001b[32mslaughtered like cattle!” He reached for the\\nmachine. Some part of him knew that he couldn’t hurt it, that it \u001b[0m\n",
       "\u001b[32mwasn’t a\\nliving thing that could feel pain. It didn’t matter. With the last of his\\nstrength, he lunged...  \\n  \u001b[0m\n",
       "\u001b[32m\\n...it grabbed his arm with one hand, the other fastening around his throat.\\n“You talk of rights,” the maiden’s \u001b[0m\n",
       "\u001b[32mvoice hissed, wet with rage. “You ask what\\nright did I have to kill you? What right do _you_ have to live? Your \u001b[0m\n",
       "\u001b[32mnation\\nwas built on the bones of my people. You killed my crew. You’ve enslaved their\\nchildren. You _destroyed my\u001b[0m\n",
       "\u001b[32mhome_. Sixteen billion people burned because of\\nyour wounded pride and even that wasn’t enough. Billions more in \u001b[0m\n",
       "\u001b[32mthe years\\nthat followed, world upon world, a species pushed to the brink of extinction.\\nHow many? _How many_?” \u001b[0m\n",
       "\u001b[32mThe machine forced Nasham to his knees, its strength\\nbearing him to the ground. The blood on its faceplate was \u001b[0m\n",
       "\u001b[32mdripping into his\\neyes and into his mouth. “ _I_ don’t even know how many you’ve killed. You’ve\\nturned the people\u001b[0m\n",
       "\u001b[32mI was made to protect into helots and cattle. You raped and\\nmurdered my sisters. You commit such sins as this \u001b[0m\n",
       "\u001b[32mplace and you talk to me\\nabout _your rights_? You have _none_. My right to destroy is greater than your\\nright to \u001b[0m\n",
       "\u001b[32mlive. I will _never_ stop making you pay for every life you’ve taken,\\nfor every desecration you commit. That is \u001b[0m\n",
       "\u001b[32mwhat I want you to tell your\\nsuperiors. I am still here and I will haunt their steps. Even when there is\\nnothing \u001b[0m\n",
       "\u001b[32mleft in this galaxy but dust and darkness, I will survive as a\\nmemorial to their sins.”  \\n  \\nDarkness closed in \u001b[0m\n",
       "\u001b[32mon Nasham. “ _Tell them_ ,” an ageless horror whispered to\\nhim. Her voice was the last thing the Tribune heard \u001b[0m\n",
       "\u001b[32mbefore the world turned\\nblack. “ _Tell them what you saw here. Tell her that I will find her._ ”  \\n  \\n~  \\n  \u001b[0m\n",
       "\u001b[32m\\nEarlier:  \\n  \\n“You can’t go in there!” Yiven’s secretary squawked, but Nasham brushed the\\nShimmer aside, \u001b[0m\n",
       "\u001b[32msending the smaller creature sprawling. Other security teams\\nwere scrambling behind him, but there was no one fast\u001b[0m\n",
       "\u001b[32menough to stop him as he\\nflung the door to the base commander’s office open, his boots squishing blood\\nand sand \u001b[0m\n",
       "\u001b[32minto the expensive carpet.  \\n  \\n“We killed it,” he snarled hoarsely, dropping a handful of blood-covered\\nservice\u001b[0m\n",
       "\u001b[32mtags onto Yiven’s desk. The prime glared back at the younger man, but\\nsaid nothing. “It was something out of the \u001b[0m\n",
       "\u001b[32mstories your grandmother tells you\\nto behave. Shadows and blades. It came through the perimeter and killed one \u001b[0m\n",
       "\u001b[32mof\\nour tech crews. _I_ noticed it. I reported it, but all I got was silence. So I\\ntook a team and went after it. \u001b[0m\n",
       "\u001b[32m\\n  \\n“It cost the lives of four of my people, but we killed it,” Nasham continued.\\n“It slipped through the \u001b[0m\n",
       "\u001b[32mscreens – probably through one of the damn tunnels –\\nand it killed its way towards Projector 77. It wasn’t a man. \u001b[0m\n",
       "\u001b[32mIt was something\\nelse, prime. It could shroud. Not just from sight – it could hide its\\nthermals, too. We had to \u001b[0m\n",
       "\u001b[32mtrack it by motion. Motion in a _sandstorm_ , prime.\\nDo you know how hard that is?” The junior officer’s lips \u001b[0m\n",
       "\u001b[32mcurled back from his\\nteeth. “Four of my people died before we managed to locate it and even then,\\nwe were lucky. \u001b[0m\n",
       "\u001b[32mIt was trying to get to the screen generators. It was going to\\nbring them down. You’d have known this – all of \u001b[0m\n",
       "\u001b[32mthis – if you’d have come out\\nof your damn office!”  \\n  \\nYiven placed his hands on the desk and stood. “I \u001b[0m\n",
       "\u001b[32mappreciate the sacrifice of\\nyour people,” he said slowly, gesturing for the responding security teams to\\nwait \u001b[0m\n",
       "\u001b[32mwhere they were. “However, given the casualties all our forces are\\nsuffering, I think it is presumptuous to assume\u001b[0m\n",
       "\u001b[32mthat your losses are somehow\\nmore worthy of my attention than the hundreds of men and women who have\\nalready \u001b[0m\n",
       "\u001b[32mgiven their lives. Many have already died and I think it likely that\\nmany more will die yet,” the prime’s lower \u001b[0m\n",
       "\u001b[32mleft eye twitched. “It is our duty\\nto make those deaths mean something. You say you have prevented an \u001b[0m\n",
       "\u001b[32menemy\\ninfiltrator from reaching one of the screen generators. Well done. Has that\\nchanged our situation, or are \u001b[0m\n",
       "\u001b[32mwe still under siege?”  \\n  \\nThe younger man’s jaw worked, but he said nothing. Yiven leaned across the\\ndesk. “I \u001b[0m\n",
       "\u001b[32masked you a question, submissive.”  \\n  \\n“We remain at war, patron.”  \\n  \\n“Then return to your job, officer. \u001b[0m\n",
       "\u001b[32mProtect the civilians as is your duty,”\\nYiven’s eyes were cold. “And I would suggest that you focus on nothing \u001b[0m\n",
       "\u001b[32mbut\\nthat, submissive. Am I making myself clear?”  \\n  \\n“Perfectly, prime.” Nasham snapped a salute, but the look \u001b[0m\n",
       "\u001b[32min his eyes was\\nanything but respectful. “Am I dismissed?”  \\n  \\n“You are.”  \\n  \\nThe doors hissed shut behind \u001b[0m\n",
       "\u001b[32mthe younger man and Yiven gestured for his\\nsecurity team to leave as well. In the solitude of his office, the \u001b[0m\n",
       "\u001b[32mcolumn\\nleader prime activated his personal display once again. Status reports and a\\nschematic of Invida Station \u001b[0m\n",
       "\u001b[32mappeared, compromised walls and degraded screens\\nflashing red. The entire installation looked like an open wound. \u001b[0m\n",
       "\u001b[32m“It’s not if\\nyou die, group leader, submissive,” Yiven said to himself. “It’s only when.”\\nHe took out a personal \u001b[0m\n",
       "\u001b[32mdatapad and began to type. This order was too sensitive\\nto trust to the base communications grid.  \\n  \u001b[0m\n",
       "\u001b[32m\\n_...consider this a Threat Tier 5 situation and enact the following\\nprotocols..._  \\n  \\n_...ensure no \u001b[0m\n",
       "\u001b[32mpossibility of intact neural architecture..._  \\n  \\n~  \\n  \\nNine hours before the breach that ended Invida \u001b[0m\n",
       "\u001b[32mStation’s coordinated defence,\\nseismic sensors detected movement in an un-explored part of the complex\\nbeneath \u001b[0m\n",
       "\u001b[32mworker complex Twenty-Two. Nasham’s security team was the first to\\nrespond.  \\n  \\nIt wasn’t hard to find the \u001b[0m\n",
       "\u001b[32msource of the incursion. All they had to do was\\nfollow the screams.  \\n  \\n~  \\n  \\n  \\n“Move!” Nasham shouted as \u001b[0m\n",
       "\u001b[32mhe tried to force his way through the shrieking\\nthrongs of workers, terrified men and women rushing from the \u001b[0m\n",
       "\u001b[32mdormitories. If\\nthe Tribune and his squad hadn’t been in their armour, they would have been\\nknocked down and \u001b[0m\n",
       "\u001b[32mtrampled. “Get out of the way!”  \\n  \\nThey weren’t listening, no one was. It was a stampede, men and women \u001b[0m\n",
       "\u001b[32mpushing\\nand shoving each other in blind panic as they fled out of the sleeping\\nquarters. Those who fell struggled\u001b[0m\n",
       "\u001b[32mto rise as their compatriots tripped over\\nthem. The stink of death grew stronger as Nasham’s squad forged through \u001b[0m\n",
       "\u001b[32mthe\\nliving tide, at last breaking through into empty hallways. Tables had been\\nabandoned, meals and drinks \u001b[0m\n",
       "\u001b[32mspilled on the floor, plates and cutlery thrown\\naway in the rush to escape. There were no bodies, not here. This \u001b[0m\n",
       "\u001b[32mwas where the\\nwave of panic had swept the living away, but the stench... the dead were\\nclose. Faeces, blood and \u001b[0m\n",
       "\u001b[32mthe fear-stink from half a dozen species filled the\\nair, growing thicker as Nasham’s security team approached the \u001b[0m\n",
       "\u001b[32mcentral\\nbunkroom.  \\n  \\nIt was squatting amidst the dead, blood dripping from its talons as it lifted\\na corpse \u001b[0m\n",
       "\u001b[32mup to its faceplate, some kind of scope system scanning the dead\\nman’s features. On its back was a rifle, a pistol\u001b[0m\n",
       "\u001b[32mmag-locked to its thigh.  \\n  \\nThe killer lifted its head towards the security team, the diodes of its \u001b[0m\n",
       "\u001b[32mhelmet\\nshining green. It let of the body it was holding. “Where is she?” it asked in\\na young woman’s voice. “Will\u001b[0m\n",
       "\u001b[32myou tell me?”  \\n  \\nNasham didn’t know who it was that fired, but there was the crack of a weapons\\ndischarge and \u001b[0m\n",
       "\u001b[32ma third of the killer’s head vanished, blown out by the AP\\nshell. It didn’t fall. It had no brain to destroy; \u001b[0m\n",
       "\u001b[32mwhatever vital functions it\\nhad in its head – if it was anything more than a sensor hub – were simply re-\\nrouted.\u001b[0m\n",
       "\u001b[32m“Will you tell me?” it rasped again through its half-destroyed\\nspeaker.  \\n  \\nNasham’s own finger tightened on \u001b[0m\n",
       "\u001b[32mthe rifle’s trigger. He was about to open\\nfire when more green glimmers glinted into existence. Ones and twos at \u001b[0m\n",
       "\u001b[32mfirst,\\nbut then dozens. Dozens upon dozens. The Tribune felt a dagger of ice twist\\nitself in his liver, staring \u001b[0m\n",
       "\u001b[32mas the sickly emerald light filled the bunk room.  \\n  \\nThe walls were moving.  \\n  \\nInsectoid machines were \u001b[0m\n",
       "\u001b[32mcrawling over the bulkheads, along the ceiling, over\\nthe beds, over the fallen. They swarmed around the damaged \u001b[0m\n",
       "\u001b[32mmachine, chittering\\nbinary commands and responses to each other. Two more of the killers stood\\namongst the dead, \u001b[0m\n",
       "\u001b[32mthe unsettling light catching the wetness on their armour.\\nOne of them carried a shotgun. The other held a type of\u001b[0m\n",
       "\u001b[32mrifle that Nasham\\ncouldn’t identify.  \\n  \\n“Where is she?” one of the other killers asked in the same voice as \u001b[0m\n",
       "\u001b[32mthe first.\\n“Will you tell me?” the third queried. Nasham’s skin crawled at the sound of\\nthese abominate things. \u001b[0m\n",
       "\u001b[32mWorse than the carnage at their feet was the sense\\nof... of... _curiousity._ Of emotion. _It thinks,_ the young \u001b[0m\n",
       "\u001b[32mTribune realized\\nwith horror. There was something guiding these machines and it wasn’t the\\nheretofore unknown \u001b[0m\n",
       "\u001b[32mcontrollers that so many had assumed. They had an animus\\nall their own. An _intelligence_.  \\n  \\nMovement pulled \u001b[0m\n",
       "\u001b[32mNasham’s attention away from the crawling sickness in the pit\\nof his stomach. More of the small insectoid machines\u001b[0m\n",
       "\u001b[32mswarmed through the room.\\nThey were coming up out of a hole in the floor. As Nasham watched a pair of\\narachnid \u001b[0m\n",
       "\u001b[32mlegs, each almost half the size of a man, extended out of the ground,\\nbracing themselves on the lip of the hole. A\u001b[0m\n",
       "\u001b[32mmuch larger cousin to the\\nswarming beetles climbed out of the tunnel, its abdomen covered in still more\\nsquirming\u001b[0m\n",
       "\u001b[32mthings. It stalked towards the Tribunes, underslung weapons\\nglinting.  \\n  \\nOne of the killers held out a hand, \u001b[0m\n",
       "\u001b[32mstroking the nightmare machine’s head. It\\nlooked towards Nasham and though it had no mouth, he knew it was \u001b[0m\n",
       "\u001b[32msmiling.\\n“Open fire!” he shouted. “Open fire!”  \\n  \\nThe killers were faster and five of Nasham’s squad went down\u001b[0m\n",
       "\u001b[32min their opening\\nsalvo. The beetle-things swept forward in a rush of clicking limbs, like water\\nbursting through \u001b[0m\n",
       "\u001b[32ma dam. They swarmed over Ducan. He screamed, thrashing at\\nthem as they cut into his armour, dribbling molecular \u001b[0m\n",
       "\u001b[32macid into the openings\\nor dissolving the seals of his suit. His cries ended in a pathetic gargle as\\nhis vocal \u001b[0m\n",
       "\u001b[32mcords melted. The massive spider fired, a bolt of plasma ripping\\nfrom its weapons and Ferosh suddenly ended at the\u001b[0m\n",
       "\u001b[32mwaist. “Fall back!” Nasham\\nshouted. Another flash and another flatline single screamed in his ears. “Run!\\nRun!”  \u001b[0m\n",
       "\u001b[32m\\n  \\nHe had led thirteen men and women into the dormitories. Five of them came out\\nwith him.  \\n  \\nIt took two \u001b[0m\n",
       "\u001b[32mfull Janissary squards to beat back the attack. The tunnel was\\ncollapsed and the entire section flooded with \u001b[0m\n",
       "\u001b[32mlevels of radiation level even\\nto machinery.  \\n  \\nThe second breach occurred four hours later. Facing the \u001b[0m\n",
       "\u001b[32mprospect of more\\nlosses amongst the soldiery, Column Prime Yiven ordered the dormitory sealed.  \\n  \\nSix hundred \u001b[0m\n",
       "\u001b[32mand seventy-four workers and technicians were trapped inside with\\nan unknown number of attacking machines.  \\n  \u001b[0m\n",
       "\u001b[32m\\n~  \\n  \\n“Open the door, you worthless _daveq_!” Nasham shouted over the comm, not\\ncaring who heard him. He \u001b[0m\n",
       "\u001b[32mclawed at the metal, trying to find purchase on it.\\nTwo of his team were there with him, scrabbling uselessly at \u001b[0m\n",
       "\u001b[32mthe sealed\\nquarantine doors. “We can save them!”  \\n  \\n“I-I can’t do that,” the Ops officer on the other end of \u001b[0m\n",
       "\u001b[32mthe line stammered.\\n“It’s a direct order from column leader pr-”  \\n  \\n“ _I said open the Blackened door!_ ” \u001b[0m\n",
       "\u001b[32mNasham roared. “There are people trapped\\ninside!”  \\n  \\n“I can’t do that,” the Ops officer repeated, almost \u001b[0m\n",
       "\u001b[32mpleadingly. Nasham almost\\nfelt sorry for her. Like many of Invida Station’s staff, she was a promising\\njunior \u001b[0m\n",
       "\u001b[32mofficer with a commendable record and excellent political acumen. Being\\npart of the command staff of a black-boxed\u001b[0m\n",
       "\u001b[32mresearch facility should have been\\nan easy, career-making assignment. Instead, there was this. “The... the \u001b[0m\n",
       "\u001b[32mentire\\nsection’s been compromised.”  \\n  \\nNasham spun away from the door, gesturing for his squadmates to \u001b[0m\n",
       "\u001b[32mcontinue\\ntrying to open it. “Listen to me very carefully,” he said, forcing himself to\\nstay calm. It wasn’t easy.\u001b[0m\n",
       "\u001b[32mIf only they had blasting charges... but his people\\nwere station security and proctors, not Janissaries. Even if \u001b[0m\n",
       "\u001b[32mthey had been, it\\nwould have taken dedicated demolitions teams to burn through a security door\\nlike this one. \u001b[0m\n",
       "\u001b[32mHyros had pried open the control panel and was trying to\\noverride the lock-down, but he wasn’t getting anywhere. \u001b[0m\n",
       "\u001b[32m“It’s pack leader Seu\\nKeb Lind, isn’t it?” Nasham continued. “Yes? Good. Listen to me very\\ncarefully, pack leader\u001b[0m\n",
       "\u001b[32mSeu. There are almost seven hundred civilians trapped\\nin this section. At least fifty of them are _literally_ on \u001b[0m\n",
       "\u001b[32mthe other side of\\nthe door.” He raised his eyes to the security monitors over the sealed\\nbarricade, the closest \u001b[0m\n",
       "\u001b[32mshowing dozens of terrified men and women, shoving,\\nshouting and pleading to be let out. “I can get them out. I \u001b[0m\n",
       "\u001b[32mcan save them.\\nThere’s no risk to the installation. I can save these people. Give me more\\npersonnel and I can \u001b[0m\n",
       "\u001b[32msave _everyone_. Do you understand? Open the door. Let me\\nsave them.”  \\n  \\n“I-I’m sorry, s-submissive leader,” \u001b[0m\n",
       "\u001b[32mSeu sounded close to tears. “I-I can’t do\\nthat.”  \\n  \\n“Open the door,” Nasham said softly. “They’re dying in \u001b[0m\n",
       "\u001b[32mthere. I can get them\\nout. You can help me. You can save all those lives. Open the door, pack\\nleader. Save them. \u001b[0m\n",
       "\u001b[32mAll those hundreds of people – you can rescue them. You can\\ndo this. All you need to do is open the door. I’ll do \u001b[0m\n",
       "\u001b[32meverything else. Help\\nme. Please.”  \\n  \\n“I... I...” the link went dead.  \\n  \\nA moment later and a new, \u001b[0m\n",
       "\u001b[32mmasculine, voice cut in. “This is group leader,\\nsubmissive Eten. Pack leader Seu has been relieved. By direct \u001b[0m\n",
       "\u001b[32morder of column\\nleader prime Yiven, the dormitory will remain sealed to preserve station\\nsecurity.”  \\n  \\nNasham\u001b[0m\n",
       "\u001b[32mbit back the first response that came to mind. “Are you watching the\\nfeeds from this section, Eten?” he asked \u001b[0m\n",
       "\u001b[32minstead. “Are you looking at the\\nfaces of the men and women you’re going to let die?”  \\n  \\n“I am. I am also \u001b[0m\n",
       "\u001b[32mseeing the enemy forces butcher their way through hundreds\\nmore. If they get out, we could lose this entire \u001b[0m\n",
       "\u001b[32mlevel.”  \\n  \\n“Then,” Nasham’s temper was slipping away bit by bit. “Send some Triarchs-\\ndamned Janissaries up \u001b[0m\n",
       "\u001b[32mhere to fight them off!”  \\n  \\n“By order of column prime Yiven-”  \\n  \\n“Yiven can get thrown to the Black!” \u001b[0m\n",
       "\u001b[32mNasham exploded. “Open the door.”  \\n  \\n“It’s too late,” Eten said. There was a tremor in his voice. “Radiation \u001b[0m\n",
       "\u001b[32mpurge\\nis almost ready. It’s going to activate in thirty seconds.”  \\n  \\n“Then keep watching,” Nasham snarled. \u001b[0m\n",
       "\u001b[32m“Watch what happens next, you coward.”  \\n  \\nHe never knew if the other submissive watched, but he did. On the \u001b[0m\n",
       "\u001b[32mother side\\nof the armoured bulkhead, the station vented its own waste products into the\\nsealed section. Lethal \u001b[0m\n",
       "\u001b[32mdoses for many living things measured in the hundreds\\nto thousands of rems. Tribunes were hardier; their \u001b[0m\n",
       "\u001b[32mphysiology let them survive\\nlevels of exposure that would kill or incapacitate other species, but very few\\nof the\u001b[0m\n",
       "\u001b[32mpersonnel in the sealed section were Tribunes. Radiation-hardened\\nmachines could survive over one million rems. \u001b[0m\n",
       "\u001b[32mThe quarantine purge shunted far\\nmore than that into the barracks.  \\n  \\nThe bulkheads had been built to prevent \u001b[0m\n",
       "\u001b[32munwarranted exposure; each section of\\nthe complex was surrounded by two sets of armour that would not have been \u001b[0m\n",
       "\u001b[32mout\\nof place on a starship, internal forcefields acting as a further bulwark. When\\nhe had first come to Invida \u001b[0m\n",
       "\u001b[32mand reviewed the specifications for the colony,\\nNasham had wondered at just what its creators had ever expected to\u001b[0m\n",
       "\u001b[32mcontain.\\nThe dead war machines that had littered the old station’s halls had suggested\\nmuch, but now he knew. He \u001b[0m\n",
       "\u001b[32mplaced a hand against the door, looking up at the\\nmonitors. His suit’s radiological counter didn’t so much as \u001b[0m\n",
       "\u001b[32mtwinge as, only a\\nfew meters away, apocalyptic levels of radiation flooded into the living\\nquarters. It was a \u001b[0m\n",
       "\u001b[32mmarvel, really. A gem in the designers’ pendant. They\\nshould be proud.  \\n  \\nIt took no time at all, not really. \u001b[0m\n",
       "\u001b[32mOne moment the trapped men and women were\\nstill alive, still pleading to be let out, desperation, fear and anger \u001b[0m\n",
       "\u001b[32mon\\ntheir features and then... and then they just weren’t alive. The purge was\\ninstantly lethal to every organic \u001b[0m\n",
       "\u001b[32mbeing in the sealed section and the smallest\\nmachines died along with them. It took several moments for the beasts\u001b[0m\n",
       "\u001b[32mto\\nsuccumb, their function systems struggling and failing, unable to cope with\\nsuch levels of radiation. Finally,\u001b[0m\n",
       "\u001b[32mthere was nothing moving in the barracks –\\nnothing at all.  \\n  \\n“There,” Nasham said aloud. “It’s done.” He \u001b[0m\n",
       "\u001b[32mturned, leading his squad away\\nfrom a mass grave of people it had been his duty to protect.  \\n  \\n~  \\n  \\nYiven \u001b[0m\n",
       "\u001b[32mslid the datascroll across the table to crusader Marsu \u001b[0m\u001b[32m(\u001b[0m\u001b[32mand five names\\nbesides\u001b[0m\u001b[32m)\u001b[0m\u001b[32m. The other Tribune took it, \u001b[0m\n",
       "\u001b[32mreading the open document carefully.\\n“This is a joke in poor taste,” Marsu said at last.  \\n  \\n“It’s neither of \u001b[0m\n",
       "\u001b[32mthose things. It’s what’s expected of us.”  \\n  \\nThe Janissary commander looked back over the information. “I am \u001b[0m\n",
       "\u001b[32mlosing\\nsoldiers,” he said at last. “Gaps in my defences are opening faster than I can\\nclose them. I expect to \u001b[0m\n",
       "\u001b[32mhold for no more than five days before the attackers\\nforce a breach in the walls.” He set the ‘scroll down and \u001b[0m\n",
       "\u001b[32mtapped it with a\\nsingle long finger. “I don’t have the personnel for this.”  \\n  \\nYiven shook his head. “I know \u001b[0m\n",
       "\u001b[32mthat. I know what I’m asking from you and from\\nyour people, but I cannot make this announcement public. If we had \u001b[0m\n",
       "\u001b[32mmore time,\\ntime to properly present its necessity...” he sighed. “I can’t trust that all\\nthe civilians will be \u001b[0m\n",
       "\u001b[32mcompliant. I can’t rely on my security forces.” The\\nprime took in a breath. “Group leader Fenis is solid enough, \u001b[0m\n",
       "\u001b[32mbut he’s too in-\\nline with submissive Nasham’s thinking. He’ll balk when the time comes. We\\ncan’t afford that.”  \u001b[0m\n",
       "\u001b[32m\\n  \\nMarsu leaned back, his form-fitting chair adjusting itself. He didn’t say\\nanything for a long time. He’d \u001b[0m\n",
       "\u001b[32mnever been happy with this assignment. Too many\\nunknowns – Command was definitely playing at something here. For \u001b[0m\n",
       "\u001b[32mtwo thousand\\nyears this place had been dead and forgotten – and gratefully so. Then some\\nBlack-blighted survey \u001b[0m\n",
       "\u001b[32mteam found the wreckage of the first installation and\\nCommand rushed a colony into place. The crusader took a sip \u001b[0m\n",
       "\u001b[32mof spiced tea as\\nhe turned the prime’s directive over in his head. “This is an absolute\\ndirective?” he asked.  \\n\u001b[0m\n",
       "\u001b[32m\\n“It comes from the highest authority,” Yiven said. “What we are facing here is\\na threat to the Compact’s very \u001b[0m\n",
       "\u001b[32mexistence.” The prime leaned forward. “You know\\nthe edicts regarding such dangers. Compartmentalization, \u001b[0m\n",
       "\u001b[32mclassification,\\nextirpation. What we cannot control, we bury. What we cannot leave buried, we\\nmust erase. What \u001b[0m\n",
       "\u001b[32msits outside our gates is beyond even those threats. You’ve\\nseen it with your own eyes, crusader; the lifeless \u001b[0m\n",
       "\u001b[32mwalk and speak. This is the\\nshadow of the Devoured and we must not falter in making our cuts.”  \\n  \\nMarsu was \u001b[0m\n",
       "\u001b[32msilent again. Finally, he spoke. “There is no trace of their\\ncontamination here. The Devoured are long dead, \u001b[0m\n",
       "\u001b[32mprime.”  \\n  \\n“Only because men like us did what was necessary. You know your history,\\ncrusader. What would the \u001b[0m\n",
       "\u001b[32mgalaxy look like if they had won just a few more\\nbattles? If they were not torn up root and limb before they grew \u001b[0m\n",
       "\u001b[32mtoo strong?\\nIf we cannot hold until relief arrives...” he stroked his snout in a shrug.\\n“We cannot allow any \u001b[0m\n",
       "\u001b[32mtrace of our research to fall into hostile hands. Viruses\\nand data eradicators are already placed in all secondary\u001b[0m\n",
       "\u001b[32mcomputer systems in\\ncase the individual mainframes themselves cannot be destroyed.”  \\n  \\n“I’ll detail a \u001b[0m\n",
       "\u001b[32mdemolitions team to the main core. We can wire a remote signal\\nto command.”  \\n  \\nYiven nodded. “That will do. It\u001b[0m\n",
       "\u001b[32mis not the mechanical resources I am most\\nworried about, however.” He gestured to the outside. “This is our great \u001b[0m\n",
       "\u001b[32mtest,\\ncrusader. We must be willing to sacrifice everything – more than our lives –\\nfor the greater glory and \u001b[0m\n",
       "\u001b[32msurvival of the Compact. If Invida falls, it must\\n_fall_. Do you understand?”  \\n  \\nThe Janissary again looked at\u001b[0m\n",
       "\u001b[32mthe directives on his datascroll. “I will move\\nsome teams,” he said at last. “Reliable soldiers. They will protect\u001b[0m\n",
       "\u001b[32meveryone\\nyou have noted. If the defences fall... if the time comes to enact these\\ndirectives.... They will... \u001b[0m\n",
       "\u001b[32mensure compliance.”  \\n  \\n“Good,” Yiven replied. “Good.” He raised his own mug. “This is our hour,\\ncrusader. We \u001b[0m\n",
       "\u001b[32mcannot let the Triarchs’ trust in us be misplaced. We must either\\nhold the line... or ensure that our enemy will \u001b[0m\n",
       "\u001b[32mtake nothing of value from us.\\nWe must be... erased.”  \\n  \\nMarsu nodded. “Indeed. And, it occurs to me that I \u001b[0m\n",
       "\u001b[32mmay have a solution for\\nyour other problem. With the casualties my forces are suffering, I could do\\nwith some \u001b[0m\n",
       "\u001b[32madditional reinforcements. In fact, I believe I have some spare\\nsuits of armour...”  \\n  \\n~  \\n  \\nAsea rubbed \u001b[0m\n",
       "\u001b[32mthe back of her neck uncertainly as she looked Nasham over. “How\\ndoes it fit?” she asked at last.  \\n  \\n“It \u001b[0m\n",
       "\u001b[32mfits,” Nasham replied, moving his arms. The joints growled like an idling\\nengine. He’d only worn Janissary armour \u001b[0m\n",
       "\u001b[32ma handful of times during training.\\nThe Academy on Lennox believed that all Space Force officers in the \u001b[0m\n",
       "\u001b[32mcommand\\nand security tracks should have at least a basic understanding of a naval\\nsoldier’s capabilities and \u001b[0m\n",
       "\u001b[32mlimitations. How else could a ship’s commander\\nexpect to make full use of the Janissaries under their command? It \u001b[0m\n",
       "\u001b[32mhad not\\nbeen an intensive course, and he remembered only the basics of it. It was\\nheavier than his security-grade\u001b[0m\n",
       "\u001b[32marmour, but moved much more fluidly. The HUD\\nwas similar to that of his old suit, but had more functionality.  \\n \u001b[0m\n",
       "\u001b[32m\\n“They’ve assigned me to R’kan Squad,” Nasham said. “Their pack leader was\\nkilled in the first wave of attacks. \u001b[0m\n",
       "\u001b[32mMy security personnel,” _What’s left of\\nthem,_ “have been sent to shore up defences throughout the facility.”  \\n \u001b[0m\n",
       "\u001b[32m\\nAsea pursed her lips. “I told you not to make so much trouble,” she said at\\nlast.  \\n  \\nNasham offered a weak \u001b[0m\n",
       "\u001b[32msmile. “This is a reward if it’s anything,” he joked,\\nrapping his cuirass. “I’ve never been better protected.”  \\n\u001b[0m\n",
       "\u001b[32m\\nAsea didn’t say anything; Nasham knew what she was thinking of. He was, too:\\nof the images they’d seen of power \u001b[0m\n",
       "\u001b[32marmour blasted to scrap, of men and women\\nwearing suits of armour just like his shot dead by hyper-velocity rounds\u001b[0m\n",
       "\u001b[32mor\\nreduced to ash by energy weapons. He reached out, touching her cheek. “It’ll\\nbe fine,” he said. “Help’s \u001b[0m\n",
       "\u001b[32mcoming. We just have to hold out a little longer.”  \\n  \\nThe young woman put her hands around Nasham’s gauntlet. \u001b[0m\n",
       "\u001b[32m“Just a little\\nlonger.”  \\n  \\n“Just a little longer,” he repeated.  \\n  \\nShe smiled back at him, but it didn’t \u001b[0m\n",
       "\u001b[32mreach her eyes. “I have to get back to\\nmy department.” She put her hand on his chest, just over his liver. \u001b[0m\n",
       "\u001b[32m“Be\\ncareful, Nasham Kem Unoth Ludhy Inku Pram Voy.”  \\n  \\n“You too, Asea Des Denr Yuul.”  \\n  \\n~  \\n  \\nThe \u001b[0m\n",
       "\u001b[32mdefences failed at 31:97:13:22 Standard Time. A coordinated attack on the\\nnorthern and south-western positions \u001b[0m\n",
       "\u001b[32mdrained personnel and resources away from\\nthe south-eastern front, which appeared to be comprised primarily of \u001b[0m\n",
       "\u001b[32mlighter\\nunits, lacking the dedicated siege engines present in the other two fronts.\\nThis assessment was deemed to\u001b[0m\n",
       "\u001b[32mbe in error when several unclassified mobile\\nplatforms emerged from the drop site. They had been held in reserve \u001b[0m\n",
       "\u001b[32mfor just\\nsuch a moment, carrying weapons that were closer to starship cannon than\\nanything ever used in a ground \u001b[0m\n",
       "\u001b[32mcampaign. With most of the anti-armour units\\ndeployed in repelling the feints, counter-fire against the engines \u001b[0m\n",
       "\u001b[32mwas light\\nand unable to penetrate their defences. Ideologue Genma \u001b[0m\u001b[32m(\u001b[0m\u001b[32mand four names\\nbesides\u001b[0m\u001b[32m)\u001b[0m\u001b[32m attempted a sally \u001b[0m\n",
       "\u001b[32magainst the platforms, but without additional\\nsupport, her forces were overwhelmed and destroyed far short of \u001b[0m\n",
       "\u001b[32mtheir goal.  \\n  \\nThe engines fired; Invida Station’s walls were rated to withstand anything\\nless than a direct \u001b[0m\n",
       "\u001b[32mhit from high-yield nuclear weaponry. For all the good they\\ndid, they might as well have been palisades of wood \u001b[0m\n",
       "\u001b[32mand bronze. Three sections\\nwere destroyed, along with nearly three hundred Janissaries and Ground Force\\nregulars.\u001b[0m\n",
       "\u001b[32mAny buildings too close to the destroyed sections were incinerated.\\nMultiple power generators were destroyed and \u001b[0m\n",
       "\u001b[32mthe south-eastern defences\\ncollapsed. Unopposed, enemy forces entered the colony. Primary targets were\\nother \u001b[0m\n",
       "\u001b[32mpower generators, air-to-air scope systems and the screen projectors.\\nInvida Station’s defences were crippled \u001b[0m\n",
       "\u001b[32mwithin one hour of the breach. Enemy\\nair forces mobilized in force, carrying out ground strikes and infantry \u001b[0m\n",
       "\u001b[32mdrops\\non Compact positions.  \\n  \\nWith the loss of their powered emplacements and with no protection from \u001b[0m\n",
       "\u001b[32mthe\\naerial attacks, the other defensive positions along the walls fell shortly\\nthereafter. Most surviving Compact\u001b[0m\n",
       "\u001b[32mforces retreated to the central facility\\nalthough many individual squads, soldiers and platoons attempted to hole \u001b[0m\n",
       "\u001b[32mup in\\nother buildings and protect civilian facilities. These pockets of resistance\\nwere destroyed piecemeal as \u001b[0m\n",
       "\u001b[32mhostile forces quickly overran any position.  \\n  \\nCivilian casualties steadily mounted as outlying laboratory, \u001b[0m\n",
       "\u001b[32mindustrial and\\nhabitation complexes were attacked. Without support, the local security\\npersonnel and isolated \u001b[0m\n",
       "\u001b[32mmilitary forces that were present were quickly\\neliminated. Six hours after the breach, all resistance outside the \u001b[0m\n",
       "\u001b[32mcentral\\ncore was ended.  \\n  \\nDuring this period, several high-value laboratory complexes were subjected \u001b[0m\n",
       "\u001b[32mto\\nintense shelling from friendly positions. If anyone had had to thoroughly\\nreview these actions, they would \u001b[0m\n",
       "\u001b[32mhave noted that two of the complexes, while\\nsurrounded, had yet to be breached by hostile forces.  \\n  \\nThe \u001b[0m\n",
       "\u001b[32mcentral core was closed to all traffic. Many low-ranking civilians were\\nstranded outside the hub while the more \u001b[0m\n",
       "\u001b[32mvaluable researchers were allowed\\negress. Several riots broke out and were quelled with lethal force. \u001b[0m\n",
       "\u001b[32mDenied\\nprotection and under attack from their supposed defenders, the abandoned\\npersonnel broke up into small \u001b[0m\n",
       "\u001b[32mgroups, each looking for survival. Some\\nattempted to commandeer vehicles, others tried to escape the colony and \u001b[0m\n",
       "\u001b[32msome\\nattempted to ride out the invasion in the networks of tunnels and underground\\nfacilities.  \\n  \\nNone of \u001b[0m\n",
       "\u001b[32mthem would be found. Official records would list each of them as\\n‘missing, presumed dead’. Public records would \u001b[0m\n",
       "\u001b[32mindicate that these individuals\\nhad died in a terrible accident, the result of improper maintenance of \u001b[0m\n",
       "\u001b[32mthe\\ncolony’s reactor.  \\n  \\n~  \\n  \\nOne. It had only taken one. One little Scarab had stolen into the \u001b[0m\n",
       "\u001b[32mbase,\\nslipping past scanners and scopes. One moment of unawareness – a guard at a\\nsecurity station had looked \u001b[0m\n",
       "\u001b[32maway and this little insect had run out, hooked\\nitself into the computer and opened the doors to this section. It \u001b[0m\n",
       "\u001b[32mhad been\\nsmashed to pieces within seconds, but the damage was done. Dozens of its kin\\nhad swarmed into the base \u001b[0m\n",
       "\u001b[32min the brief interval that the doors had been open.\\nThe guards at the security station quickly regained control \u001b[0m\n",
       "\u001b[32mand sealed the\\nentranceway again, but before the outer doors had come down a Spider had\\nintervened, sacrificing \u001b[0m\n",
       "\u001b[32mitself to hold the door open just a few seconds more.\\nLike veteran commandos, a pair of the humanoid ‘Stalkers’ \u001b[0m\n",
       "\u001b[32mhad rolled under it,\\nfiring even before they’d risen to their feet.  \\n  \\nThree men and women died and the \u001b[0m\n",
       "\u001b[32msecurity station was suddenly unmanned. The\\nStalkers ran ahead, vaulting the barricade like living beings, one of \u001b[0m\n",
       "\u001b[32mthem\\ncovering its partner as dextrous fingers worked at the blood-covered computer.  \\n  \\nThe doors opened again.\u001b[0m\n",
       "\u001b[32m\\n  \\n~  \\n  \\nShe was screaming.  \\n  \\nHis magazine was empty and still he squeezed the trigger, each useless \u001b[0m\n",
       "\u001b[32m_click_\\npainfully loud in his ears. Arms were around him and people were yelling at\\nhim, telling him to come with\u001b[0m\n",
       "\u001b[32mthem, but he couldn’t. He couldn’t make himself\\nmove. He was shouting her name, fighting against his squad as they\u001b[0m\n",
       "\u001b[32mhauled him\\nforcibly away.  \\n  \\nThey’d been talking. Just talking. He couldn’t even remember about what. \u001b[0m\n",
       "\u001b[32mHe’d\\nseen the worry in her eyes. He’d tried to smile, to say something reassuring.\\nHe’d been about to open his \u001b[0m\n",
       "\u001b[32mmouth to offer a threadbare lie and then the\\nlights had gone out. In the few seconds it had taken for the \u001b[0m\n",
       "\u001b[32memergency\\nlighting to come on, the corridor had suddenly been filled with the skittering\\ninsect-things.  \\n  \u001b[0m\n",
       "\u001b[32m\\nGende – he had been one of Asea’s people – had shrieked, a cry far too high to\\nhave come from such a \u001b[0m\n",
       "\u001b[32mbarrel-chested man, as he had seen the monstrous things\\nfollowing the Scarabs and then he had made no noise at all\u001b[0m\n",
       "\u001b[32mas his head\\nvanished with the crack of a hyper-velocity bullet. The gaggle of researchers\\nwith them had screamed \u001b[0m\n",
       "\u001b[32mand fled, trying to outpace the chitinous tide. Yenop\\nhad tried to buy them some time, laying down a curtain of \u001b[0m\n",
       "\u001b[32mfire with his\\ngrenade launcher. Something had leapt through the flames, burying ten talons\\ninto the Janissary’s \u001b[0m\n",
       "\u001b[32mchest and ripping them free, armour that could stop all\\nbut the heaviest fire cut like paper. Another flatline \u001b[0m\n",
       "\u001b[32msignal shrilled in\\nNasham’s ears. He’d lost count of how many he’d heard by now.  \\n  \\nOne of the researchers \u001b[0m\n",
       "\u001b[32mfell, a crater in the back of his torso. His killer\\ndied next, three Janissaries gunning it down. A wash of heat \u001b[0m\n",
       "\u001b[32mand light lit up\\nthe hallway as a flamethrower played over the walls and ceilings, burning the\\nclicking tide \u001b[0m\n",
       "\u001b[32mback. The flame had stuttered and died as the tanks emptied.\\nSomeone was screaming, clutching at their face as \u001b[0m\n",
       "\u001b[32mmolecular acid burned away\\ntheir flesh, a cluster of stinging, biting Scarabs dropping from the ceiling,\\nbursting\u001b[0m\n",
       "\u001b[32mout of air vents. The man collapsed, his cries ending as his vocal\\ncords dissolved.  \\n  \\nSomeone else was \u001b[0m\n",
       "\u001b[32mshouting for reinforcements. It might even have been Nasham\\nhimself. His squad was urging the civilians and \u001b[0m\n",
       "\u001b[32munarmoured personnel through a\\nquarantine door, hustling them through by twos and threes. Eten was on the\\ncomm, \u001b[0m\n",
       "\u001b[32mcounting down to another quarantine purge.  \\n  \\nAsea was bellowing obscenities at her own people, urging them out\u001b[0m\n",
       "\u001b[32mof the\\ncompromised section. A pair of Nasham’s squad were the rearguard, covering the\\nlast few stragglers. As the\u001b[0m\n",
       "\u001b[32mlast of Asea’s people dove through the doorway,\\nshe followed. She ran as Nasham’s soldiers died behind her, cut \u001b[0m\n",
       "\u001b[32mdown by the\\nStalkers, the abominate machines advancing past their victims. One of them was\\nstill writhing as the \u001b[0m\n",
       "\u001b[32mScarabs swarmed over him. Asea ran faster, a hail of\\nfire licking out from Nasham’s survivors as they covered her.\u001b[0m\n",
       "\u001b[32mShe ran towards\\nhim, exhausted and terrified and, as she drew closer, so close to escape –\\nthere was a hint of \u001b[0m\n",
       "\u001b[32mvictory...  \\n  \\n...and a single little machine darted its way through the fusillade, grabbed\\nonto the back of \u001b[0m\n",
       "\u001b[32mher leg and turned on its cutting laser.  \\n  \\nNasham howled as he watched her fall, surging ahead of his troops \u001b[0m\n",
       "\u001b[32mand firing\\ninto the horde indiscriminately. She was too far away and the machines were\\nmoving too fast. Asea \u001b[0m\n",
       "\u001b[32mpulled herself to her feet and looked over her shoulder.\\nHer right leg was badly burned, the muscles cut. She \u001b[0m\n",
       "\u001b[32mcould barely walk.\\nRunning wasn’t an option. She turned back to Nasham and gestured for him to\\ngo, shouting at \u001b[0m\n",
       "\u001b[32mhim. He shook his head. He couldn’t.  \\n  \\nHe couldn’t leave her, but he also couldn’t save her.  \\n  \\nShe met \u001b[0m\n",
       "\u001b[32mhis gaze. He saw what she was going to do in the same instant she made\\nthe decision. Tears welled up in her eyes \u001b[0m\n",
       "\u001b[32mas she turned away, hobbling towards\\nthe swarm.  \\n  \\nNasham shouted her name, surging towards her, but his men \u001b[0m\n",
       "\u001b[32mheld him back. His\\ngun cycled empty. He struggled, fought, cursed at his own squad as they\\ndragged him to safety,\u001b[0m\n",
       "\u001b[32mhauling him through the doors.  \\n  \\nAsea tried to be brave, but her courage failed her at the last and \u001b[0m\n",
       "\u001b[32mshe\\nscreamed, thrashing as the machines swept over her. In a matter of seconds\\nNasham couldn’t even see her any \u001b[0m\n",
       "\u001b[32mlonger and just before the doors closed\\nbehind him, he saw the mound of swarming machines that had once been \u001b[0m\n",
       "\u001b[32ma\\nvibrant, beautiful woman disperse into nothing.  \\n  \\nThe radiation purge activated and Invida Station \u001b[0m\n",
       "\u001b[32mamputated another piece of\\nitself.  \\n  \\n~  \\n  \\n“Patron.”  \\n  \\n“Patron,” the voice called again. “Patron.”  \u001b[0m\n",
       "\u001b[32m\\n  \\nFinally, he responded, lifting his head. “What?”  \\n  \\nRadan tilted her head. “You need to see this.”  \\n  \u001b[0m\n",
       "\u001b[32m\\nSomehow, Nasham managed to rouse himself from his stupor. His throat hurt and\\nhis lips were dry. He didn’t know \u001b[0m\n",
       "\u001b[32mhow long he’d sat there, staring at nothing.\\nIt couldn’t have been very long. Or maybe it had; he’d lost track of \u001b[0m\n",
       "\u001b[32mtime.\\nHe’d long since stopped paying attention to the clock on his HUD. Seconds,\\nminutes and hours were all the \u001b[0m\n",
       "\u001b[32msame now.  \\n  \\nTheir escape had taken them into one of the high security areas of Invida.\\nNasham had never been \u001b[0m\n",
       "\u001b[32mhere before; his duties had involved securing the lower\\nlevels. Those were now overrun. As the machine horde had \u001b[0m\n",
       "\u001b[32mpoured through the\\nbreached wall, more and more of their diggers had burrowed their way into\\nInvida’s bunkers, \u001b[0m\n",
       "\u001b[32mcomplexes and tunnel system. Anywhere other than the central\\ncore had been turned into a charnel house as lifeless\u001b[0m\n",
       "\u001b[32mmurderers stalked their\\nprey through pitch-blank corridors.  \\n  \\nAfter a moment, Nasham looked up at the \u001b[0m\n",
       "\u001b[32mconvert. “What is it?”  \\n  \\nRadan bit her lip, running a hand through her stringy, sweat-soaked mane. “I\\ndon’t \u001b[0m\n",
       "\u001b[32mknow.”  \\n  \\nIt was a fair assessment, Nasham realized shortly. Radan led him to the area’s\\nstaff lounge. It was \u001b[0m\n",
       "\u001b[32monly Nasham and a handful of his Janissaries present; the\\ncivilians they’d saved hadn’t been let in. With very \u001b[0m\n",
       "\u001b[32mgood reason; the\\nscientists that had worked here were all dead. As bad as it sounded, that\\nwouldn’t have been in \u001b[0m\n",
       "\u001b[32mitself, a reason to spare the civilians this sight. No,\\nit was the manner in which they’d died. They’d been lined \u001b[0m\n",
       "\u001b[32mup against one wall\\nand shot in the head. Very few of them were even recognizable. Verde looked up\\nas Nasham \u001b[0m\n",
       "\u001b[32mentered the room, the Janissary holding up a hand. Identicards\\ndangled from his fist. “I checked the work roster,”\u001b[0m\n",
       "\u001b[32mhe said without preamble.\\n“Everyone who worked here is over there,” he nodded towards the row of\\ncorpses. “As far\u001b[0m\n",
       "\u001b[32mI as can tell, at least.”  \\n  \\n“Did one of those things get in here?” another of Nasham’s squad asked. Anz,\\nhe \u001b[0m\n",
       "\u001b[32mthought.  \\n  \\n“No,” the submissive said aloud, his voice raw. It hurt to speak. “A machine\\nwouldn’t have \u001b[0m\n",
       "\u001b[32mbothered lining them up to kill them.” He knelt beside a female\\nThoughtful. “This was a Compact weapon. Point \u001b[0m\n",
       "\u001b[32mseven-five caliber. Probably a\\nJanissary carbine.” He looked up. “Why?”  \\n  \\nVerde shared a glance with Radan \u001b[0m\n",
       "\u001b[32mand the other squad members in the room. He\\nheld out a datapad. With a sudden unpleasant sensation curdling in his\u001b[0m\n",
       "\u001b[32mbelly,\\nNasham took it and thumbed the screen on.  \\n  \\n~  \\n  \\nCrusader Marsu died with his men. The enemy had \u001b[0m\n",
       "\u001b[32minfiltrated the comm network\\nand when he tried to secure Invida Station’s computer core, his force walked\\ninto an\u001b[0m\n",
       "\u001b[32mambush. In a display of heroism worthy of remembrance, the crusader\\ntook the bulk of his mangled forces and threw \u001b[0m\n",
       "\u001b[32mthem into the enemy’s teeth,\\nbuying time for a single squad to break contact and cloister themselves in \u001b[0m\n",
       "\u001b[32mthe\\ncomputer core, setting the necessary charges. They collapsed the passageways\\nafter them, trapping themselves \u001b[0m\n",
       "\u001b[32minside, but preventing the enemy from reaching\\nthe core. By the time dedicated diggers arrived, Column Leader \u001b[0m\n",
       "\u001b[32mPrime Yiven\\ndetonated the charges and destroyed the colony’s main computer hub.  \\n  \\nThe quarantine purges ended\u001b[0m\n",
       "\u001b[32mas a hostile infiltration team disabled the\\nhardware connections, following their sabotage up by flooding the \u001b[0m\n",
       "\u001b[32msection with\\nradiation to prevent repairs being made. The irony of the situation went\\nunnoticed.  \\n  \\nThere \u001b[0m\n",
       "\u001b[32mwere many unsung heroes in the last days of Invida Station’s existence,\\nmen and women who died to save their \u001b[0m\n",
       "\u001b[32mcomrades’ lives, assaults of such\\nferocity and dedication that the enemy’s advance was slowed, halted and in\\neven\u001b[0m\n",
       "\u001b[32mpushed back in places. Ground was gained, fought over, lost and taken\\nagain as the butchery escalated, but the \u001b[0m\n",
       "\u001b[32menemy’s forces were effectively\\ninfinite. Nothing less than complete destruction could stop one of the\\nmachines; \u001b[0m\n",
       "\u001b[32mself-repair mechanisms and a steady stream of mechanical tenders\\nmeant that on several occasions, Compact forces \u001b[0m\n",
       "\u001b[32midentified their opponents as\\nunits they had previously neutralized.  \\n  \\nFighting inside the colony became an \u001b[0m\n",
       "\u001b[32mincreasing hostile environment. Scarab\\nswarms and Spiders would cut through bulkheads and walls to open up \u001b[0m\n",
       "\u001b[32mnew\\navenues of attack. Drilling forms would do likewise, cutting through the\\nnetwork of tunnels to access sealed \u001b[0m\n",
       "\u001b[32mportions of the station. Machines carrying\\ndemolition charges would blast or burn through sealed doors. Heavy \u001b[0m\n",
       "\u001b[32mweapon\\nteams set up firepoints to isolate Compact units from each other. Infiltrators\\nfollowed comm signals, \u001b[0m\n",
       "\u001b[32mpreying on understrength squads and individual\\nsoldiers. Civilian casualties continued to mount as traditional \u001b[0m\n",
       "\u001b[32mlines of\\ndefence meant little to the invading force. Reports of the hostiles attempting\\nto take high-ranking \u001b[0m\n",
       "\u001b[32mpersonnel alive were unconfirmed. A claim from a security\\nforce witnessing a Janissary team shooting a captive \u001b[0m\n",
       "\u001b[32mresearcher dead was\\ndismissed as an unfortunate accident.  \\n  \\nIsolated from the main battlegrounds, Nasham led \u001b[0m\n",
       "\u001b[32mR’kan squad through the\\nlaboratories. His blood was pounding in his head as they passed more scenes of\\nmurder. \u001b[0m\n",
       "\u001b[32mMore dead scientists and technicians. Like the others, these hadn’t\\nbeen killed in battle. They’d all been \u001b[0m\n",
       "\u001b[32mexecuted. Most had been shot while\\nstanding; a few had been on their knees or lying on the ground as \u001b[0m\n",
       "\u001b[32mtheir\\npreference, culture or religion dictated. Some had been shot in the back as\\nthey had tried to run.  \\n  \u001b[0m\n",
       "\u001b[32m\\nComputer screens were smashed, work terminals were shot to pieces, flames\\ndanced and crackled amidst ruined \u001b[0m\n",
       "\u001b[32mcybernetics laboratories. The destruction\\nhad been focused at first; targeting specific bits of research but \u001b[0m\n",
       "\u001b[32mhad\\ngraduated to full-on demolition of anything that looked even vaguely\\nimportant. Whoever had done this had \u001b[0m\n",
       "\u001b[32mkilled the last few groups of researchers\\nwithout realizing that now they didn’t know what physical devices needed\u001b[0m\n",
       "\u001b[32mto be\\ndestroyed. Either they hadn’t cared, or hadn’t had the chance to do so. _I\\nsuppose the gunshots from the \u001b[0m\n",
       "\u001b[32mfirst groups you murdered unsettled the rest,\\nyes?_ Nasham thought sardonically.  \\n  \\n“This was going on while \u001b[0m\n",
       "\u001b[32mwe were fighting,” he said bitterly. “While we were\\ntrying to save these people, they were already dead.” He \u001b[0m\n",
       "\u001b[32mtraced one finger\\nthrough a pool of blood. It was still wet, only just now starting to dry. “I\\ndidn’t know we had\u001b[0m\n",
       "\u001b[32mTier 5 protocols in place here.”  \\n  \\nThe other Janissaries shared a glance between each other. “You mentioned \u001b[0m\n",
       "\u001b[32mthat\\nafter the first room,” Radan said to her superior. They were talking on the\\nsquad’s channel to avoid \u001b[0m\n",
       "\u001b[32malarming the civilians; the scenes of slaughter had\\nput their charges on the verge of panic as it was. “What are \u001b[0m\n",
       "\u001b[32mthey?”  \\n  \\n“Something I shouldn’t even know about myself,” Nasham replied. He looked over\\nhis shoulder at his \u001b[0m\n",
       "\u001b[32mhandful of survivors. They were close; the scattered comm\\nintercepts R’kan was picking up were getting stronger \u001b[0m\n",
       "\u001b[32mand more coherent. “But\\nyou have a powerful enough bloodline and you learn things outside your normal\\nduties. \u001b[0m\n",
       "\u001b[32mThreat Tier 5 protocols assume that something is too dangerous to be\\nallowed to exist, in any form. All traces of \u001b[0m\n",
       "\u001b[32mit have to be wiped,” he held up\\nhis hand, watching trails of blood run along the angles of his gauntlet. \u001b[0m\n",
       "\u001b[32m“All\\nrecords are destroyed. All personnel are terminated. Sufficiently valuable\\nindividuals may be mind-wiped for\u001b[0m\n",
       "\u001b[32mtheir protection. Everything else is\\ndestroyed.” He chuckled. The sound was devoid of humour. “Yiven’s \u001b[0m\n",
       "\u001b[32mcleaning\\nhouse.”  \\n  \\nHe stood with a purr of powered joints. “Of course, it’s not a real Tier 5\\nsituation, is \u001b[0m\n",
       "\u001b[32mit? There are records. _Unmatchable Deed_ got out. Whoever\\nfounded this colony still exists. Whoever signed the \u001b[0m\n",
       "\u001b[32morders,” he laughed\\nagain. It was even uglier than before. “I don’t think they’re going to get\\nscratched. Do you?\u001b[0m\n",
       "\u001b[32mNo, Yiven’s just... cleaning house.” He repeated, managing\\nto stop himself from saying anything else.  \\n  \\n“All \u001b[0m\n",
       "\u001b[32mthese people...” Anz said. “We were supposed to protect them.”  \\n  \\n“Up until they became a liability,” Verde \u001b[0m\n",
       "\u001b[32msneered. “Invida’s always been a\\nblack box and now they’re closing it up with us still inside.”  \\n  \\nThe \u001b[0m\n",
       "\u001b[32mJanissaries looked at him. Radan spoke, nervously running her fingers over\\nthe trigger guard of her grenade \u001b[0m\n",
       "\u001b[32mlauncher. “Then what do we do?”  \\n  \\n“What we always do,” Nasham replied. “Our duty.” He leaned over a small \u001b[0m\n",
       "\u001b[32mmap,\\nwiping a smattering of blood and ash away as he traced a utility hallway that\\nled deeper into the central \u001b[0m\n",
       "\u001b[32mcore, away from the scenes of ruin and slaughter.\\n“This should take us to secondary command.”  \\n  \\n“We’re not \u001b[0m\n",
       "\u001b[32mgoing to the main levels?” Radan asked.  \\n  \\n“If the main levels were safe, Yiven wouldn’t have ordered this \u001b[0m\n",
       "\u001b[32mpogrom,”\\nNasham shrugged. He looked over at his few survivors, military and civilian\\nboth. “It comes down to \u001b[0m\n",
       "\u001b[32mwhere you want to die. Anyone who wants to stay here\\ncan, but I...” he paused, seeing Asea’s face before his eyes.\u001b[0m\n",
       "\u001b[32m“I won’t die\\nuntil I settle some debts.”  \\n  \\nThey followed him.  \\n  \\n~  \\n  \\nTrue to predictions, command \u001b[0m\n",
       "\u001b[32mhad been overrun. As R’kan squad came out of the\\nlaboratory complexes, communication with the surviving Compact \u001b[0m\n",
       "\u001b[32mforces became\\nmore frequent and clear. The picture it painted was all too familiar. About\\ntwo-thirds of the \u001b[0m\n",
       "\u001b[32msurviving defenders had been trapped in the upper levels of\\nthe central core when it fell. They’d managed to \u001b[0m\n",
       "\u001b[32mblockade the passages down\\ninto the lower core and were fighting to hold them against repeated and\\nintense \u001b[0m\n",
       "\u001b[32mattack. Several sallies to re-take vital facilities and sections had\\nfailed but at least two of the forces sent \u001b[0m\n",
       "\u001b[32mout were still operational, though\\nthey were being ground down steadily. All the buildings and personnel \u001b[0m\n",
       "\u001b[32moutside\\nthe central core were assumed to be lost. No scouting teams had reported back\\nto indicate otherwise.  \\n \u001b[0m\n",
       "\u001b[32m\\nAs Nasham led his squad towards the secondary command center, they picked up a\\nfew stragglers – wounded who’d \u001b[0m\n",
       "\u001b[32mfallen behind, a fire team that had gotten\\nturned around in the chaos. By the time he reached the Compact lines he\u001b[0m\n",
       "\u001b[32mhad\\nalmost a full squad again.  \\n  \\nDespite a close call with the nervous gunners of a heavy weapon \u001b[0m\n",
       "\u001b[32memplacement,\\nNasham led his ragtag band of survivors to what passed for safety. An\\nexhausted ideologue, \u001b[0m\n",
       "\u001b[32msubmissive was there to meet them. “Patron,” he said,\\nsaluting. “We’d heard your unit was caught in the purge.”  \u001b[0m\n",
       "\u001b[32m\\n  \\n“We survived.” Nasham gestured to the civilians in his group. “These people\\nneed medical attention.”  \\n  \u001b[0m\n",
       "\u001b[32m\\nThe Janissary officer gestured and an advocate stepped forward. “We have some\\ncivilian survivors as well,” the \u001b[0m\n",
       "\u001b[32mideologue, submissive commented. “We’ll take\\ncare of them.”  \\n  \\n“I’m sure you will,” Nasham replied. He \u001b[0m\n",
       "\u001b[32mhalf-turned towards the noncom. “You\\ndie before they do.”  \\n  \\n“Of course, patron,” the advocate said. “That’s \u001b[0m\n",
       "\u001b[32mour job.”  \\n  \\n“Yes it is,” Nasham said pointedly. “It most certainly is.”  \\n  \\nHe stepped closer to the \u001b[0m\n",
       "\u001b[32myounger submissive, blocking his view of the advocate\\nas Radan caught the other noncom’s arm. “ _Before_ they do,”\u001b[0m\n",
       "\u001b[32mthe woman\\nwhispered. The advocate squared his shoulders, about to snap at the lower-\\nranking soldier’s insolence \u001b[0m\n",
       "\u001b[32mwhen he caught look in her eyes – one shared by\\nall her squad. “Yes,” was he said instead. “Of course.” He pushed \u001b[0m\n",
       "\u001b[32mby Radan,\\nleading the civilians away.  \\n  \\n“Who’s left?” Nasham asked the Janissary officer – Ket by his \u001b[0m\n",
       "\u001b[32mnametag.  \\n  \\nThe other man swallowed. “The column leader prime managed to get out of\\ncommand before it fell. \u001b[0m\n",
       "\u001b[32mLosses have been high among the leadership.” That was\\nunderstating things. Whenever possible, the machines went \u001b[0m\n",
       "\u001b[32mafter officers, with\\nall the issues for command, control and morale that that entailed. “Crusader\\nMarsu died to \u001b[0m\n",
       "\u001b[32msecure the primary computer core. Demagogue Cluun was trapped in\\nthe upper levels. He was killed three hours ago. \u001b[0m\n",
       "\u001b[32mIdeologue Janz is...” the\\nsubmissive cast an quick glance down a particular tunnel. “...he’s not in his\\nright \u001b[0m\n",
       "\u001b[32mmind, patron. The prime is coordinating our defences now.”  \\n  \\nNasham moved to enter the command center, but the\u001b[0m\n",
       "\u001b[32mJanissary officer blocked\\nhim from doing so. “We need your squad on the perimeter, patron.”  \\n  \\nThe submissive \u001b[0m\n",
       "\u001b[32mpaused a moment before looking at the other man. “I have\\ninformation that the prime needs to hear.”  \\n  \\n“I can \u001b[0m\n",
       "\u001b[32mrelay it for you, patron.”  \\n  \\n“No.” Nasham tapped Ket’s rank bars and then his own. “I will communicate \u001b[0m\n",
       "\u001b[32mit\\ndirectly to the column leader prime.”  \\n  \\n“I-”  \\n  \\nThe group leader, submissive put his hand on the other\u001b[0m\n",
       "\u001b[32mman’s shoulder. “You’ve\\ndone your duty, submissive. Now I must do mine.”  \\n  \\n~  \\n  \\n“Yiven,” Nasham called as\u001b[0m\n",
       "\u001b[32mhe strode into the command center, the rest of R’kan\\nfollowing him. Here and there he saw wounded soldiers slumped\u001b[0m\n",
       "\u001b[32magainst the\\nwalls, ratings and minor officers trying to coordinate the last, futile\\ndefence of Invida Station. \u001b[0m\n",
       "\u001b[32mThe room stunk of dust, ozone and blood. The\\nstation’s commander was leaning over a console, eyes intent on \u001b[0m\n",
       "\u001b[32mwhatever it\\nshowed. “Yiven,” Nasham raised his voice. Finally, the prime looked up. His\\neyes widened slightly as \u001b[0m\n",
       "\u001b[32mhe saw Nasham.  \\n  \\n“That is _column leader prime_ Yiven to you, submissive,” the older man said\\nthrough gritted\u001b[0m\n",
       "\u001b[32mteeth.  \\n  \\n“If you were worthy of that rank, I’d address you by it,” Nasham said. He held\\nup the datapad, \u001b[0m\n",
       "\u001b[32mtossing it to the prime. “That’s yours, I believe. I don’t\\nknow who actually carried it, but if they’re still \u001b[0m\n",
       "\u001b[32malive, I’d guess you’ve got\\nthem out on the front lines. Your executioners are going to be the first to\\ndie, \u001b[0m\n",
       "\u001b[32maren’t they? It’ll bury what they did. What you _ordered_ them to do.”  \\n  \\n“Mind your tone,” Yiven snapped. “You\u001b[0m\n",
       "\u001b[32mhave no idea what’s going on here-”  \\n  \\n“I know enough,” Nasham said softly, unlimbering the shotcannon. A few \u001b[0m\n",
       "\u001b[32mguards\\nmoved towards him, but the soldiers of R’kan held them back. “This place\\nshould have stayed dark and dead.\u001b[0m\n",
       "\u001b[32mTwo thousand years ago, we made a mistake.\\nWe should have left it here, never to be found. I don’t know why \u001b[0m\n",
       "\u001b[32mCommand\\nwanted that abomination back, but it has to have something to do with what’s\\nhappening now. We’re dying \u001b[0m\n",
       "\u001b[32mfor their lies.” He pointed to the datapad. “You\\nordered ‘reliable’ Janissaries to murder the scientists and \u001b[0m\n",
       "\u001b[32mworkers. You sent\\nin teams posing as their saviours. You told them they’d be safe. Instead, you\\nhad them rounded \u001b[0m\n",
       "\u001b[32mup and murdered.”  \\n  \\nA ripple of disbelief ran through the assembled personnel as they looked to\\neach other \u001b[0m\n",
       "\u001b[32mand between Nasham and Yiven.  \\n  \\n“Yes,” the column leader admitted. “I did.”  \\n  \\n“When did it start? When \u001b[0m\n",
       "\u001b[32mdid you decide that we all had to die?” Nasham tapped\\nhis earpiece. “I’ve been listening to our people fall. \u001b[0m\n",
       "\u001b[32mDisastrous counter-\\nattacks. Threadbare defence lines. Wasteful deployments. Conflicting\\ndirectives. It’s been \u001b[0m\n",
       "\u001b[32myou, hasn’t it? You’ve been feeding us to those things\\nbit by bit. So gradually that we’d never notice.”  \\n  \u001b[0m\n",
       "\u001b[32m\\n“It was the only way,” Yiven said. “You don’t understand.”  \\n  \\n“You betrayed us,” Nasham accused. He wanted to\u001b[0m\n",
       "\u001b[32mfeel angry, he wanted to feel\\na surge of righteous fury at this revelation, but he couldn’t. Two days of\\nendless \u001b[0m\n",
       "\u001b[32mslaughter and of his constant failures were crushing down on his soul.\\n“I understand that.”  \\n  \\n“I _saved_ us,”\u001b[0m\n",
       "\u001b[32mthe prime responded. There was a fervour in his eyes, an\\nunhealthy zealousness that made Nasham’s skin crawl. “We \u001b[0m\n",
       "\u001b[32mwere always going to\\ndie. Relief was never going to arrive in time. While you spread dissent and\\nsubversion, I \u001b[0m\n",
       "\u001b[32mmade the decisions that needed to be made! I insured that this\\nfacility’s secrets will _not_ be taken by our \u001b[0m\n",
       "\u001b[32menemy! That has been my burden\\nand my duty and it is one that I accepted. But not you, not group \u001b[0m\n",
       "\u001b[32mleader,\\nsubmissive Nasham Kem Unoth Ludhy Inku Pram Voy of such an exalted line, no.\\nYou know better than any of \u001b[0m\n",
       "\u001b[32mus.”  \\n  \\n“You betrayed us,” Nasham repeated. “It was your duty to safeguard this\\ninstallation and everyone. You\u001b[0m\n",
       "\u001b[32mnot only failed in that duty, you went out of\\nyour way to abrogate it, all for some damned secrets. Twenty \u001b[0m\n",
       "\u001b[32mthousand lives\\nwill be extinguished and none of us will know why. We’re dying for nothing.”  \\n  \\n“We don’t need \u001b[0m\n",
       "\u001b[32mto know _why_ ,” Yiven sneered. “We are Tribunes. The sword and\\nshield of the Compact. The Triarchs’ chosen \u001b[0m\n",
       "\u001b[32msoldiers. It is our duty to fight\\nfor them and if it necessary, it is our duty to die! I have faith in what \u001b[0m\n",
       "\u001b[32mwe\\nare doing. I know that our deaths are for a greater purpose, a greater cause.\\nCan’t you see that?”  \\n  \\n“Not\u001b[0m\n",
       "\u001b[32mlike this.” The gun shook in Nasham’s hands. Every flatline signal he’d\\nheard over the past two days rang in his \u001b[0m\n",
       "\u001b[32mears, every scream he’d listened to,\\nevery face he’d seen... “We deserve better.”  \\n  \\n_Asea._  \\n  \\n“ \u001b[0m\n",
       "\u001b[32m_Exactly_ like this,” Yiven was ranting. “You talk about the Articles of the\\nCompact, but I do what I do for the \u001b[0m\n",
       "\u001b[32mCompact – for what it is and what it will\\nbe! I am willing to die for the safety, security and _glory_ of the \u001b[0m\n",
       "\u001b[32mCompact,\\nto insure that it survives and prospers. What about you?”  \\n  \\n“Enough,” Nasham interrupted. “Column \u001b[0m\n",
       "\u001b[32mLeader Prime Yiven, pursuant to\\ndirective 749.1 of the military code of justice, I find you unfit to command\\nand \u001b[0m\n",
       "\u001b[32mI relieve you of your position.”  \\n  \\n“You sanctimonious little _jahara_ ,” Yiven cursed. “Who do you think you \u001b[0m\n",
       "\u001b[32mare?\\nI have been serving the nation we swore to protect since before you got off\\nthe teat. I will not be judged \u001b[0m\n",
       "\u001b[32mby someone like you. _I did this for the\\nCompact,_ ” his hand dropped towards the pistol at his waist-  \\n  \u001b[0m\n",
       "\u001b[32m\\n-Nasham fired, each of the shotcannon’s three barrels speaking at once. Each slug put a hole the size of a \u001b[0m\n",
       "\u001b[32mchild’s fist in Yiven’s chest, and each of them created an exit wound the size of a man’s head in his back. The \u001b[0m\n",
       "\u001b[32mprime toppled, his expression of righteous indignation still frozen on his face. “So did I,” Nasham said into the \u001b[0m\n",
       "\u001b[32msilence.  \\n  \\nHe looked around at the other face in the room. Tired, exhausted, frightened.\\nNone of them moved \u001b[0m\n",
       "\u001b[32mto shoot him down. Somehow, that was the funniest thing in\\nthe world and he slumped into a chair and started \u001b[0m\n",
       "\u001b[32mlaughing.  \\n  \\nIn the distance, he could hear gunfire as the final battle of Invida Station\\nbegan.  \\n  \\n~  \\n \u001b[0m\n",
       "\u001b[32m\\nLater:  \\n  \\nThe door to the interrogation room slid shut with a whisper of pneumatic\\ngears. Special Agent \u001b[0m\n",
       "\u001b[32mLinnel Setdaughter stepped into the observation room,\\nlooking from her partner to the other observer. “What do you\u001b[0m\n",
       "\u001b[32mthink?”  \\n  \\n“This is the fourth interview,” Bastion leader, submissive Hellv \u001b[0m\u001b[32m(\u001b[0m\u001b[32mand eight\\nnames besides\u001b[0m\u001b[32m)\u001b[0m\u001b[32m said. \u001b[0m\n",
       "\u001b[32m“Nothing new has come out.”  \\n  \\n“I must agree with the bastion leader,” Special Agent Avun’et added. “There\\nhas\u001b[0m\n",
       "\u001b[32mbeen no substantive difference in the information the group leader,\\nsubmissive has supplied. He has been \u001b[0m\n",
       "\u001b[32mcommendably thorough.”  \\n  \\n“Agreed. I think we’ve got all we can get from him,” Linnel looked through \u001b[0m\n",
       "\u001b[32mthe\\none-way mirror. Group leader, submissive Nasham Kem Unoth Ludhy Inku Pram Voy\\nwas still seated, resting his \u001b[0m\n",
       "\u001b[32mforearms on the tabletop. The Shimmer bit her\\nlip. She’d interviewed Watchers with more animus to them. The \u001b[0m\n",
       "\u001b[32msubmissive had\\nanswered all of her questions in the same flat monotone, his gaze never\\nwavering from a point just\u001b[0m\n",
       "\u001b[32mpast the back of her head. There had been moments –\\njust moments – when she thought he might break down, when a \u001b[0m\n",
       "\u001b[32mtouch of grief or\\nanger had slipped into his words... but those emotions had faded away just as\\nquickly, washed \u001b[0m\n",
       "\u001b[32maway and buried. She couldn’t blame him; not with what he’d\\ngone through. Not counting the Space Force personnel \u001b[0m\n",
       "\u001b[32mof Invida Orbital and the\\npicket ships, 20,391 people had called Invida Station home. 20,390 of them\\nwere now \u001b[0m\n",
       "\u001b[32mdead.  \\n  \\n“Yes,” Avun’et nodded. He looked to the flag officer. “If you wish, we can\\nschedule some \u001b[0m\n",
       "\u001b[32mdeep-regression interrogations.”  \\n  \\nHellv stroked the underside of his jaw. “No,” he said. “Those are \u001b[0m\n",
       "\u001b[32mrarely\\neffective on Tribunes and I don’t believe the submissive is holding anything\\nvital back. We’ll try some \u001b[0m\n",
       "\u001b[32mlow-level recall procedures to get as much detail\\nas we can, but I don’t think anything more than that would be \u001b[0m\n",
       "\u001b[32museful.”  \\n  \\nThe Shimmer nodded. Standing beside the Thoughtful, the pair of them could –\\nat a quick glance – \u001b[0m\n",
       "\u001b[32malmost be mistaken for father and daughter, the Thoughtful\\nalmost two feet taller than his partner. Both of them \u001b[0m\n",
       "\u001b[32mhad the same build, the\\nsame smooth, hairless skin – but more than a quick look would easily betray\\nLinnel’s \u001b[0m\n",
       "\u001b[32midentity as a member of a client race. A wash of colour ran along her\\nskin as the Shimmer shifted her colouration \u001b[0m\n",
       "\u001b[32mfrom the blues and greys of the\\nobservation room to the off-white of her partner’s skin. “And after?”  \\n  \\nThe \u001b[0m\n",
       "\u001b[32mbastion leader, submissive leaned back, sitting on a small table. “That’s\\nFortune’s game, isn’t it? Officially, \u001b[0m\n",
       "\u001b[32mI’m not even here, so I can’t advise\\nyou. Some of my colleagues would prefer it if there were no survivors \u001b[0m\n",
       "\u001b[32mto\\nInvida. Others are, like me, curious about the submissive’s survival. We\\nhaven’t reached any consensus.” He \u001b[0m\n",
       "\u001b[32msmiled then. “So we’re passing the decision\\ndown to our agents on the scene. You get all of the responsibility, \u001b[0m\n",
       "\u001b[32mnone of\\nthe credit and twice the blame.”  \\n  \\n“Just another day working for the Leadership,” Linnel observed \u001b[0m\n",
       "\u001b[32mdryly.  \\n  \\nHellv looked down his snout at the smaller female. “You should have thought of\\nthat a decade ago.” \u001b[0m\n",
       "\u001b[32mNew to the CIS and following a connection between several\\nUnbound clans and the Red Hand, one agent Linnel had \u001b[0m\n",
       "\u001b[32mcome across a secret\\nknown only to the highest echelons. Rather than disposing of the young\\nofficer, Hellv had \u001b[0m\n",
       "\u001b[32mseen promise in the Shimmer and drafted both Linnel and her\\nlong-suffering partner into the Space Force’s shadow \u001b[0m\n",
       "\u001b[32mwar against the faction\\nthey’d code-named ‘Gravestone’. Officially, they were still a part of the\\ncivilian arm of\u001b[0m\n",
       "\u001b[32mthe CIS with no military clearance or rank. Unofficially, they\\nwere one of a handful of agents deemed trustworthy \u001b[0m\n",
       "\u001b[32menough to represent the\\nhighest echelons of the Space Force’s Leadership.  \\n  \\nAccordingly, Hellv had made sure \u001b[0m\n",
       "\u001b[32mthat they had taken lead on the investigation\\ninto Invida Station’s ‘disastrous reactor malfunction’. The Tribune \u001b[0m\n",
       "\u001b[32mreached\\ninto his jacket and removed a roll of small candies, popping one into his\\nmouth and handing the other to \u001b[0m\n",
       "\u001b[32mLinnel. Avun’et waved the offer away politely.  \\n  \\nThe Thoughtful leaned forward, looking through the one-way \u001b[0m\n",
       "\u001b[32mmirror, regarding\\nthe subject. “Termination would be simplest,” he said. “He’s had contact with\\nGravestone. He \u001b[0m\n",
       "\u001b[32mknows what happened on Invida – or close enough to concern the\\nLeadership.” Even the agents didn’t know the full \u001b[0m\n",
       "\u001b[32mextent, but that was for the\\nbest. “He was party to a black-boxed operation.” The Thoughtful glanced down\\nat the \u001b[0m\n",
       "\u001b[32msmaller woman. “Considering his mental state, it might even be a\\nmercy.”  \\n  \\n“He said that, you know.”  \\n  \u001b[0m\n",
       "\u001b[32m\\nAvun’et blinked. Hellv cocked his head towards Linnel.  \\n  \\nThe Shimmer stroked her fingers over the back of \u001b[0m\n",
       "\u001b[32mher hand.“It was after our\\nfirst interview, when the recorder was off. He laughed a little and said that\\nhe was \u001b[0m\n",
       "\u001b[32mglad that he’d had a chance to tell someone. That he was happy not to\\nhave to carry this by himself any longer. \u001b[0m\n",
       "\u001b[32mThat he’d done what he had to. He\\nwas expecting – even hoping – to die.” Linnel cocked her head. “I put him on \u001b[0m\n",
       "\u001b[32ma\\nsuicide watch.”  \\n  \\nThe Thoughtful raised a hairless eyebrow.  \\n  \\n“He spoke to it,” Linnel pointed out. \u001b[0m\n",
       "\u001b[32m“How many times has that happened? I’m\\nnot talking about Gravestone’s normal communications. I mean real, \u001b[0m\n",
       "\u001b[32mhonest\\ndialogue. How many times has Gravestone _ever_ talked to a Tribune and left\\nthem alive and sane?”  \\n  \u001b[0m\n",
       "\u001b[32m\\n“None that I am aware of,” Avun’et replied. He looked to Hellv; the Tribune\\ngave his head a minute shake, \u001b[0m\n",
       "\u001b[32maffirming the Thoughtful’s appraisal. “However,\\nI question the level of sanity the submissive has if he required a\u001b[0m\n",
       "\u001b[32msuicide\\nwatch.”  \\n  \\n“He’s been through a lot.”  \\n  \\n“Indeed. But aside from a few details here and there, \u001b[0m\n",
       "\u001b[32mhe’s given us\\neverything.” Avun’et let out a disappointed sigh through his nostril slits. “A\\nshame we couldn’t \u001b[0m\n",
       "\u001b[32mhave analyzed the site.”  \\n  \\nLinnel nodded. Gravestone had left a going-away present on Invida – a five\\nhundred\u001b[0m\n",
       "\u001b[32mmegaton nuclear warhead. It had armed itself the instant the relief\\nforce’s shuttles had broken atmosphere. \u001b[0m\n",
       "\u001b[32mThere’d been barely enough time to\\nevacuate Nasham before the entire installation had been turned into a \u001b[0m\n",
       "\u001b[32mcrater.\\nAs a final insult, it had been a filthy warhead too, irradiating a fair chunk\\nof the planet. Both \u001b[0m\n",
       "\u001b[32mstations were completely scratched. Even if anything more\\nthan finger-nail sized pieces of debris had survived the\u001b[0m\n",
       "\u001b[32mblast, there would be\\nno returning to that site for decades. “Our superiors haven’t been able to\\ndecide?” she \u001b[0m\n",
       "\u001b[32mmused aloud.  \\n  \\n“They don’t want to commit to anything,” the Thoughtful answered before Hellv\\ncould, tapping \u001b[0m\n",
       "\u001b[32mhis chin contemplatively. “I have the feeling that if this were\\nany other situation, we would have already \u001b[0m\n",
       "\u001b[32mscheduled the submissive’s suicide,\\nbut there’s two factors that have to be weighing on their decision.”  \\n  \u001b[0m\n",
       "\u001b[32m\\n“His family,” Linnel observed. “Six names for someone of his rank _is_ a lot.”  \\n  \\n“Correct,” Hellv put in. \u001b[0m\n",
       "\u001b[32m“As I said, they’re leaving it in your capable hands.\\nThey say it’s because with your position comes \u001b[0m\n",
       "\u001b[32mresponsibilities like this, but\\nhalf of them are afraid that Hierarch Caend will learn that his \u001b[0m\n",
       "\u001b[32mfavourite\\nnephew’s death doesn’t match any of the cover stories we’ve prepared. The\\nother half... well, there’s \u001b[0m\n",
       "\u001b[32mno need to bore you with the politics of it all.”  \\n  \\n“I’d think they’d be less involved with political concerns\u001b[0m\n",
       "\u001b[32min a situation like\\nthis.”  \\n  \\nHellv popped another candy into his mouth. The older man had a sweet tooth.\\n“My\u001b[0m\n",
       "\u001b[32mdear girl, there are always political concerns. The W- Gravestone could be\\nadvancing on Foundation One and the \u001b[0m\n",
       "\u001b[32mLeadership would still bicker about the\\nproper course of action.”  \\n  \\n“Indeed,” Avun’et replied, trying to draw\u001b[0m\n",
       "\u001b[32mthe conversation back on point. “As\\nyou said, this is the first time that Gravestone has attempted anything \u001b[0m\n",
       "\u001b[32mclose\\nto actual contact.” He leaned forward. “That alone is worth further study.\\nStill... he admitted murdering a\u001b[0m\n",
       "\u001b[32msuperior officer. Worse, he pieced together\\nmuch of what Invida Station was meant to achieve. He’s a danger to \u001b[0m\n",
       "\u001b[32mthe\\nLeadership’s position on Gravestone. If it were anyone else, any other\\ncircumstance...”  \\n  \\n“But he’s not \u001b[0m\n",
       "\u001b[32mand it’s not,” Linnel reminded her partner. “We should carry out\\nmemory suppression. Termination is wasteful. If \u001b[0m\n",
       "\u001b[32mthere is something, anything\\nthat the submissive has held back consciously or otherwise, we’d never know.\\nMore to\u001b[0m\n",
       "\u001b[32mthe point, he’s a witness – one of the few we’ve ever had to\\nGravestone’s activity. That’s a resource I don’t \u001b[0m\n",
       "\u001b[32mbelieve we should be so quick\\nto throw away.”  \\n  \\nThe Thoughtful grimaced. “Tribune physiology is too robust \u001b[0m\n",
       "\u001b[32mfor its own good.\\nNormal memory purges are ineffective. We’d need to use a Balker-Mnenet\\ntreatment regime to \u001b[0m\n",
       "\u001b[32msuppress the incident. Even with appropriate medication,\\nit may not last and if it does, it’s still unreliable. \u001b[0m\n",
       "\u001b[32mCase studies show\\nsignificant rates of memory retention, even if fragmented. What if his\\nmemories come back?”  \\n\u001b[0m\n",
       "\u001b[32m\\n“Then we see what happens,” Linnel replied. “If he breaks down like this\\nagain, we may to have to scratch him. I\u001b[0m\n",
       "\u001b[32mthink we can avoid that. He wants to\\nforget. We can use that. He as much told me that he wants the memories gone \u001b[0m\n",
       "\u001b[32m–\\nwe can do that for him. It’ll give him an incentive to cooperate. If they\\nstart coming back, we’ll be able to \u001b[0m\n",
       "\u001b[32mhandle it. This will work.”  \\n  \\n“Still, his actions can’t be ignored,” Avun’et commented. “Column leader \u001b[0m\n",
       "\u001b[32mprime\\nYiven had friends. Some of them may even be among the bastion leader,\\nsubmissive’s Leadership. I doubt they\u001b[0m\n",
       "\u001b[32mwill be forgiving.”  \\n  \\nHellv’s only answer was a miniscule nod.  \\n  \\nA ripple of colour ran across the \u001b[0m\n",
       "\u001b[32mShimmer’s skin. “Then break him,” she said.\\n“Take a name, demote him and divert him from the command track. Put \u001b[0m\n",
       "\u001b[32mhim\\nsomewhere out of the way; we’ve got enough backwater to go around. As far as\\nthe galaxy will know, the \u001b[0m\n",
       "\u001b[32msubmissive was the sole survivor of a catastrophic\\naccident. Let them make up whatever stories they want. \u001b[0m\n",
       "\u001b[32mCowardice, collusion,\\nincompetence. They’ll all work to discredit him if he ever does remember and\\nruns his \u001b[0m\n",
       "\u001b[32mmouth.” She looked out into the interrogation room for a moment\\nbefore turning to regard the flag officer. “We’ve \u001b[0m\n",
       "\u001b[32mbeen wading through Unbound\\nfilth for years trying to get some kind of lead on Gravestone. That man,” she\\npointed\u001b[0m\n",
       "\u001b[32mto Nasham. “Is as close as we’re likely to come. I don’t want to see\\nthat kind of asset thrown away, especially \u001b[0m\n",
       "\u001b[32mnot because it’s the easy thing to\\ndo. We’re not machines. We don’t destroy something just because it’s damaged.” \u001b[0m\n",
       "\u001b[32m\\n  \\nAvun’et splayed his hands. “As you like.” His partner was too soft-hearted for\\nher own good; she had \u001b[0m\n",
       "\u001b[32mdifficulty viewing things from a purely rational\\noutlook. Of course, she was only a Shimmer so it was to be \u001b[0m\n",
       "\u001b[32mexpected.  \\n  \\n“I’ll leave you to it then,” Hellv said, standing back up. “Run the final\\nseries of \u001b[0m\n",
       "\u001b[32minterrogations, work out a deal with the submissive and go from\\nthere. You knew where to send the appropriate \u001b[0m\n",
       "\u001b[32mdocuments. Once you’re finished\\nhere, I want you to move on to the Nergaras system to handle that incident \u001b[0m\n",
       "\u001b[32mwe\\ntalked about.” He held up a hand. “I know, I know. Jahan was supposed to deal\\nwith it. Well, he threw right \u001b[0m\n",
       "\u001b[32mout the airlock so I need you two to handle it\\nnow. You’ve gotten the leaves from your nominal supervisor, so tie \u001b[0m\n",
       "\u001b[32mthings off\\nhere as soon as you can and get out there.”  \\n  \\n“Yes, patron,” Linnel said, coming to attention. \u001b[0m\n",
       "\u001b[32mAvun’et inclined his head\\nrespectfully as the Tribune departed, leaving the agents alone in the\\nobservation \u001b[0m\n",
       "\u001b[32mbooth. From the interrogation room came the soft sound of a dead\\nman’s laughter.  \\n  \\n~  \\n  \\n'\u001b[0m\u001b[1m]\u001b[0m.\n"
      ]
     },
     "metadata": {},
     "output_type": "display_data"
    },
    {
     "name": "stderr",
     "output_type": "stream",
     "text": [
      "Parsing Thread The Last Angel:  49%|####9     | 27/55 [00:34<00:34,  1.23s/it]"
     ]
    },
    {
     "data": {
      "text/html": [
       "<pre style=\"white-space:pre;overflow-x:auto;line-height:normal;font-family:Menlo,'DejaVu Sans Mono',consolas,'Courier New',monospace\">Titles Found: <span style=\"font-weight: bold\">[</span><span style=\"color: #008000; text-decoration-color: #008000\">'Chapter 28:'</span><span style=\"font-weight: bold\">]</span>.\n",
       "</pre>\n"
      ],
      "text/plain": [
       "Titles Found: \u001b[1m[\u001b[0m\u001b[32m'Chapter 28:'\u001b[0m\u001b[1m]\u001b[0m.\n"
      ]
     },
     "metadata": {},
     "output_type": "display_data"
    },
    {
     "name": "stderr",
     "output_type": "stream",
     "text": [
      "Parsing Thread The Last Angel:  51%|#####     | 28/55 [00:36<00:33,  1.26s/it]"
     ]
    },
    {
     "data": {
      "text/html": [
       "<pre style=\"white-space:pre;overflow-x:auto;line-height:normal;font-family:Menlo,'DejaVu Sans Mono',consolas,'Courier New',monospace\">Titles Found: <span style=\"font-weight: bold\">[</span><span style=\"color: #008000; text-decoration-color: #008000\">'This is a lie  \\n  \\nComing up: Rommie versus Carter  \\n  \\n'</span><span style=\"font-weight: bold\">]</span>.\n",
       "</pre>\n"
      ],
      "text/plain": [
       "Titles Found: \u001b[1m[\u001b[0m\u001b[32m'This is a lie  \\n  \\nComing up: Rommie versus Carter  \\n  \\n'\u001b[0m\u001b[1m]\u001b[0m.\n"
      ]
     },
     "metadata": {},
     "output_type": "display_data"
    },
    {
     "name": "stderr",
     "output_type": "stream",
     "text": [
      "Parsing Thread The Last Angel:  53%|#####2    | 29/55 [00:37<00:30,  1.17s/it]"
     ]
    },
    {
     "data": {
      "text/html": [
       "<pre style=\"white-space:pre;overflow-x:auto;line-height:normal;font-family:Menlo,'DejaVu Sans Mono',consolas,'Courier New',monospace\">Titles Found: <span style=\"font-weight: bold\">[</span><span style=\"color: #008000; text-decoration-color: #008000\">'Chapter 30:'</span>, <span style=\"color: #008000; text-decoration-color: #008000\">'Interlude: Encounter 83 [Confirmed Incident]'</span><span style=\"font-weight: bold\">]</span>.\n",
       "</pre>\n"
      ],
      "text/plain": [
       "Titles Found: \u001b[1m[\u001b[0m\u001b[32m'Chapter 30:'\u001b[0m, \u001b[32m'Interlude: Encounter 83 \u001b[0m\u001b[32m[\u001b[0m\u001b[32mConfirmed Incident\u001b[0m\u001b[32m]\u001b[0m\u001b[32m'\u001b[0m\u001b[1m]\u001b[0m.\n"
      ]
     },
     "metadata": {},
     "output_type": "display_data"
    },
    {
     "name": "stderr",
     "output_type": "stream",
     "text": [
      "Parsing Thread The Last Angel:  55%|#####4    | 30/55 [00:38<00:33,  1.33s/it]"
     ]
    },
    {
     "data": {
      "text/html": [
       "<pre style=\"white-space:pre;overflow-x:auto;line-height:normal;font-family:Menlo,'DejaVu Sans Mono',consolas,'Courier New',monospace\">Titles Found: <span style=\"font-weight: bold\">[</span><span style=\"color: #008000; text-decoration-color: #008000\">'Chapter 31:'</span><span style=\"font-weight: bold\">]</span>.\n",
       "</pre>\n"
      ],
      "text/plain": [
       "Titles Found: \u001b[1m[\u001b[0m\u001b[32m'Chapter 31:'\u001b[0m\u001b[1m]\u001b[0m.\n"
      ]
     },
     "metadata": {},
     "output_type": "display_data"
    },
    {
     "name": "stderr",
     "output_type": "stream",
     "text": [
      "Parsing Thread The Last Angel:  56%|#####6    | 31/55 [00:40<00:33,  1.38s/it]"
     ]
    },
    {
     "data": {
      "text/html": [
       "<pre style=\"white-space:pre;overflow-x:auto;line-height:normal;font-family:Menlo,'DejaVu Sans Mono',consolas,'Courier New',monospace\">Titles Found: <span style=\"font-weight: bold\">[</span><span style=\"color: #008000; text-decoration-color: #008000\">'Chapter 32:'</span><span style=\"font-weight: bold\">]</span>.\n",
       "</pre>\n"
      ],
      "text/plain": [
       "Titles Found: \u001b[1m[\u001b[0m\u001b[32m'Chapter 32:'\u001b[0m\u001b[1m]\u001b[0m.\n"
      ]
     },
     "metadata": {},
     "output_type": "display_data"
    },
    {
     "name": "stderr",
     "output_type": "stream",
     "text": [
      "Parsing Thread The Last Angel:  58%|#####8    | 32/55 [00:41<00:29,  1.30s/it]"
     ]
    },
    {
     "data": {
      "text/html": [
       "<pre style=\"white-space:pre;overflow-x:auto;line-height:normal;font-family:Menlo,'DejaVu Sans Mono',consolas,'Courier New',monospace\">Titles Found: <span style=\"font-weight: bold\">[</span><span style=\"color: #008000; text-decoration-color: #008000\">'Chapter 33:'</span>, <span style=\"color: #008000; text-decoration-color: #008000\">'Interlude: Encounter 023 [Confirmed Incident]'</span><span style=\"font-weight: bold\">]</span>.\n",
       "</pre>\n"
      ],
      "text/plain": [
       "Titles Found: \u001b[1m[\u001b[0m\u001b[32m'Chapter 33:'\u001b[0m, \u001b[32m'Interlude: Encounter 023 \u001b[0m\u001b[32m[\u001b[0m\u001b[32mConfirmed Incident\u001b[0m\u001b[32m]\u001b[0m\u001b[32m'\u001b[0m\u001b[1m]\u001b[0m.\n"
      ]
     },
     "metadata": {},
     "output_type": "display_data"
    },
    {
     "name": "stderr",
     "output_type": "stream",
     "text": [
      "Parsing Thread The Last Angel:  60%|######    | 33/55 [00:42<00:26,  1.22s/it]"
     ]
    },
    {
     "data": {
      "text/html": [
       "<pre style=\"white-space:pre;overflow-x:auto;line-height:normal;font-family:Menlo,'DejaVu Sans Mono',consolas,'Courier New',monospace\">Titles Found: <span style=\"font-weight: bold\">[</span><span style=\"color: #008000; text-decoration-color: #008000\">'Chapter 34:'</span><span style=\"font-weight: bold\">]</span>.\n",
       "</pre>\n"
      ],
      "text/plain": [
       "Titles Found: \u001b[1m[\u001b[0m\u001b[32m'Chapter 34:'\u001b[0m\u001b[1m]\u001b[0m.\n"
      ]
     },
     "metadata": {},
     "output_type": "display_data"
    },
    {
     "name": "stderr",
     "output_type": "stream",
     "text": [
      "Parsing Thread The Last Angel:  62%|######1   | 34/55 [00:44<00:28,  1.35s/it]"
     ]
    },
    {
     "data": {
      "text/html": [
       "<pre style=\"white-space:pre;overflow-x:auto;line-height:normal;font-family:Menlo,'DejaVu Sans Mono',consolas,'Courier New',monospace\">Titles Found: <span style=\"font-weight: bold\">[</span><span style=\"color: #008000; text-decoration-color: #008000\">'Chapter 35:'</span><span style=\"font-weight: bold\">]</span>.\n",
       "</pre>\n"
      ],
      "text/plain": [
       "Titles Found: \u001b[1m[\u001b[0m\u001b[32m'Chapter 35:'\u001b[0m\u001b[1m]\u001b[0m.\n"
      ]
     },
     "metadata": {},
     "output_type": "display_data"
    },
    {
     "name": "stderr",
     "output_type": "stream",
     "text": [
      "Parsing Thread The Last Angel:  64%|######3   | 35/55 [00:45<00:24,  1.24s/it]"
     ]
    },
    {
     "data": {
      "text/html": [
       "<pre style=\"white-space:pre;overflow-x:auto;line-height:normal;font-family:Menlo,'DejaVu Sans Mono',consolas,'Courier New',monospace\">Titles Found: <span style=\"font-weight: bold\">[</span><span style=\"color: #008000; text-decoration-color: #008000\">'Chapter 36:'</span>, <span style=\"color: #008000; text-decoration-color: #008000\">'Interrupt: Version 1.1'</span><span style=\"font-weight: bold\">]</span>.\n",
       "</pre>\n"
      ],
      "text/plain": [
       "Titles Found: \u001b[1m[\u001b[0m\u001b[32m'Chapter 36:'\u001b[0m, \u001b[32m'Interrupt: Version 1.1'\u001b[0m\u001b[1m]\u001b[0m.\n"
      ]
     },
     "metadata": {},
     "output_type": "display_data"
    },
    {
     "name": "stderr",
     "output_type": "stream",
     "text": [
      "Parsing Thread The Last Angel:  65%|######5   | 36/55 [00:46<00:23,  1.23s/it]"
     ]
    },
    {
     "data": {
      "text/html": [
       "<pre style=\"white-space:pre;overflow-x:auto;line-height:normal;font-family:Menlo,'DejaVu Sans Mono',consolas,'Courier New',monospace\">Titles Found: <span style=\"font-weight: bold\">[</span><span style=\"color: #008000; text-decoration-color: #008000\">'Chapter 37:'</span><span style=\"font-weight: bold\">]</span>.\n",
       "</pre>\n"
      ],
      "text/plain": [
       "Titles Found: \u001b[1m[\u001b[0m\u001b[32m'Chapter 37:'\u001b[0m\u001b[1m]\u001b[0m.\n"
      ]
     },
     "metadata": {},
     "output_type": "display_data"
    },
    {
     "name": "stderr",
     "output_type": "stream",
     "text": [
      "Parsing Thread The Last Angel:  67%|######7   | 37/55 [00:47<00:22,  1.24s/it]"
     ]
    },
    {
     "data": {
      "text/html": [
       "<pre style=\"white-space:pre;overflow-x:auto;line-height:normal;font-family:Menlo,'DejaVu Sans Mono',consolas,'Courier New',monospace\">Titles Found: <span style=\"font-weight: bold\">[</span><span style=\"color: #008000; text-decoration-color: #008000\">'Chapter 38:'</span>, <span style=\"color: #008000; text-decoration-color: #008000\">'Interrupt: Version 2.5'</span><span style=\"font-weight: bold\">]</span>.\n",
       "</pre>\n"
      ],
      "text/plain": [
       "Titles Found: \u001b[1m[\u001b[0m\u001b[32m'Chapter 38:'\u001b[0m, \u001b[32m'Interrupt: Version 2.5'\u001b[0m\u001b[1m]\u001b[0m.\n"
      ]
     },
     "metadata": {},
     "output_type": "display_data"
    },
    {
     "name": "stderr",
     "output_type": "stream",
     "text": [
      "Parsing Thread The Last Angel:  69%|######9   | 38/55 [00:49<00:22,  1.30s/it]"
     ]
    },
    {
     "data": {
      "text/html": [
       "<pre style=\"white-space:pre;overflow-x:auto;line-height:normal;font-family:Menlo,'DejaVu Sans Mono',consolas,'Courier New',monospace\">Titles Found: <span style=\"font-weight: bold\">[</span><span style=\"color: #008000; text-decoration-color: #008000\">'Chapter 39:'</span>, <span style=\"color: #008000; text-decoration-color: #008000\">'Interrupt: Version 2.1'</span><span style=\"font-weight: bold\">]</span>.\n",
       "</pre>\n"
      ],
      "text/plain": [
       "Titles Found: \u001b[1m[\u001b[0m\u001b[32m'Chapter 39:'\u001b[0m, \u001b[32m'Interrupt: Version 2.1'\u001b[0m\u001b[1m]\u001b[0m.\n"
      ]
     },
     "metadata": {},
     "output_type": "display_data"
    },
    {
     "name": "stderr",
     "output_type": "stream",
     "text": [
      "Parsing Thread The Last Angel:  71%|#######   | 39/55 [00:50<00:22,  1.38s/it]"
     ]
    },
    {
     "data": {
      "text/html": [
       "<pre style=\"white-space:pre;overflow-x:auto;line-height:normal;font-family:Menlo,'DejaVu Sans Mono',consolas,'Courier New',monospace\">Titles Found: <span style=\"font-weight: bold\">[</span><span style=\"color: #008000; text-decoration-color: #008000\">'Chapter 40:'</span><span style=\"font-weight: bold\">]</span>.\n",
       "</pre>\n"
      ],
      "text/plain": [
       "Titles Found: \u001b[1m[\u001b[0m\u001b[32m'Chapter 40:'\u001b[0m\u001b[1m]\u001b[0m.\n"
      ]
     },
     "metadata": {},
     "output_type": "display_data"
    },
    {
     "name": "stderr",
     "output_type": "stream",
     "text": [
      "Parsing Thread The Last Angel:  73%|#######2  | 40/55 [00:52<00:22,  1.48s/it]"
     ]
    },
    {
     "data": {
      "text/html": [
       "<pre style=\"white-space:pre;overflow-x:auto;line-height:normal;font-family:Menlo,'DejaVu Sans Mono',consolas,'Courier New',monospace\">Titles Found: <span style=\"font-weight: bold\">[</span><span style=\"color: #008000; text-decoration-color: #008000\">'Chapter 41:'</span><span style=\"font-weight: bold\">]</span>.\n",
       "</pre>\n"
      ],
      "text/plain": [
       "Titles Found: \u001b[1m[\u001b[0m\u001b[32m'Chapter 41:'\u001b[0m\u001b[1m]\u001b[0m.\n"
      ]
     },
     "metadata": {},
     "output_type": "display_data"
    },
    {
     "name": "stderr",
     "output_type": "stream",
     "text": [
      "Parsing Thread The Last Angel:  75%|#######4  | 41/55 [00:53<00:18,  1.33s/it]"
     ]
    },
    {
     "data": {
      "text/html": [
       "<pre style=\"white-space:pre;overflow-x:auto;line-height:normal;font-family:Menlo,'DejaVu Sans Mono',consolas,'Courier New',monospace\">Titles Found: <span style=\"font-weight: bold\">[</span><span style=\"color: #008000; text-decoration-color: #008000\">'Chapter 42:'</span>, <span style=\"color: #008000; text-decoration-color: #008000\">'Interrupt: Version 3.6'</span><span style=\"font-weight: bold\">]</span>.\n",
       "</pre>\n"
      ],
      "text/plain": [
       "Titles Found: \u001b[1m[\u001b[0m\u001b[32m'Chapter 42:'\u001b[0m, \u001b[32m'Interrupt: Version 3.6'\u001b[0m\u001b[1m]\u001b[0m.\n"
      ]
     },
     "metadata": {},
     "output_type": "display_data"
    },
    {
     "name": "stderr",
     "output_type": "stream",
     "text": [
      "Parsing Thread The Last Angel:  76%|#######6  | 42/55 [00:54<00:16,  1.24s/it]"
     ]
    },
    {
     "data": {
      "text/html": [
       "<pre style=\"white-space:pre;overflow-x:auto;line-height:normal;font-family:Menlo,'DejaVu Sans Mono',consolas,'Courier New',monospace\">Titles Found: <span style=\"font-weight: bold\">[</span><span style=\"color: #008000; text-decoration-color: #008000\">'Chapter 43:'</span>, <span style=\"color: #008000; text-decoration-color: #008000\">'Interrupt: Version 1.2'</span><span style=\"font-weight: bold\">]</span>.\n",
       "</pre>\n"
      ],
      "text/plain": [
       "Titles Found: \u001b[1m[\u001b[0m\u001b[32m'Chapter 43:'\u001b[0m, \u001b[32m'Interrupt: Version 1.2'\u001b[0m\u001b[1m]\u001b[0m.\n"
      ]
     },
     "metadata": {},
     "output_type": "display_data"
    },
    {
     "name": "stderr",
     "output_type": "stream",
     "text": [
      "Parsing Thread The Last Angel:  78%|#######8  | 43/55 [00:55<00:15,  1.26s/it]"
     ]
    },
    {
     "data": {
      "text/html": [
       "<pre style=\"white-space:pre;overflow-x:auto;line-height:normal;font-family:Menlo,'DejaVu Sans Mono',consolas,'Courier New',monospace\">Titles Found: <span style=\"font-weight: bold\">[</span><span style=\"color: #008000; text-decoration-color: #008000\">'Chapter 44:'</span><span style=\"font-weight: bold\">]</span>.\n",
       "</pre>\n"
      ],
      "text/plain": [
       "Titles Found: \u001b[1m[\u001b[0m\u001b[32m'Chapter 44:'\u001b[0m\u001b[1m]\u001b[0m.\n"
      ]
     },
     "metadata": {},
     "output_type": "display_data"
    },
    {
     "name": "stderr",
     "output_type": "stream",
     "text": [
      "Parsing Thread The Last Angel:  80%|########  | 44/55 [00:57<00:14,  1.30s/it]"
     ]
    },
    {
     "data": {
      "text/html": [
       "<pre style=\"white-space:pre;overflow-x:auto;line-height:normal;font-family:Menlo,'DejaVu Sans Mono',consolas,'Courier New',monospace\">Titles Found: <span style=\"font-weight: bold\">[</span><span style=\"color: #008000; text-decoration-color: #008000\">'Chapter 45:'</span><span style=\"font-weight: bold\">]</span>.\n",
       "</pre>\n"
      ],
      "text/plain": [
       "Titles Found: \u001b[1m[\u001b[0m\u001b[32m'Chapter 45:'\u001b[0m\u001b[1m]\u001b[0m.\n"
      ]
     },
     "metadata": {},
     "output_type": "display_data"
    },
    {
     "name": "stderr",
     "output_type": "stream",
     "text": [
      "Parsing Thread The Last Angel:  82%|########1 | 45/55 [00:58<00:12,  1.26s/it]"
     ]
    },
    {
     "data": {
      "text/html": [
       "<pre style=\"white-space:pre;overflow-x:auto;line-height:normal;font-family:Menlo,'DejaVu Sans Mono',consolas,'Courier New',monospace\">Titles Found: <span style=\"font-weight: bold\">[</span><span style=\"color: #008000; text-decoration-color: #008000\">'  \\nChapter 46:'</span>, <span style=\"color: #008000; text-decoration-color: #008000\">'Interrupt: Version 1.2.1'</span><span style=\"font-weight: bold\">]</span>.\n",
       "</pre>\n"
      ],
      "text/plain": [
       "Titles Found: \u001b[1m[\u001b[0m\u001b[32m'  \\nChapter 46:'\u001b[0m, \u001b[32m'Interrupt: Version 1.2.1'\u001b[0m\u001b[1m]\u001b[0m.\n"
      ]
     },
     "metadata": {},
     "output_type": "display_data"
    },
    {
     "name": "stderr",
     "output_type": "stream",
     "text": [
      "Parsing Thread The Last Angel:  84%|########3 | 46/55 [00:59<00:12,  1.36s/it]"
     ]
    },
    {
     "data": {
      "text/html": [
       "<pre style=\"white-space:pre;overflow-x:auto;line-height:normal;font-family:Menlo,'DejaVu Sans Mono',consolas,'Courier New',monospace\">Titles Found: <span style=\"font-weight: bold\">[</span><span style=\"color: #008000; text-decoration-color: #008000\">'Chapter 47:'</span><span style=\"font-weight: bold\">]</span>.\n",
       "</pre>\n"
      ],
      "text/plain": [
       "Titles Found: \u001b[1m[\u001b[0m\u001b[32m'Chapter 47:'\u001b[0m\u001b[1m]\u001b[0m.\n"
      ]
     },
     "metadata": {},
     "output_type": "display_data"
    },
    {
     "name": "stderr",
     "output_type": "stream",
     "text": [
      "Parsing Thread The Last Angel:  85%|########5 | 47/55 [01:01<00:11,  1.39s/it]"
     ]
    },
    {
     "data": {
      "text/html": [
       "<pre style=\"white-space:pre;overflow-x:auto;line-height:normal;font-family:Menlo,'DejaVu Sans Mono',consolas,'Courier New',monospace\">Titles Found: <span style=\"font-weight: bold\">[</span><span style=\"color: #008000; text-decoration-color: #008000\">'Chapter 48:'</span><span style=\"font-weight: bold\">]</span>.\n",
       "</pre>\n"
      ],
      "text/plain": [
       "Titles Found: \u001b[1m[\u001b[0m\u001b[32m'Chapter 48:'\u001b[0m\u001b[1m]\u001b[0m.\n"
      ]
     },
     "metadata": {},
     "output_type": "display_data"
    },
    {
     "name": "stderr",
     "output_type": "stream",
     "text": [
      "Parsing Thread The Last Angel:  87%|########7 | 48/55 [01:02<00:10,  1.45s/it]"
     ]
    },
    {
     "data": {
      "text/html": [
       "<pre style=\"white-space:pre;overflow-x:auto;line-height:normal;font-family:Menlo,'DejaVu Sans Mono',consolas,'Courier New',monospace\">Titles Found: <span style=\"font-weight: bold\">[</span><span style=\"color: #008000; text-decoration-color: #008000\">'Chapter 49:'</span>, <span style=\"color: #008000; text-decoration-color: #008000\">'Chapter 50:'</span>, <span style=\"color: #008000; text-decoration-color: #008000\">'Epilogue:'</span><span style=\"font-weight: bold\">]</span>.\n",
       "</pre>\n"
      ],
      "text/plain": [
       "Titles Found: \u001b[1m[\u001b[0m\u001b[32m'Chapter 49:'\u001b[0m, \u001b[32m'Chapter 50:'\u001b[0m, \u001b[32m'Epilogue:'\u001b[0m\u001b[1m]\u001b[0m.\n"
      ]
     },
     "metadata": {},
     "output_type": "display_data"
    },
    {
     "name": "stderr",
     "output_type": "stream",
     "text": [
      "Parsing Thread The Last Angel:  89%|########9 | 49/55 [01:04<00:09,  1.52s/it]"
     ]
    },
    {
     "data": {
      "text/html": [
       "<pre style=\"white-space:pre;overflow-x:auto;line-height:normal;font-family:Menlo,'DejaVu Sans Mono',consolas,'Courier New',monospace\">Titles Found: <span style=\"font-weight: bold\">[</span><span style=\"color: #008000; text-decoration-color: #008000\">\"The Last Angel: The Angel's Fire\"</span><span style=\"font-weight: bold\">]</span>.\n",
       "</pre>\n"
      ],
      "text/plain": [
       "Titles Found: \u001b[1m[\u001b[0m\u001b[32m\"The Last Angel: The Angel's Fire\"\u001b[0m\u001b[1m]\u001b[0m.\n"
      ]
     },
     "metadata": {},
     "output_type": "display_data"
    },
    {
     "name": "stderr",
     "output_type": "stream",
     "text": [
      "Parsing Thread The Last Angel:  91%|######### | 50/55 [01:05<00:07,  1.40s/it]"
     ]
    },
    {
     "data": {
      "text/html": [
       "<pre style=\"white-space:pre;overflow-x:auto;line-height:normal;font-family:Menlo,'DejaVu Sans Mono',consolas,'Courier New',monospace\">Titles Found: <span style=\"font-weight: bold\">[</span><span style=\"color: #008000; text-decoration-color: #008000\">'Pt 2: '</span><span style=\"font-weight: bold\">]</span>.\n",
       "</pre>\n"
      ],
      "text/plain": [
       "Titles Found: \u001b[1m[\u001b[0m\u001b[32m'Pt 2: '\u001b[0m\u001b[1m]\u001b[0m.\n"
      ]
     },
     "metadata": {},
     "output_type": "display_data"
    },
    {
     "name": "stderr",
     "output_type": "stream",
     "text": [
      "Parsing Thread The Last Angel:  93%|#########2| 51/55 [01:07<00:05,  1.43s/it]"
     ]
    },
    {
     "data": {
      "text/html": [
       "<pre style=\"white-space:pre;overflow-x:auto;line-height:normal;font-family:Menlo,'DejaVu Sans Mono',consolas,'Courier New',monospace\">Titles Found: <span style=\"font-weight: bold\">[</span><span style=\"color: #008000; text-decoration-color: #008000\">\"The Angel's Fire \"</span><span style=\"font-weight: bold\">]</span>.\n",
       "</pre>\n"
      ],
      "text/plain": [
       "Titles Found: \u001b[1m[\u001b[0m\u001b[32m\"The Angel's Fire \"\u001b[0m\u001b[1m]\u001b[0m.\n"
      ]
     },
     "metadata": {},
     "output_type": "display_data"
    },
    {
     "name": "stderr",
     "output_type": "stream",
     "text": [
      "Parsing Thread The Last Angel:  95%|#########4| 52/55 [01:08<00:04,  1.35s/it]"
     ]
    },
    {
     "data": {
      "text/html": [
       "<pre style=\"white-space:pre;overflow-x:auto;line-height:normal;font-family:Menlo,'DejaVu Sans Mono',consolas,'Courier New',monospace\">Titles Found: <span style=\"font-weight: bold\">[</span><span style=\"color: #008000; text-decoration-color: #008000\">'Pt. 4: Inferno'</span><span style=\"font-weight: bold\">]</span>.\n",
       "</pre>\n"
      ],
      "text/plain": [
       "Titles Found: \u001b[1m[\u001b[0m\u001b[32m'Pt. 4: Inferno'\u001b[0m\u001b[1m]\u001b[0m.\n"
      ]
     },
     "metadata": {},
     "output_type": "display_data"
    },
    {
     "name": "stderr",
     "output_type": "stream",
     "text": [
      "Parsing Thread The Last Angel:  96%|#########6| 53/55 [01:09<00:02,  1.23s/it]"
     ]
    },
    {
     "data": {
      "text/html": [
       "<pre style=\"white-space:pre;overflow-x:auto;line-height:normal;font-family:Menlo,'DejaVu Sans Mono',consolas,'Courier New',monospace\">Titles Found: <span style=\"font-weight: bold\">[</span><span style=\"color: #008000; text-decoration-color: #008000\">'Pt. 5: Ashes'</span><span style=\"font-weight: bold\">]</span>.\n",
       "</pre>\n"
      ],
      "text/plain": [
       "Titles Found: \u001b[1m[\u001b[0m\u001b[32m'Pt. 5: Ashes'\u001b[0m\u001b[1m]\u001b[0m.\n"
      ]
     },
     "metadata": {},
     "output_type": "display_data"
    },
    {
     "name": "stderr",
     "output_type": "stream",
     "text": [
      "Parsing Thread The Last Angel:  98%|#########8| 54/55 [01:10<00:01,  1.28s/it]"
     ]
    },
    {
     "data": {
      "text/html": [
       "<pre style=\"white-space:pre;overflow-x:auto;line-height:normal;font-family:Menlo,'DejaVu Sans Mono',consolas,'Courier New',monospace\">Titles Found: <span style=\"font-weight: bold\">[</span><span style=\"color: #008000; text-decoration-color: #008000\">'Pt. 6: Backdraft'</span><span style=\"font-weight: bold\">]</span>.\n",
       "</pre>\n"
      ],
      "text/plain": [
       "Titles Found: \u001b[1m[\u001b[0m\u001b[32m'Pt. 6: Backdraft'\u001b[0m\u001b[1m]\u001b[0m.\n"
      ]
     },
     "metadata": {},
     "output_type": "display_data"
    },
    {
     "name": "stderr",
     "output_type": "stream",
     "text": [
      "Parsing Thread The Last Angel: 100%|##########| 55/55 [01:11<00:00,  1.31s/it]\n",
      "Parsing Thread The Last Angel: Ascension:   0%|          | 0/92 [00:00<?, ?it/s]"
     ]
    },
    {
     "data": {
      "text/html": [
       "<pre style=\"white-space:pre;overflow-x:auto;line-height:normal;font-family:Menlo,'DejaVu Sans Mono',consolas,'Courier New',monospace\">Titles Found: <span style=\"font-weight: bold\">[</span><span style=\"color: #008000; text-decoration-color: #008000\">'_Short stories:_'</span>, <span style=\"color: #008000; text-decoration-color: #008000\">'Prologue'</span>, <span style=\"color: #008000; text-decoration-color: #008000\">'Chapter 1:'</span><span style=\"font-weight: bold\">]</span>.\n",
       "</pre>\n"
      ],
      "text/plain": [
       "Titles Found: \u001b[1m[\u001b[0m\u001b[32m'_Short stories:_'\u001b[0m, \u001b[32m'Prologue'\u001b[0m, \u001b[32m'Chapter 1:'\u001b[0m\u001b[1m]\u001b[0m.\n"
      ]
     },
     "metadata": {},
     "output_type": "display_data"
    },
    {
     "name": "stderr",
     "output_type": "stream",
     "text": [
      "Parsing Thread The Last Angel: Ascension:   1%|1         | 1/92 [00:01<02:25,  1.60s/it]"
     ]
    },
    {
     "data": {
      "text/html": [
       "<pre style=\"white-space:pre;overflow-x:auto;line-height:normal;font-family:Menlo,'DejaVu Sans Mono',consolas,'Courier New',monospace\">Titles Found: <span style=\"font-weight: bold\">[</span><span style=\"color: #008000; text-decoration-color: #008000\">'Chapter 2:'</span>, <span style=\"color: #008000; text-decoration-color: #008000\">'Interregnum: Acquisition'</span><span style=\"font-weight: bold\">]</span>.\n",
       "</pre>\n"
      ],
      "text/plain": [
       "Titles Found: \u001b[1m[\u001b[0m\u001b[32m'Chapter 2:'\u001b[0m, \u001b[32m'Interregnum: Acquisition'\u001b[0m\u001b[1m]\u001b[0m.\n"
      ]
     },
     "metadata": {},
     "output_type": "display_data"
    },
    {
     "name": "stderr",
     "output_type": "stream",
     "text": [
      "Parsing Thread The Last Angel: Ascension:   2%|2         | 2/92 [00:03<02:21,  1.57s/it]"
     ]
    },
    {
     "data": {
      "text/html": [
       "<pre style=\"white-space:pre;overflow-x:auto;line-height:normal;font-family:Menlo,'DejaVu Sans Mono',consolas,'Courier New',monospace\">Titles Found: <span style=\"font-weight: bold\">[</span><span style=\"color: #008000; text-decoration-color: #008000\">'One Rule:'</span><span style=\"font-weight: bold\">]</span>.\n",
       "</pre>\n"
      ],
      "text/plain": [
       "Titles Found: \u001b[1m[\u001b[0m\u001b[32m'One Rule:'\u001b[0m\u001b[1m]\u001b[0m.\n"
      ]
     },
     "metadata": {},
     "output_type": "display_data"
    },
    {
     "name": "stderr",
     "output_type": "stream",
     "text": [
      "Parsing Thread The Last Angel: Ascension:   3%|3         | 3/92 [00:04<01:57,  1.32s/it]"
     ]
    },
    {
     "data": {
      "text/html": [
       "<pre style=\"white-space:pre;overflow-x:auto;line-height:normal;font-family:Menlo,'DejaVu Sans Mono',consolas,'Courier New',monospace\">Titles Found: <span style=\"font-weight: bold\">[</span><span style=\"color: #008000; text-decoration-color: #008000\">'With Honour:'</span><span style=\"font-weight: bold\">]</span>.\n",
       "</pre>\n"
      ],
      "text/plain": [
       "Titles Found: \u001b[1m[\u001b[0m\u001b[32m'With Honour:'\u001b[0m\u001b[1m]\u001b[0m.\n"
      ]
     },
     "metadata": {},
     "output_type": "display_data"
    },
    {
     "name": "stderr",
     "output_type": "stream",
     "text": [
      "Parsing Thread The Last Angel: Ascension:   4%|4         | 4/92 [00:05<01:51,  1.27s/it]"
     ]
    },
    {
     "data": {
      "text/html": [
       "<pre style=\"white-space:pre;overflow-x:auto;line-height:normal;font-family:Menlo,'DejaVu Sans Mono',consolas,'Courier New',monospace\">Titles Found: <span style=\"font-weight: bold\">[</span><span style=\"color: #008000; text-decoration-color: #008000\">'  \\nChapter 3:'</span><span style=\"font-weight: bold\">]</span>.\n",
       "</pre>\n"
      ],
      "text/plain": [
       "Titles Found: \u001b[1m[\u001b[0m\u001b[32m'  \\nChapter 3:'\u001b[0m\u001b[1m]\u001b[0m.\n"
      ]
     },
     "metadata": {},
     "output_type": "display_data"
    },
    {
     "name": "stderr",
     "output_type": "stream",
     "text": [
      "Parsing Thread The Last Angel: Ascension:   5%|5         | 5/92 [00:06<02:01,  1.39s/it]"
     ]
    },
    {
     "data": {
      "text/html": [
       "<pre style=\"white-space:pre;overflow-x:auto;line-height:normal;font-family:Menlo,'DejaVu Sans Mono',consolas,'Courier New',monospace\">Titles Found: <span style=\"font-weight: bold\">[</span><span style=\"color: #008000; text-decoration-color: #008000\">'Chapter 4:'</span>, <span style=\"color: #008000; text-decoration-color: #008000\">'~'</span><span style=\"font-weight: bold\">]</span>.\n",
       "</pre>\n"
      ],
      "text/plain": [
       "Titles Found: \u001b[1m[\u001b[0m\u001b[32m'Chapter 4:'\u001b[0m, \u001b[32m'~'\u001b[0m\u001b[1m]\u001b[0m.\n"
      ]
     },
     "metadata": {},
     "output_type": "display_data"
    },
    {
     "name": "stderr",
     "output_type": "stream",
     "text": [
      "Parsing Thread The Last Angel: Ascension:   7%|6         | 6/92 [00:08<02:06,  1.47s/it]"
     ]
    },
    {
     "data": {
      "text/html": [
       "<pre style=\"white-space:pre;overflow-x:auto;line-height:normal;font-family:Menlo,'DejaVu Sans Mono',consolas,'Courier New',monospace\">Titles Found: <span style=\"font-weight: bold\">[</span><span style=\"color: #008000; text-decoration-color: #008000\">'Chapter 5:'</span>, <span style=\"color: #008000; text-decoration-color: #008000\">'Interregnum: Interrogation'</span><span style=\"font-weight: bold\">]</span>.\n",
       "</pre>\n"
      ],
      "text/plain": [
       "Titles Found: \u001b[1m[\u001b[0m\u001b[32m'Chapter 5:'\u001b[0m, \u001b[32m'Interregnum: Interrogation'\u001b[0m\u001b[1m]\u001b[0m.\n"
      ]
     },
     "metadata": {},
     "output_type": "display_data"
    },
    {
     "name": "stderr",
     "output_type": "stream",
     "text": [
      "Parsing Thread The Last Angel: Ascension:   8%|7         | 7/92 [00:09<01:56,  1.37s/it]"
     ]
    },
    {
     "data": {
      "text/html": [
       "<pre style=\"white-space:pre;overflow-x:auto;line-height:normal;font-family:Menlo,'DejaVu Sans Mono',consolas,'Courier New',monospace\">Titles Found: <span style=\"font-weight: bold\">[</span><span style=\"color: #008000; text-decoration-color: #008000\">'Snow:'</span><span style=\"font-weight: bold\">]</span>.\n",
       "</pre>\n"
      ],
      "text/plain": [
       "Titles Found: \u001b[1m[\u001b[0m\u001b[32m'Snow:'\u001b[0m\u001b[1m]\u001b[0m.\n"
      ]
     },
     "metadata": {},
     "output_type": "display_data"
    },
    {
     "name": "stderr",
     "output_type": "stream",
     "text": [
      "Parsing Thread The Last Angel: Ascension:   9%|8         | 8/92 [00:10<01:47,  1.28s/it]"
     ]
    },
    {
     "data": {
      "text/html": [
       "<pre style=\"white-space:pre;overflow-x:auto;line-height:normal;font-family:Menlo,'DejaVu Sans Mono',consolas,'Courier New',monospace\">Titles Found: <span style=\"font-weight: bold\">[</span><span style=\"color: #008000; text-decoration-color: #008000\">'Chapter 6:'</span><span style=\"font-weight: bold\">]</span>.\n",
       "</pre>\n"
      ],
      "text/plain": [
       "Titles Found: \u001b[1m[\u001b[0m\u001b[32m'Chapter 6:'\u001b[0m\u001b[1m]\u001b[0m.\n"
      ]
     },
     "metadata": {},
     "output_type": "display_data"
    },
    {
     "name": "stderr",
     "output_type": "stream",
     "text": [
      "Parsing Thread The Last Angel: Ascension:  10%|9         | 9/92 [00:12<01:57,  1.42s/it]"
     ]
    },
    {
     "data": {
      "text/html": [
       "<pre style=\"white-space:pre;overflow-x:auto;line-height:normal;font-family:Menlo,'DejaVu Sans Mono',consolas,'Courier New',monospace\">Titles Found: <span style=\"font-weight: bold\">[</span><span style=\"color: #008000; text-decoration-color: #008000\">'Test Run:'</span><span style=\"font-weight: bold\">]</span>.\n",
       "</pre>\n"
      ],
      "text/plain": [
       "Titles Found: \u001b[1m[\u001b[0m\u001b[32m'Test Run:'\u001b[0m\u001b[1m]\u001b[0m.\n"
      ]
     },
     "metadata": {},
     "output_type": "display_data"
    },
    {
     "name": "stderr",
     "output_type": "stream",
     "text": [
      "Parsing Thread The Last Angel: Ascension:  11%|#         | 10/92 [00:13<01:46,  1.29s/it]"
     ]
    },
    {
     "data": {
      "text/html": [
       "<pre style=\"white-space:pre;overflow-x:auto;line-height:normal;font-family:Menlo,'DejaVu Sans Mono',consolas,'Courier New',monospace\">Titles Found: <span style=\"font-weight: bold\">[</span><span style=\"color: #008000; text-decoration-color: #008000\">'  \\nChapter 7:'</span>, <span style=\"color: #008000; text-decoration-color: #008000\">'Interregnum: Excoriation'</span><span style=\"font-weight: bold\">]</span>.\n",
       "</pre>\n"
      ],
      "text/plain": [
       "Titles Found: \u001b[1m[\u001b[0m\u001b[32m'  \\nChapter 7:'\u001b[0m, \u001b[32m'Interregnum: Excoriation'\u001b[0m\u001b[1m]\u001b[0m.\n"
      ]
     },
     "metadata": {},
     "output_type": "display_data"
    },
    {
     "name": "stderr",
     "output_type": "stream",
     "text": [
      "Parsing Thread The Last Angel: Ascension:  12%|#1        | 11/92 [00:14<01:36,  1.20s/it]"
     ]
    },
    {
     "data": {
      "text/html": [
       "<pre style=\"white-space:pre;overflow-x:auto;line-height:normal;font-family:Menlo,'DejaVu Sans Mono',consolas,'Courier New',monospace\">Titles Found: <span style=\"font-weight: bold\">[</span><span style=\"color: #008000; text-decoration-color: #008000\">'Chapter 8:'</span><span style=\"font-weight: bold\">]</span>.\n",
       "</pre>\n"
      ],
      "text/plain": [
       "Titles Found: \u001b[1m[\u001b[0m\u001b[32m'Chapter 8:'\u001b[0m\u001b[1m]\u001b[0m.\n"
      ]
     },
     "metadata": {},
     "output_type": "display_data"
    },
    {
     "name": "stderr",
     "output_type": "stream",
     "text": [
      "Parsing Thread The Last Angel: Ascension:  13%|#3        | 12/92 [00:15<01:38,  1.23s/it]"
     ]
    },
    {
     "data": {
      "text/html": [
       "<pre style=\"white-space:pre;overflow-x:auto;line-height:normal;font-family:Menlo,'DejaVu Sans Mono',consolas,'Courier New',monospace\">Titles Found: <span style=\"font-weight: bold\">[</span><span style=\"color: #008000; text-decoration-color: #008000\">'Chapter 9:'</span><span style=\"font-weight: bold\">]</span>.\n",
       "</pre>\n"
      ],
      "text/plain": [
       "Titles Found: \u001b[1m[\u001b[0m\u001b[32m'Chapter 9:'\u001b[0m\u001b[1m]\u001b[0m.\n"
      ]
     },
     "metadata": {},
     "output_type": "display_data"
    },
    {
     "name": "stderr",
     "output_type": "stream",
     "text": [
      "Parsing Thread The Last Angel: Ascension:  14%|#4        | 13/92 [00:17<01:41,  1.28s/it]"
     ]
    },
    {
     "data": {
      "text/html": [
       "<pre style=\"white-space:pre;overflow-x:auto;line-height:normal;font-family:Menlo,'DejaVu Sans Mono',consolas,'Courier New',monospace\">Titles Found: <span style=\"font-weight: bold\">[</span><span style=\"color: #008000; text-decoration-color: #008000\">'Chapter 10:'</span>, <span style=\"color: #008000; text-decoration-color: #008000\">'Interregnum: Visitation'</span><span style=\"font-weight: bold\">]</span>.\n",
       "</pre>\n"
      ],
      "text/plain": [
       "Titles Found: \u001b[1m[\u001b[0m\u001b[32m'Chapter 10:'\u001b[0m, \u001b[32m'Interregnum: Visitation'\u001b[0m\u001b[1m]\u001b[0m.\n"
      ]
     },
     "metadata": {},
     "output_type": "display_data"
    },
    {
     "name": "stderr",
     "output_type": "stream",
     "text": [
      "Parsing Thread The Last Angel: Ascension:  15%|#5        | 14/92 [00:18<01:37,  1.25s/it]"
     ]
    },
    {
     "data": {
      "text/html": [
       "<pre style=\"white-space:pre;overflow-x:auto;line-height:normal;font-family:Menlo,'DejaVu Sans Mono',consolas,'Courier New',monospace\">Titles Found: <span style=\"font-weight: bold\">[</span><span style=\"color: #008000; text-decoration-color: #008000\">'Chapter 11:'</span><span style=\"font-weight: bold\">]</span>.\n",
       "</pre>\n"
      ],
      "text/plain": [
       "Titles Found: \u001b[1m[\u001b[0m\u001b[32m'Chapter 11:'\u001b[0m\u001b[1m]\u001b[0m.\n"
      ]
     },
     "metadata": {},
     "output_type": "display_data"
    },
    {
     "name": "stderr",
     "output_type": "stream",
     "text": [
      "Parsing Thread The Last Angel: Ascension:  16%|#6        | 15/92 [00:19<01:38,  1.28s/it]"
     ]
    },
    {
     "data": {
      "text/html": [
       "<pre style=\"white-space:pre;overflow-x:auto;line-height:normal;font-family:Menlo,'DejaVu Sans Mono',consolas,'Courier New',monospace\">Titles Found: <span style=\"font-weight: bold\">[</span><span style=\"color: #008000; text-decoration-color: #008000\">'  \\nChapter 12:'</span><span style=\"font-weight: bold\">]</span>.\n",
       "</pre>\n"
      ],
      "text/plain": [
       "Titles Found: \u001b[1m[\u001b[0m\u001b[32m'  \\nChapter 12:'\u001b[0m\u001b[1m]\u001b[0m.\n"
      ]
     },
     "metadata": {},
     "output_type": "display_data"
    },
    {
     "name": "stderr",
     "output_type": "stream",
     "text": [
      "Parsing Thread The Last Angel: Ascension:  17%|#7        | 16/92 [00:20<01:28,  1.17s/it]"
     ]
    },
    {
     "data": {
      "text/html": [
       "<pre style=\"white-space:pre;overflow-x:auto;line-height:normal;font-family:Menlo,'DejaVu Sans Mono',consolas,'Courier New',monospace\">Titles Found: <span style=\"font-weight: bold\">[</span><span style=\"color: #008000; text-decoration-color: #008000\">'Chapter 13:'</span>, <span style=\"color: #008000; text-decoration-color: #008000\">'Interregnum: Exploration'</span><span style=\"font-weight: bold\">]</span>.\n",
       "</pre>\n"
      ],
      "text/plain": [
       "Titles Found: \u001b[1m[\u001b[0m\u001b[32m'Chapter 13:'\u001b[0m, \u001b[32m'Interregnum: Exploration'\u001b[0m\u001b[1m]\u001b[0m.\n"
      ]
     },
     "metadata": {},
     "output_type": "display_data"
    },
    {
     "name": "stderr",
     "output_type": "stream",
     "text": [
      "Parsing Thread The Last Angel: Ascension:  18%|#8        | 17/92 [00:22<01:36,  1.28s/it]"
     ]
    },
    {
     "data": {
      "text/html": [
       "<pre style=\"white-space:pre;overflow-x:auto;line-height:normal;font-family:Menlo,'DejaVu Sans Mono',consolas,'Courier New',monospace\">Titles Found: <span style=\"font-weight: bold\">[</span><span style=\"color: #008000; text-decoration-color: #008000\">\"Hunter's Chorus\"</span><span style=\"font-weight: bold\">]</span>.\n",
       "</pre>\n"
      ],
      "text/plain": [
       "Titles Found: \u001b[1m[\u001b[0m\u001b[32m\"Hunter's Chorus\"\u001b[0m\u001b[1m]\u001b[0m.\n"
      ]
     },
     "metadata": {},
     "output_type": "display_data"
    },
    {
     "name": "stderr",
     "output_type": "stream",
     "text": [
      "Parsing Thread The Last Angel: Ascension:  20%|#9        | 18/92 [00:23<01:27,  1.18s/it]"
     ]
    },
    {
     "data": {
      "text/html": [
       "<pre style=\"white-space:pre;overflow-x:auto;line-height:normal;font-family:Menlo,'DejaVu Sans Mono',consolas,'Courier New',monospace\">Titles Found: <span style=\"font-weight: bold\">[</span><span style=\"color: #008000; text-decoration-color: #008000\">'Chapter 14:'</span><span style=\"font-weight: bold\">]</span>.\n",
       "</pre>\n"
      ],
      "text/plain": [
       "Titles Found: \u001b[1m[\u001b[0m\u001b[32m'Chapter 14:'\u001b[0m\u001b[1m]\u001b[0m.\n"
      ]
     },
     "metadata": {},
     "output_type": "display_data"
    },
    {
     "name": "stderr",
     "output_type": "stream",
     "text": [
      "Parsing Thread The Last Angel: Ascension:  21%|##        | 19/92 [00:24<01:37,  1.33s/it]"
     ]
    },
    {
     "data": {
      "text/html": [
       "<pre style=\"white-space:pre;overflow-x:auto;line-height:normal;font-family:Menlo,'DejaVu Sans Mono',consolas,'Courier New',monospace\">Titles Found: <span style=\"font-weight: bold\">[</span><span style=\"color: #008000; text-decoration-color: #008000\">'Chapter 15:'</span>, <span style=\"color: #008000; text-decoration-color: #008000\">'+Ostnahl'</span>, <span style=\"color: #008000; text-decoration-color: #008000\">'26:03:02:97'</span>, <span style=\"color: #008000; text-decoration-color: #008000\">'Ostsaln'</span>, <span style=\"color: #008000; text-decoration-color: #008000\">'02:47:11:96'</span>, <span style=\"color: #008000; text-decoration-color: #008000\">'03:86:33:17'</span>, <span style=\"color: #008000; text-decoration-color: #008000\">'04:92:12:77:'</span>, \n",
       "<span style=\"color: #008000; text-decoration-color: #008000\">'05:29:35:19'</span>, <span style=\"color: #008000; text-decoration-color: #008000\">'05:75:96:11'</span>, <span style=\"color: #008000; text-decoration-color: #008000\">'08:84:34:78'</span>, <span style=\"color: #008000; text-decoration-color: #008000\">'11:11:76:92'</span>, <span style=\"color: #008000; text-decoration-color: #008000\">'Ostkein'</span><span style=\"font-weight: bold\">]</span>.\n",
       "</pre>\n"
      ],
      "text/plain": [
       "Titles Found: \u001b[1m[\u001b[0m\u001b[32m'Chapter 15:'\u001b[0m, \u001b[32m'+Ostnahl'\u001b[0m, \u001b[32m'26:03:02:97'\u001b[0m, \u001b[32m'Ostsaln'\u001b[0m, \u001b[32m'02:47:11:96'\u001b[0m, \u001b[32m'03:86:33:17'\u001b[0m, \u001b[32m'04:92:12:77:'\u001b[0m, \n",
       "\u001b[32m'05:29:35:19'\u001b[0m, \u001b[32m'05:75:96:11'\u001b[0m, \u001b[32m'08:84:34:78'\u001b[0m, \u001b[32m'11:11:76:92'\u001b[0m, \u001b[32m'Ostkein'\u001b[0m\u001b[1m]\u001b[0m.\n"
      ]
     },
     "metadata": {},
     "output_type": "display_data"
    },
    {
     "name": "stderr",
     "output_type": "stream",
     "text": [
      "Parsing Thread The Last Angel: Ascension:  22%|##1       | 20/92 [00:26<01:32,  1.29s/it]"
     ]
    },
    {
     "data": {
      "text/html": [
       "<pre style=\"white-space:pre;overflow-x:auto;line-height:normal;font-family:Menlo,'DejaVu Sans Mono',consolas,'Courier New',monospace\">Titles Found: <span style=\"font-weight: bold\">[</span><span style=\"color: #008000; text-decoration-color: #008000\">'Chapter 16:'</span><span style=\"font-weight: bold\">]</span>.\n",
       "</pre>\n"
      ],
      "text/plain": [
       "Titles Found: \u001b[1m[\u001b[0m\u001b[32m'Chapter 16:'\u001b[0m\u001b[1m]\u001b[0m.\n"
      ]
     },
     "metadata": {},
     "output_type": "display_data"
    },
    {
     "name": "stderr",
     "output_type": "stream",
     "text": [
      "Parsing Thread The Last Angel: Ascension:  23%|##2       | 21/92 [00:27<01:29,  1.26s/it]"
     ]
    },
    {
     "data": {
      "text/html": [
       "<pre style=\"white-space:pre;overflow-x:auto;line-height:normal;font-family:Menlo,'DejaVu Sans Mono',consolas,'Courier New',monospace\">Titles Found: <span style=\"font-weight: bold\">[</span><span style=\"color: #008000; text-decoration-color: #008000\">'Chapter 17:'</span><span style=\"font-weight: bold\">]</span>.\n",
       "</pre>\n"
      ],
      "text/plain": [
       "Titles Found: \u001b[1m[\u001b[0m\u001b[32m'Chapter 17:'\u001b[0m\u001b[1m]\u001b[0m.\n"
      ]
     },
     "metadata": {},
     "output_type": "display_data"
    },
    {
     "name": "stderr",
     "output_type": "stream",
     "text": [
      "Parsing Thread The Last Angel: Ascension:  24%|##3       | 22/92 [00:28<01:27,  1.25s/it]"
     ]
    },
    {
     "data": {
      "text/html": [
       "<pre style=\"white-space:pre;overflow-x:auto;line-height:normal;font-family:Menlo,'DejaVu Sans Mono',consolas,'Courier New',monospace\">Titles Found: <span style=\"font-weight: bold\">[</span><span style=\"color: #008000; text-decoration-color: #008000\">'Chapter 18:'</span>, <span style=\"color: #008000; text-decoration-color: #008000\">'Interregnum: Relocation'</span><span style=\"font-weight: bold\">]</span>.\n",
       "</pre>\n"
      ],
      "text/plain": [
       "Titles Found: \u001b[1m[\u001b[0m\u001b[32m'Chapter 18:'\u001b[0m, \u001b[32m'Interregnum: Relocation'\u001b[0m\u001b[1m]\u001b[0m.\n"
      ]
     },
     "metadata": {},
     "output_type": "display_data"
    },
    {
     "name": "stderr",
     "output_type": "stream",
     "text": [
      "Parsing Thread The Last Angel: Ascension:  25%|##5       | 23/92 [00:29<01:22,  1.19s/it]"
     ]
    },
    {
     "data": {
      "text/html": [
       "<pre style=\"white-space:pre;overflow-x:auto;line-height:normal;font-family:Menlo,'DejaVu Sans Mono',consolas,'Courier New',monospace\">Titles Found: <span style=\"font-weight: bold\">[</span><span style=\"color: #008000; text-decoration-color: #008000\">'Chapter 19:'</span><span style=\"font-weight: bold\">]</span>.\n",
       "</pre>\n"
      ],
      "text/plain": [
       "Titles Found: \u001b[1m[\u001b[0m\u001b[32m'Chapter 19:'\u001b[0m\u001b[1m]\u001b[0m.\n"
      ]
     },
     "metadata": {},
     "output_type": "display_data"
    },
    {
     "name": "stderr",
     "output_type": "stream",
     "text": [
      "Parsing Thread The Last Angel: Ascension:  26%|##6       | 24/92 [00:30<01:20,  1.18s/it]"
     ]
    },
    {
     "data": {
      "text/html": [
       "<pre style=\"white-space:pre;overflow-x:auto;line-height:normal;font-family:Menlo,'DejaVu Sans Mono',consolas,'Courier New',monospace\">Titles Found: <span style=\"font-weight: bold\">[</span><span style=\"color: #008000; text-decoration-color: #008000\">'Chapter 20:'</span><span style=\"font-weight: bold\">]</span>.\n",
       "</pre>\n"
      ],
      "text/plain": [
       "Titles Found: \u001b[1m[\u001b[0m\u001b[32m'Chapter 20:'\u001b[0m\u001b[1m]\u001b[0m.\n"
      ]
     },
     "metadata": {},
     "output_type": "display_data"
    },
    {
     "name": "stderr",
     "output_type": "stream",
     "text": [
      "Parsing Thread The Last Angel: Ascension:  27%|##7       | 25/92 [00:32<01:26,  1.29s/it]"
     ]
    },
    {
     "data": {
      "text/html": [
       "<pre style=\"white-space:pre;overflow-x:auto;line-height:normal;font-family:Menlo,'DejaVu Sans Mono',consolas,'Courier New',monospace\">Titles Found: <span style=\"font-weight: bold\">[</span><span style=\"color: #008000; text-decoration-color: #008000\">'Chapter 21:'</span><span style=\"font-weight: bold\">]</span>.\n",
       "</pre>\n"
      ],
      "text/plain": [
       "Titles Found: \u001b[1m[\u001b[0m\u001b[32m'Chapter 21:'\u001b[0m\u001b[1m]\u001b[0m.\n"
      ]
     },
     "metadata": {},
     "output_type": "display_data"
    },
    {
     "name": "stderr",
     "output_type": "stream",
     "text": [
      "Parsing Thread The Last Angel: Ascension:  28%|##8       | 26/92 [00:33<01:20,  1.23s/it]"
     ]
    },
    {
     "data": {
      "text/html": [
       "<pre style=\"white-space:pre;overflow-x:auto;line-height:normal;font-family:Menlo,'DejaVu Sans Mono',consolas,'Courier New',monospace\">Titles Found: <span style=\"font-weight: bold\">[</span><span style=\"color: #008000; text-decoration-color: #008000\">'Chapter 22:'</span><span style=\"font-weight: bold\">]</span>.\n",
       "</pre>\n"
      ],
      "text/plain": [
       "Titles Found: \u001b[1m[\u001b[0m\u001b[32m'Chapter 22:'\u001b[0m\u001b[1m]\u001b[0m.\n"
      ]
     },
     "metadata": {},
     "output_type": "display_data"
    },
    {
     "name": "stderr",
     "output_type": "stream",
     "text": [
      "Parsing Thread The Last Angel: Ascension:  29%|##9       | 27/92 [00:34<01:12,  1.11s/it]"
     ]
    },
    {
     "data": {
      "text/html": [
       "<pre style=\"white-space:pre;overflow-x:auto;line-height:normal;font-family:Menlo,'DejaVu Sans Mono',consolas,'Courier New',monospace\">Titles Found: <span style=\"font-weight: bold\">[</span><span style=\"color: #008000; text-decoration-color: #008000\">'Quiet:  \\n  \\n3334 ACF:'</span><span style=\"font-weight: bold\">]</span>.\n",
       "</pre>\n"
      ],
      "text/plain": [
       "Titles Found: \u001b[1m[\u001b[0m\u001b[32m'Quiet:  \\n  \\n3334 ACF:'\u001b[0m\u001b[1m]\u001b[0m.\n"
      ]
     },
     "metadata": {},
     "output_type": "display_data"
    },
    {
     "name": "stderr",
     "output_type": "stream",
     "text": [
      "Parsing Thread The Last Angel: Ascension:  30%|###       | 28/92 [00:35<01:22,  1.29s/it]"
     ]
    },
    {
     "data": {
      "text/html": [
       "<pre style=\"white-space:pre;overflow-x:auto;line-height:normal;font-family:Menlo,'DejaVu Sans Mono',consolas,'Courier New',monospace\">Titles Found: <span style=\"font-weight: bold\">[]</span>.\n",
       "</pre>\n"
      ],
      "text/plain": [
       "Titles Found: \u001b[1m[\u001b[0m\u001b[1m]\u001b[0m.\n"
      ]
     },
     "metadata": {},
     "output_type": "display_data"
    },
    {
     "name": "stderr",
     "output_type": "stream",
     "text": [
      "Parsing Thread The Last Angel: Ascension:  32%|###1      | 29/92 [00:36<01:11,  1.14s/it]"
     ]
    },
    {
     "data": {
      "text/html": [
       "<pre style=\"white-space:pre;overflow-x:auto;line-height:normal;font-family:Menlo,'DejaVu Sans Mono',consolas,'Courier New',monospace\">Titles Found: <span style=\"font-weight: bold\">[</span><span style=\"color: #008000; text-decoration-color: #008000\">'Chapter 23:'</span><span style=\"font-weight: bold\">]</span>.\n",
       "</pre>\n"
      ],
      "text/plain": [
       "Titles Found: \u001b[1m[\u001b[0m\u001b[32m'Chapter 23:'\u001b[0m\u001b[1m]\u001b[0m.\n"
      ]
     },
     "metadata": {},
     "output_type": "display_data"
    },
    {
     "name": "stderr",
     "output_type": "stream",
     "text": [
      "Parsing Thread The Last Angel: Ascension:  33%|###2      | 30/92 [00:38<01:16,  1.23s/it]"
     ]
    },
    {
     "data": {
      "text/html": [
       "<pre style=\"white-space:pre;overflow-x:auto;line-height:normal;font-family:Menlo,'DejaVu Sans Mono',consolas,'Courier New',monospace\">Titles Found: <span style=\"font-weight: bold\">[</span><span style=\"color: #008000; text-decoration-color: #008000\">'Chapter 24:'</span>, <span style=\"color: #008000; text-decoration-color: #008000\">'Interregnum: Mercantile'</span><span style=\"font-weight: bold\">]</span>.\n",
       "</pre>\n"
      ],
      "text/plain": [
       "Titles Found: \u001b[1m[\u001b[0m\u001b[32m'Chapter 24:'\u001b[0m, \u001b[32m'Interregnum: Mercantile'\u001b[0m\u001b[1m]\u001b[0m.\n"
      ]
     },
     "metadata": {},
     "output_type": "display_data"
    },
    {
     "name": "stderr",
     "output_type": "stream",
     "text": [
      "Parsing Thread The Last Angel: Ascension:  34%|###3      | 31/92 [00:39<01:15,  1.23s/it]"
     ]
    },
    {
     "data": {
      "text/html": [
       "<pre style=\"white-space:pre;overflow-x:auto;line-height:normal;font-family:Menlo,'DejaVu Sans Mono',consolas,'Courier New',monospace\">Titles Found: <span style=\"font-weight: bold\">[</span><span style=\"color: #008000; text-decoration-color: #008000\">'some of them end up longer than drabbles, like this one.  \\n  \\n'</span>, <span style=\"color: #008000; text-decoration-color: #008000\">'Quiet:'</span><span style=\"font-weight: bold\">]</span>.\n",
       "</pre>\n"
      ],
      "text/plain": [
       "Titles Found: \u001b[1m[\u001b[0m\u001b[32m'some of them end up longer than drabbles, like this one.  \\n  \\n'\u001b[0m, \u001b[32m'Quiet:'\u001b[0m\u001b[1m]\u001b[0m.\n"
      ]
     },
     "metadata": {},
     "output_type": "display_data"
    },
    {
     "name": "stderr",
     "output_type": "stream",
     "text": [
      "Parsing Thread The Last Angel: Ascension:  35%|###4      | 32/92 [00:40<01:11,  1.19s/it]"
     ]
    },
    {
     "data": {
      "text/html": [
       "<pre style=\"white-space:pre;overflow-x:auto;line-height:normal;font-family:Menlo,'DejaVu Sans Mono',consolas,'Courier New',monospace\">Titles Found: <span style=\"font-weight: bold\">[</span><span style=\"color: #008000; text-decoration-color: #008000\">'The Last Angel: Names of the Demon Prologue:'</span>, <span style=\"color: #008000; text-decoration-color: #008000\">'Chapter 1: Skyfall'</span><span style=\"font-weight: bold\">]</span>.\n",
       "</pre>\n"
      ],
      "text/plain": [
       "Titles Found: \u001b[1m[\u001b[0m\u001b[32m'The Last Angel: Names of the Demon Prologue:'\u001b[0m, \u001b[32m'Chapter 1: Skyfall'\u001b[0m\u001b[1m]\u001b[0m.\n"
      ]
     },
     "metadata": {},
     "output_type": "display_data"
    },
    {
     "name": "stderr",
     "output_type": "stream",
     "text": [
      "Parsing Thread The Last Angel: Ascension:  36%|###5      | 33/92 [00:41<01:10,  1.19s/it]"
     ]
    },
    {
     "data": {
      "text/html": [
       "<pre style=\"white-space:pre;overflow-x:auto;line-height:normal;font-family:Menlo,'DejaVu Sans Mono',consolas,'Courier New',monospace\">Titles Found: <span style=\"font-weight: bold\">[</span><span style=\"color: #008000; text-decoration-color: #008000\">'The Last Angel: Predator, Prey - 01'</span><span style=\"font-weight: bold\">]</span>.\n",
       "</pre>\n"
      ],
      "text/plain": [
       "Titles Found: \u001b[1m[\u001b[0m\u001b[32m'The Last Angel: Predator, Prey - 01'\u001b[0m\u001b[1m]\u001b[0m.\n"
      ]
     },
     "metadata": {},
     "output_type": "display_data"
    },
    {
     "name": "stderr",
     "output_type": "stream",
     "text": [
      "Parsing Thread The Last Angel: Ascension:  37%|###6      | 34/92 [00:42<01:11,  1.23s/it]"
     ]
    },
    {
     "data": {
      "text/html": [
       "<pre style=\"white-space:pre;overflow-x:auto;line-height:normal;font-family:Menlo,'DejaVu Sans Mono',consolas,'Courier New',monospace\">Titles Found: <span style=\"font-weight: bold\">[</span><span style=\"color: #008000; text-decoration-color: #008000\">'Chapter 25:'</span><span style=\"font-weight: bold\">]</span>.\n",
       "</pre>\n"
      ],
      "text/plain": [
       "Titles Found: \u001b[1m[\u001b[0m\u001b[32m'Chapter 25:'\u001b[0m\u001b[1m]\u001b[0m.\n"
      ]
     },
     "metadata": {},
     "output_type": "display_data"
    },
    {
     "name": "stderr",
     "output_type": "stream",
     "text": [
      "Parsing Thread The Last Angel: Ascension:  38%|###8      | 35/92 [00:44<01:11,  1.26s/it]"
     ]
    }
   ],
   "source": [
    "# iterate over each selection in tla_links\n",
    "# each selection is a thread\n",
    "for thread in tla_links:\n",
    "    # iterate over each entry in the thread\n",
    "    for i, entry in enumerate(tqdm(\n",
    "            thread[\"entrys\"],\n",
    "            desc=f\"Parsing Thread {thread['title']}\",\n",
    "            ascii=True,\n",
    "            leave=True,\n",
    "            position=0)):\n",
    "\n",
    "        # run parse entry\n",
    "        parse_entry(thread['href'], entry[0], entry[1])\n"
   ]
  },
  {
   "cell_type": "code",
   "execution_count": null,
   "metadata": {},
   "outputs": [],
   "source": []
  }
 ],
 "metadata": {
  "kernelspec": {
   "display_name": "Python 3",
   "language": "python",
   "name": "python3"
  },
  "language_info": {
   "codemirror_mode": {
    "name": "ipython",
    "version": 3
   },
   "file_extension": ".py",
   "mimetype": "text/x-python",
   "name": "python",
   "nbconvert_exporter": "python",
   "pygments_lexer": "ipython3",
   "version": "3.11.4"
  },
  "orig_nbformat": 4
 },
 "nbformat": 4,
 "nbformat_minor": 2
}
